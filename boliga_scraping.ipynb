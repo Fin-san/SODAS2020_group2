{
 "cells": [
  {
   "cell_type": "code",
   "execution_count": 1,
   "metadata": {},
   "outputs": [],
   "source": [
    "import pandas as pd\n",
    "import numpy as np\n",
    "import matplotlib.pyplot as plt\n",
    "\n",
    "import tqdm.notebook as tqdm"
   ]
  },
  {
   "cell_type": "markdown",
   "metadata": {},
   "source": [
    "### Scraping Boliga website for data"
   ]
  },
  {
   "cell_type": "code",
   "execution_count": null,
   "metadata": {},
   "outputs": [],
   "source": []
  },
  {
   "cell_type": "code",
   "execution_count": 2,
   "metadata": {},
   "outputs": [],
   "source": [
    "import requests\n",
    "from bs4 import BeautifulSoup\n",
    "import re\n",
    "import json\n",
    "\n",
    "def houses_boliga(number_houses):\n",
    "    \"\"\"\n",
    "    Returns a list of all ids for houses on boliga\n",
    "    \"\"\"\n",
    "    house_id = list()\n",
    "    url = \"https://www.boliga.dk/resultat\"\n",
    "    \n",
    "    for i in range(int(number_houses/50)):\n",
    "        new_url = url + f\"?page={i}\"\n",
    "        response = requests.get(new_url)\n",
    "        html = response.text\n",
    "        soup = BeautifulSoup(html,\"html.parser\")\n",
    "        ids = soup.find_all(\"a\",{\"class\":\"house-list-item\"})\n",
    "        link_houses = list()\n",
    "\n",
    "        for link in ids:\n",
    "            link_houses.append(re.findall(\"(/\\d{4,}/)\",link[\"href\"])[0].replace(\"/\",\"\"))\n",
    "        \n",
    "        house_id.extend(link_houses)\n",
    "        \n",
    "    return house_id\n",
    "\n",
    "def get_info(id_list):\n",
    "    \n",
    "    \"\"\"\n",
    "    Take an list with ids of houses on boliga and gets specific data about these ids\n",
    "    \n",
    "    \"\"\"\n",
    "    all_df = list()\n",
    "    new_keys = [\"registeredArea\",\"downPayment\",\"estateUrl\",\"currentArchiveId\",\"forSaleNowId\",\n",
    "                \"foreclosureId\",\"selfsaleEstateId\",\"cleanStreet\",\"estateId\",\"latitude\",\"longitude\",\n",
    "               \"propertyType\",\"priceChangePercentTotal\",\"energyClass\",\"price\",\"rooms\",\"size\",\"lotSize\",\n",
    "               \"floor\",\"buildYear\",\"city\",\"isActive\",\"municipality\",\"zipCode\",\"street\",\n",
    "                \"squaremeterPrice\",\"daysForSale\",\"createdDate\",\"basementSize\",\"views\"]\n",
    "    \n",
    "    for house_id in id_list:\n",
    "        response = requests.get(f'https://api.boliga.dk/api/v2/estate/{house_id}')\n",
    "        response = response.json()\n",
    "        df_dict = {key: response[key] for key in new_keys}\n",
    "        df = pd.DataFrame(df_dict,index=[0])\n",
    "        all_df.append(df)\n",
    "\n",
    "    df = pd.concat(all_df,axis=0,ignore_index=True)\n",
    "    \n",
    "    return df\n",
    "\n",
    "def get_reviews(df):\n",
    "    bodys = list()\n",
    "    i=0\n",
    "    for link in tqdm.tqdm(df[\"estateUrl\"].values[50:70]):\n",
    "        i += 1\n",
    "        response = requests.get(link)\n",
    "        html = response.text\n",
    "        soup = BeautifulSoup(html,\"html.parser\")\n",
    "        \n",
    "        if link[8:15] ==\"home.dk\": #Home\n",
    "            ids = soup.find_all(\"div\",{\"class\":\"text\"},\"p\")\n",
    "            bodys.extend([x.p.text.replace(\"\\n\",\"\").strip().lower() for x in ids if len(x)>1])\n",
    "        elif link[8:15] ==\"ww.skbo\": #skbolig\n",
    "            ids = soup.find_all(\"div\",{\"class\":\"listing-text\"})\n",
    "            bodys.extend([sk.text.replace(\"\\n\",\"\").replace(\"\\r\",\"\").strip().lower() for sk in ids if len(sk)>1])\n",
    "        elif link[8:15] == \"www.nyb\": #Nybolig\n",
    "            ids = soup.find_all(\"div\",{\"class\":\"foldable-spot__container\"})\n",
    "            bodys.extend([ny.text.replace(\"\\n\",\"\").strip().lower() for ny in ids if len(ny)>1])\n",
    "        elif link [8:15] == \"ww.elto\": #Eltoft Nielsen\n",
    "            ids = soup.find_all(\"br\")\n",
    "            bodys.extend([elto.text.replace(\"\\n\",\"\").strip().lower() for elto in ids if len(elto)>1])\n",
    "        elif link[8:15] == \"www.cla\": #Claus Borg\n",
    "            ids = soup.find_all(\"div\",{\"id\":\"case_content\"})\n",
    "            bodys.extend([cla.text.replace(\"\\n\",\"\").strip().lower() for cla in ids if len(cla)>1])\n",
    "        elif link[8:15] == \"www.lok\": #Lokalbolig\n",
    "            ids = soup.find_all(\"p\")\n",
    "            loka = [lok.text.replace(\"\\n\",\"\").strip().lower() for lok in ids if len(lok.text)>100]\n",
    "            bodys.extend([''.join(loka)])\n",
    "        elif link[8:15] == \"www.edc\": #EDC Bolig\n",
    "            ids = soup.find_all(\"div\",{\"class\":\"description\"})\n",
    "            bodys.extend([edc.text.replace(\"\\n\",\"\").strip().lower() for edc in ids if len(edc)>1])\n",
    "        elif link[8:15] == \"adamsch\": #Adam Schnack\n",
    "            ids = soup.find_all(\"div\",{\"class\":\"listing-text\"})\n",
    "            bodys.extend([adam.text.replace(\"\\n\",\"\").strip().lower() for adam in ids if len(adam)>1])\n",
    "        elif link[8:15] == \"www.est\": #Estate\n",
    "            ids = soup.find_all(\"div\",{\"class\":\"property-description\"})\n",
    "            bodys.extend([est.text.replace(\"\\n\",\"\").strip().lower() for est in ids if len(est)>1])\n",
    "        elif link[8:15] == \"www.bri\": #Brikk Ejendomme\n",
    "            ids = soup.find_all(\"div\",{\"class\":\"prop-user-content\"})\n",
    "            bodys.extend([bri.text.replace(\"\\n\",\"\").strip().lower() for bri in ids if len(bri)>1])\n",
    "        elif link[8:15] == \"www.rea\": #Realmæglerne\n",
    "            ids = soup.find_all(\"div\",{\"class\":\"text-full\"})\n",
    "            bodys.extend([rea.text.replace(\"\\n\",\"\").strip().lower() for rea in ids if len(rea)>1])\n",
    "        elif link[8:15] == \"danboli\": #Danbolig\n",
    "            ids = soup.find_all(\"div\",{\"class\":\"db-description-block\"})\n",
    "            bodys.extend([dan.text.replace(\"\\n\",\"\").strip().lower() for dan in ids if len(dan)>1])\n",
    "        elif link[8:15] == \"ww.lili\": #Lillenhof\n",
    "            ids = soup.find_all(\"div\",{\"class\":\"inner\"})\n",
    "            bodys.extend([dan.text.replace(\"\\n\",\"\").strip().lower() for dan in ids if len(dan)>10])\n",
    "        elif link[8:15] == \"lbaeks.\": #elbæks\n",
    "            bodys.append(np.nan)\n",
    "        elif link[8:15] == \"ww.paul\":\n",
    "            bodys.append(np.nan)\n",
    "        elif link[8:15] == \"bjornby\":\n",
    "            ids = soup.find_all(\"div\",{\"class\":\"content d-md-block d-none wrap-content\"})\n",
    "            bodys.extend([bjor.text.replace(\"\\n\",\"\").strip() for bjor in ids if len(bjor)>10])\n",
    "        else:\n",
    "            print(link,\"not in loop\")\n",
    "            \n",
    "            \n",
    "        if len(bodys) != i:\n",
    "            bodys.append(np.nan)\n",
    "        \n",
    "    \n",
    "    return bodys\n",
    "\n",
    "def preprocess_csv(csv):\n",
    "    \"\"\"\n",
    "    This function loads the dataset from boliga annd preproccesses it.\n",
    "    \"\"\"\n",
    "    df = pd.read_csv(csv)\n",
    "    y = np.array(df[\"price\"])\n",
    "    \n",
    "    \n",
    "    \n",
    "    return df\n",
    "\n",
    "\n",
    "def preprocess_text():\n",
    "    \n",
    "    \n",
    "    return None\n"
   ]
  },
  {
   "cell_type": "code",
   "execution_count": 3,
   "metadata": {},
   "outputs": [
    {
     "data": {
      "text/plain": [
       "52093"
      ]
     },
     "execution_count": 3,
     "metadata": {},
     "output_type": "execute_result"
    }
   ],
   "source": [
    "df = preprocess_csv(\"house_data.csv\")\n",
    "len(np.array(df[\"estateUrl\"].values))"
   ]
  },
  {
   "cell_type": "code",
   "execution_count": 9,
   "metadata": {},
   "outputs": [],
   "source": [
    "location = list()\n",
    "for lon,lat in zip(df[\"longitude\"],df[\"latitude\"]):\n",
    "    location.append((lon,lat))\n",
    "    \n",
    "df[\"location\"] = location"
   ]
  },
  {
   "cell_type": "code",
   "execution_count": 10,
   "metadata": {},
   "outputs": [
    {
     "data": {
      "text/html": [
       "<div>\n",
       "<style scoped>\n",
       "    .dataframe tbody tr th:only-of-type {\n",
       "        vertical-align: middle;\n",
       "    }\n",
       "\n",
       "    .dataframe tbody tr th {\n",
       "        vertical-align: top;\n",
       "    }\n",
       "\n",
       "    .dataframe thead th {\n",
       "        text-align: right;\n",
       "    }\n",
       "</style>\n",
       "<table border=\"1\" class=\"dataframe\">\n",
       "  <thead>\n",
       "    <tr style=\"text-align: right;\">\n",
       "      <th></th>\n",
       "      <th>Unnamed: 0</th>\n",
       "      <th>lon</th>\n",
       "      <th>lat</th>\n",
       "    </tr>\n",
       "  </thead>\n",
       "  <tbody>\n",
       "    <tr>\n",
       "      <th>0</th>\n",
       "      <td>0</td>\n",
       "      <td>55.658215</td>\n",
       "      <td>8.730940</td>\n",
       "    </tr>\n",
       "    <tr>\n",
       "      <th>1</th>\n",
       "      <td>1</td>\n",
       "      <td>55.751927</td>\n",
       "      <td>8.717152</td>\n",
       "    </tr>\n",
       "    <tr>\n",
       "      <th>2</th>\n",
       "      <td>2</td>\n",
       "      <td>54.937063</td>\n",
       "      <td>9.612413</td>\n",
       "    </tr>\n",
       "    <tr>\n",
       "      <th>3</th>\n",
       "      <td>3</td>\n",
       "      <td>55.429704</td>\n",
       "      <td>10.488886</td>\n",
       "    </tr>\n",
       "    <tr>\n",
       "      <th>4</th>\n",
       "      <td>4</td>\n",
       "      <td>55.602028</td>\n",
       "      <td>8.805512</td>\n",
       "    </tr>\n",
       "  </tbody>\n",
       "</table>\n",
       "</div>"
      ],
      "text/plain": [
       "   Unnamed: 0        lon        lat\n",
       "0           0  55.658215   8.730940\n",
       "1           1  55.751927   8.717152\n",
       "2           2  54.937063   9.612413\n",
       "3           3  55.429704  10.488886\n",
       "4           4  55.602028   8.805512"
      ]
     },
     "execution_count": 10,
     "metadata": {},
     "output_type": "execute_result"
    }
   ],
   "source": [
    "df_station = pd.read_csv(\"stationsdata\")\n",
    "df_station.head()"
   ]
  },
  {
   "cell_type": "code",
   "execution_count": 12,
   "metadata": {},
   "outputs": [
    {
     "data": {
      "application/vnd.jupyter.widget-view+json": {
       "model_id": "d3e67b61da7441ce9eeeedd91b3690d7",
       "version_major": 2,
       "version_minor": 0
      },
      "text/plain": [
       "HBox(children=(FloatProgress(value=0.0, max=52093.0), HTML(value='')))"
      ]
     },
     "metadata": {},
     "output_type": "display_data"
    },
    {
     "name": "stdout",
     "output_type": "stream",
     "text": [
      "\n"
     ]
    },
    {
     "ename": "KeyboardInterrupt",
     "evalue": "",
     "output_type": "error",
     "traceback": [
      "\u001b[1;31m---------------------------------------------------------------------------\u001b[0m",
      "\u001b[1;31mKeyboardInterrupt\u001b[0m                         Traceback (most recent call last)",
      "\u001b[1;32m<ipython-input-12-d54f695ae2ec>\u001b[0m in \u001b[0;36m<module>\u001b[1;34m\u001b[0m\n\u001b[0;32m      6\u001b[0m     \u001b[0mdistance\u001b[0m \u001b[1;33m=\u001b[0m \u001b[0mlist\u001b[0m\u001b[1;33m(\u001b[0m\u001b[1;33m)\u001b[0m\u001b[1;33m\u001b[0m\u001b[1;33m\u001b[0m\u001b[0m\n\u001b[0;32m      7\u001b[0m     \u001b[1;32mfor\u001b[0m \u001b[0mlon\u001b[0m\u001b[1;33m,\u001b[0m\u001b[0mlat\u001b[0m \u001b[1;32min\u001b[0m \u001b[0mzip\u001b[0m\u001b[1;33m(\u001b[0m\u001b[0mdf_station\u001b[0m\u001b[1;33m[\u001b[0m\u001b[1;34m\"lon\"\u001b[0m\u001b[1;33m]\u001b[0m\u001b[1;33m,\u001b[0m\u001b[0mdf_station\u001b[0m\u001b[1;33m[\u001b[0m\u001b[1;34m\"lat\"\u001b[0m\u001b[1;33m]\u001b[0m\u001b[1;33m)\u001b[0m\u001b[1;33m:\u001b[0m\u001b[1;33m\u001b[0m\u001b[1;33m\u001b[0m\u001b[0m\n\u001b[1;32m----> 8\u001b[1;33m         \u001b[0mdistance\u001b[0m\u001b[1;33m.\u001b[0m\u001b[0mappend\u001b[0m\u001b[1;33m(\u001b[0m\u001b[0mgeodesic\u001b[0m\u001b[1;33m(\u001b[0m\u001b[1;33m(\u001b[0m\u001b[0mlat\u001b[0m\u001b[1;33m,\u001b[0m\u001b[0mlon\u001b[0m\u001b[1;33m)\u001b[0m\u001b[1;33m,\u001b[0m \u001b[0mlocation\u001b[0m\u001b[1;33m)\u001b[0m\u001b[1;33m.\u001b[0m\u001b[0mkm\u001b[0m\u001b[1;33m)\u001b[0m\u001b[1;33m\u001b[0m\u001b[1;33m\u001b[0m\u001b[0m\n\u001b[0m\u001b[0;32m      9\u001b[0m \u001b[1;33m\u001b[0m\u001b[0m\n\u001b[0;32m     10\u001b[0m     \u001b[0mmin_dist\u001b[0m\u001b[1;33m.\u001b[0m\u001b[0mappend\u001b[0m\u001b[1;33m(\u001b[0m\u001b[0mmin\u001b[0m\u001b[1;33m(\u001b[0m\u001b[0mdistance\u001b[0m\u001b[1;33m)\u001b[0m\u001b[1;33m)\u001b[0m\u001b[1;33m\u001b[0m\u001b[1;33m\u001b[0m\u001b[0m\n",
      "\u001b[1;32mC:\\ProgramData\\Anaconda3\\lib\\site-packages\\geopy\\distance.py\u001b[0m in \u001b[0;36m__init__\u001b[1;34m(self, *args, **kwargs)\u001b[0m\n\u001b[0;32m    416\u001b[0m         \u001b[0mself\u001b[0m\u001b[1;33m.\u001b[0m\u001b[0mset_ellipsoid\u001b[0m\u001b[1;33m(\u001b[0m\u001b[0mkwargs\u001b[0m\u001b[1;33m.\u001b[0m\u001b[0mpop\u001b[0m\u001b[1;33m(\u001b[0m\u001b[1;34m'ellipsoid'\u001b[0m\u001b[1;33m,\u001b[0m \u001b[1;34m'WGS-84'\u001b[0m\u001b[1;33m)\u001b[0m\u001b[1;33m)\u001b[0m\u001b[1;33m\u001b[0m\u001b[1;33m\u001b[0m\u001b[0m\n\u001b[0;32m    417\u001b[0m         \u001b[0mmajor\u001b[0m\u001b[1;33m,\u001b[0m \u001b[0mminor\u001b[0m\u001b[1;33m,\u001b[0m \u001b[0mf\u001b[0m \u001b[1;33m=\u001b[0m \u001b[0mself\u001b[0m\u001b[1;33m.\u001b[0m\u001b[0mELLIPSOID\u001b[0m\u001b[1;33m\u001b[0m\u001b[1;33m\u001b[0m\u001b[0m\n\u001b[1;32m--> 418\u001b[1;33m         \u001b[0msuper\u001b[0m\u001b[1;33m(\u001b[0m\u001b[1;33m)\u001b[0m\u001b[1;33m.\u001b[0m\u001b[0m__init__\u001b[0m\u001b[1;33m(\u001b[0m\u001b[1;33m*\u001b[0m\u001b[0margs\u001b[0m\u001b[1;33m,\u001b[0m \u001b[1;33m**\u001b[0m\u001b[0mkwargs\u001b[0m\u001b[1;33m)\u001b[0m\u001b[1;33m\u001b[0m\u001b[1;33m\u001b[0m\u001b[0m\n\u001b[0m\u001b[0;32m    419\u001b[0m \u001b[1;33m\u001b[0m\u001b[0m\n\u001b[0;32m    420\u001b[0m     \u001b[1;32mdef\u001b[0m \u001b[0mset_ellipsoid\u001b[0m\u001b[1;33m(\u001b[0m\u001b[0mself\u001b[0m\u001b[1;33m,\u001b[0m \u001b[0mellipsoid\u001b[0m\u001b[1;33m)\u001b[0m\u001b[1;33m:\u001b[0m\u001b[1;33m\u001b[0m\u001b[1;33m\u001b[0m\u001b[0m\n",
      "\u001b[1;32mC:\\ProgramData\\Anaconda3\\lib\\site-packages\\geopy\\distance.py\u001b[0m in \u001b[0;36m__init__\u001b[1;34m(self, *args, **kwargs)\u001b[0m\n\u001b[0;32m    199\u001b[0m         \u001b[1;32melif\u001b[0m \u001b[0mlen\u001b[0m\u001b[1;33m(\u001b[0m\u001b[0margs\u001b[0m\u001b[1;33m)\u001b[0m \u001b[1;33m>\u001b[0m \u001b[1;36m1\u001b[0m\u001b[1;33m:\u001b[0m\u001b[1;33m\u001b[0m\u001b[1;33m\u001b[0m\u001b[0m\n\u001b[0;32m    200\u001b[0m             \u001b[1;32mfor\u001b[0m \u001b[0ma\u001b[0m\u001b[1;33m,\u001b[0m \u001b[0mb\u001b[0m \u001b[1;32min\u001b[0m \u001b[0mutil\u001b[0m\u001b[1;33m.\u001b[0m\u001b[0mpairwise\u001b[0m\u001b[1;33m(\u001b[0m\u001b[0margs\u001b[0m\u001b[1;33m)\u001b[0m\u001b[1;33m:\u001b[0m\u001b[1;33m\u001b[0m\u001b[1;33m\u001b[0m\u001b[0m\n\u001b[1;32m--> 201\u001b[1;33m                 \u001b[0mkilometers\u001b[0m \u001b[1;33m+=\u001b[0m \u001b[0mself\u001b[0m\u001b[1;33m.\u001b[0m\u001b[0mmeasure\u001b[0m\u001b[1;33m(\u001b[0m\u001b[0ma\u001b[0m\u001b[1;33m,\u001b[0m \u001b[0mb\u001b[0m\u001b[1;33m)\u001b[0m\u001b[1;33m\u001b[0m\u001b[1;33m\u001b[0m\u001b[0m\n\u001b[0m\u001b[0;32m    202\u001b[0m \u001b[1;33m\u001b[0m\u001b[0m\n\u001b[0;32m    203\u001b[0m         \u001b[0mkilometers\u001b[0m \u001b[1;33m+=\u001b[0m \u001b[0munits\u001b[0m\u001b[1;33m.\u001b[0m\u001b[0mkilometers\u001b[0m\u001b[1;33m(\u001b[0m\u001b[1;33m**\u001b[0m\u001b[0mkwargs\u001b[0m\u001b[1;33m)\u001b[0m\u001b[1;33m\u001b[0m\u001b[1;33m\u001b[0m\u001b[0m\n",
      "\u001b[1;32mC:\\ProgramData\\Anaconda3\\lib\\site-packages\\geopy\\distance.py\u001b[0m in \u001b[0;36mmeasure\u001b[1;34m(self, a, b)\u001b[0m\n\u001b[0;32m    446\u001b[0m             \u001b[0mself\u001b[0m\u001b[1;33m.\u001b[0m\u001b[0mgeod\u001b[0m \u001b[1;33m=\u001b[0m \u001b[0mGeodesic\u001b[0m\u001b[1;33m(\u001b[0m\u001b[0mself\u001b[0m\u001b[1;33m.\u001b[0m\u001b[0mELLIPSOID\u001b[0m\u001b[1;33m[\u001b[0m\u001b[1;36m0\u001b[0m\u001b[1;33m]\u001b[0m\u001b[1;33m,\u001b[0m \u001b[0mself\u001b[0m\u001b[1;33m.\u001b[0m\u001b[0mELLIPSOID\u001b[0m\u001b[1;33m[\u001b[0m\u001b[1;36m2\u001b[0m\u001b[1;33m]\u001b[0m\u001b[1;33m)\u001b[0m\u001b[1;33m\u001b[0m\u001b[1;33m\u001b[0m\u001b[0m\n\u001b[0;32m    447\u001b[0m \u001b[1;33m\u001b[0m\u001b[0m\n\u001b[1;32m--> 448\u001b[1;33m         s12 = self.geod.Inverse(lat1, lon1, lat2, lon2,\n\u001b[0m\u001b[0;32m    449\u001b[0m                                 Geodesic.DISTANCE)['s12']\n\u001b[0;32m    450\u001b[0m \u001b[1;33m\u001b[0m\u001b[0m\n",
      "\u001b[1;32mC:\\ProgramData\\Anaconda3\\lib\\site-packages\\geographiclib\\geodesic.py\u001b[0m in \u001b[0;36mInverse\u001b[1;34m(self, lat1, lon1, lat2, lon2, outmask)\u001b[0m\n\u001b[0;32m   1033\u001b[0m     \"\"\"\n\u001b[0;32m   1034\u001b[0m \u001b[1;33m\u001b[0m\u001b[0m\n\u001b[1;32m-> 1035\u001b[1;33m     a12, s12, salp1,calp1, salp2,calp2, m12, M12, M21, S12 = self._GenInverse(\n\u001b[0m\u001b[0;32m   1036\u001b[0m       lat1, lon1, lat2, lon2, outmask)\n\u001b[0;32m   1037\u001b[0m     \u001b[0moutmask\u001b[0m \u001b[1;33m&=\u001b[0m \u001b[0mGeodesic\u001b[0m\u001b[1;33m.\u001b[0m\u001b[0mOUT_MASK\u001b[0m\u001b[1;33m\u001b[0m\u001b[1;33m\u001b[0m\u001b[0m\n",
      "\u001b[1;32mC:\\ProgramData\\Anaconda3\\lib\\site-packages\\geographiclib\\geodesic.py\u001b[0m in \u001b[0;36m_GenInverse\u001b[1;34m(self, lat1, lon1, lat2, lon2, outmask)\u001b[0m\n\u001b[0;32m    878\u001b[0m           \u001b[1;31m# WGS84 and random input: mean = 2.85, sd = 0.60\u001b[0m\u001b[1;33m\u001b[0m\u001b[1;33m\u001b[0m\u001b[1;33m\u001b[0m\u001b[0m\n\u001b[0;32m    879\u001b[0m           (v, salp2, calp2, sig12, ssig1, csig1, ssig2, csig2,\n\u001b[1;32m--> 880\u001b[1;33m            \u001b[0meps\u001b[0m\u001b[1;33m,\u001b[0m \u001b[0mdomg12\u001b[0m\u001b[1;33m,\u001b[0m \u001b[0mdv\u001b[0m\u001b[1;33m)\u001b[0m \u001b[1;33m=\u001b[0m \u001b[0mself\u001b[0m\u001b[1;33m.\u001b[0m\u001b[0m_Lambda12\u001b[0m\u001b[1;33m(\u001b[0m\u001b[1;33m\u001b[0m\u001b[1;33m\u001b[0m\u001b[0m\n\u001b[0m\u001b[0;32m    881\u001b[0m              \u001b[0msbet1\u001b[0m\u001b[1;33m,\u001b[0m \u001b[0mcbet1\u001b[0m\u001b[1;33m,\u001b[0m \u001b[0mdn1\u001b[0m\u001b[1;33m,\u001b[0m \u001b[0msbet2\u001b[0m\u001b[1;33m,\u001b[0m \u001b[0mcbet2\u001b[0m\u001b[1;33m,\u001b[0m \u001b[0mdn2\u001b[0m\u001b[1;33m,\u001b[0m\u001b[1;33m\u001b[0m\u001b[1;33m\u001b[0m\u001b[0m\n\u001b[0;32m    882\u001b[0m              \u001b[0msalp1\u001b[0m\u001b[1;33m,\u001b[0m \u001b[0mcalp1\u001b[0m\u001b[1;33m,\u001b[0m \u001b[0mslam12\u001b[0m\u001b[1;33m,\u001b[0m \u001b[0mclam12\u001b[0m\u001b[1;33m,\u001b[0m \u001b[0mnumit\u001b[0m \u001b[1;33m<\u001b[0m \u001b[0mGeodesic\u001b[0m\u001b[1;33m.\u001b[0m\u001b[0mmaxit1_\u001b[0m\u001b[1;33m,\u001b[0m\u001b[1;33m\u001b[0m\u001b[1;33m\u001b[0m\u001b[0m\n",
      "\u001b[1;32mC:\\ProgramData\\Anaconda3\\lib\\site-packages\\geographiclib\\geodesic.py\u001b[0m in \u001b[0;36m_Lambda12\u001b[1;34m(self, sbet1, cbet1, dn1, sbet2, cbet2, dn2, salp1, calp1, slam120, clam120, diffp, C1a, C2a, C3a)\u001b[0m\n\u001b[0;32m    691\u001b[0m         \u001b[0mdlam12\u001b[0m \u001b[1;33m=\u001b[0m \u001b[1;33m-\u001b[0m \u001b[1;36m2\u001b[0m \u001b[1;33m*\u001b[0m \u001b[0mself\u001b[0m\u001b[1;33m.\u001b[0m\u001b[0m_f1\u001b[0m \u001b[1;33m*\u001b[0m \u001b[0mdn1\u001b[0m \u001b[1;33m/\u001b[0m \u001b[0msbet1\u001b[0m\u001b[1;33m\u001b[0m\u001b[1;33m\u001b[0m\u001b[0m\n\u001b[0;32m    692\u001b[0m       \u001b[1;32melse\u001b[0m\u001b[1;33m:\u001b[0m\u001b[1;33m\u001b[0m\u001b[1;33m\u001b[0m\u001b[0m\n\u001b[1;32m--> 693\u001b[1;33m         dummy, dlam12, dummy, dummy, dummy = self._Lengths(\n\u001b[0m\u001b[0;32m    694\u001b[0m           \u001b[0meps\u001b[0m\u001b[1;33m,\u001b[0m \u001b[0msig12\u001b[0m\u001b[1;33m,\u001b[0m \u001b[0mssig1\u001b[0m\u001b[1;33m,\u001b[0m \u001b[0mcsig1\u001b[0m\u001b[1;33m,\u001b[0m \u001b[0mdn1\u001b[0m\u001b[1;33m,\u001b[0m \u001b[0mssig2\u001b[0m\u001b[1;33m,\u001b[0m \u001b[0mcsig2\u001b[0m\u001b[1;33m,\u001b[0m \u001b[0mdn2\u001b[0m\u001b[1;33m,\u001b[0m \u001b[0mcbet1\u001b[0m\u001b[1;33m,\u001b[0m \u001b[0mcbet2\u001b[0m\u001b[1;33m,\u001b[0m\u001b[1;33m\u001b[0m\u001b[1;33m\u001b[0m\u001b[0m\n\u001b[0;32m    695\u001b[0m           Geodesic.REDUCEDLENGTH, C1a, C2a)\n",
      "\u001b[1;32mC:\\ProgramData\\Anaconda3\\lib\\site-packages\\geographiclib\\geodesic.py\u001b[0m in \u001b[0;36m_Lengths\u001b[1;34m(self, eps, sig12, ssig1, csig1, dn1, ssig2, csig2, dn2, cbet1, cbet2, outmask, C1a, C2a)\u001b[0m\n\u001b[0;32m    465\u001b[0m         \u001b[0mC2a\u001b[0m\u001b[1;33m[\u001b[0m\u001b[0ml\u001b[0m\u001b[1;33m]\u001b[0m \u001b[1;33m=\u001b[0m \u001b[0mA1\u001b[0m \u001b[1;33m*\u001b[0m \u001b[0mC1a\u001b[0m\u001b[1;33m[\u001b[0m\u001b[0ml\u001b[0m\u001b[1;33m]\u001b[0m \u001b[1;33m-\u001b[0m \u001b[0mA2\u001b[0m \u001b[1;33m*\u001b[0m \u001b[0mC2a\u001b[0m\u001b[1;33m[\u001b[0m\u001b[0ml\u001b[0m\u001b[1;33m]\u001b[0m\u001b[1;33m\u001b[0m\u001b[1;33m\u001b[0m\u001b[0m\n\u001b[0;32m    466\u001b[0m       J12 = m0x * sig12 + (Geodesic._SinCosSeries(True, ssig2, csig2, C2a) -\n\u001b[1;32m--> 467\u001b[1;33m                            Geodesic._SinCosSeries(True, ssig1, csig1, C2a))\n\u001b[0m\u001b[0;32m    468\u001b[0m     \u001b[1;32mif\u001b[0m \u001b[0moutmask\u001b[0m \u001b[1;33m&\u001b[0m \u001b[0mGeodesic\u001b[0m\u001b[1;33m.\u001b[0m\u001b[0mREDUCEDLENGTH\u001b[0m\u001b[1;33m:\u001b[0m\u001b[1;33m\u001b[0m\u001b[1;33m\u001b[0m\u001b[0m\n\u001b[0;32m    469\u001b[0m       \u001b[0mm0\u001b[0m \u001b[1;33m=\u001b[0m \u001b[0mm0x\u001b[0m\u001b[1;33m\u001b[0m\u001b[1;33m\u001b[0m\u001b[0m\n",
      "\u001b[1;32mC:\\ProgramData\\Anaconda3\\lib\\site-packages\\geographiclib\\geodesic.py\u001b[0m in \u001b[0;36m_SinCosSeries\u001b[1;34m(sinp, sinx, cosx, c)\u001b[0m\n\u001b[0;32m    126\u001b[0m     \u001b[1;31m# using Clenshaw summation.  N.B. c[0] is unused for sin series\u001b[0m\u001b[1;33m\u001b[0m\u001b[1;33m\u001b[0m\u001b[1;33m\u001b[0m\u001b[0m\n\u001b[0;32m    127\u001b[0m     \u001b[1;31m# Approx operation count = (n + 5) mult and (2 * n + 2) add\u001b[0m\u001b[1;33m\u001b[0m\u001b[1;33m\u001b[0m\u001b[1;33m\u001b[0m\u001b[0m\n\u001b[1;32m--> 128\u001b[1;33m     \u001b[0mk\u001b[0m \u001b[1;33m=\u001b[0m \u001b[0mlen\u001b[0m\u001b[1;33m(\u001b[0m\u001b[0mc\u001b[0m\u001b[1;33m)\u001b[0m                  \u001b[1;31m# Point to one beyond last element\u001b[0m\u001b[1;33m\u001b[0m\u001b[1;33m\u001b[0m\u001b[0m\n\u001b[0m\u001b[0;32m    129\u001b[0m     \u001b[0mn\u001b[0m \u001b[1;33m=\u001b[0m \u001b[0mk\u001b[0m \u001b[1;33m-\u001b[0m \u001b[0msinp\u001b[0m\u001b[1;33m\u001b[0m\u001b[1;33m\u001b[0m\u001b[0m\n\u001b[0;32m    130\u001b[0m     \u001b[0mar\u001b[0m \u001b[1;33m=\u001b[0m \u001b[1;36m2\u001b[0m \u001b[1;33m*\u001b[0m \u001b[1;33m(\u001b[0m\u001b[0mcosx\u001b[0m \u001b[1;33m-\u001b[0m \u001b[0msinx\u001b[0m\u001b[1;33m)\u001b[0m \u001b[1;33m*\u001b[0m \u001b[1;33m(\u001b[0m\u001b[0mcosx\u001b[0m \u001b[1;33m+\u001b[0m \u001b[0msinx\u001b[0m\u001b[1;33m)\u001b[0m \u001b[1;31m# 2 * cos(2 * x)\u001b[0m\u001b[1;33m\u001b[0m\u001b[1;33m\u001b[0m\u001b[0m\n",
      "\u001b[1;31mKeyboardInterrupt\u001b[0m: "
     ]
    }
   ],
   "source": [
    "from geopy.distance import geodesic\n",
    "from tqdm.notebook import tqdm\n",
    "min_dist = list()\n",
    "\n",
    "for location in tqdm(df[\"location\"]):\n",
    "    distance = list()\n",
    "    for lon,lat in zip(df_station[\"lon\"],df_station[\"lat\"]):\n",
    "        distance.append(geodesic((lat,lon), location).km)\n",
    "    \n",
    "    min_dist.append(min(distance))\n",
    "    \n",
    "min_dist"
   ]
  },
  {
   "cell_type": "code",
   "execution_count": null,
   "metadata": {},
   "outputs": [],
   "source": [
    "df[\"dist_station\"] = min_dist\n",
    "df.to_csv(\"house_data_staion.csv\")"
   ]
  },
  {
   "cell_type": "code",
   "execution_count": 11,
   "metadata": {},
   "outputs": [
    {
     "data": {
      "text/plain": [
       "[Synset('dog.n.01')]"
      ]
     },
     "execution_count": 11,
     "metadata": {},
     "output_type": "execute_result"
    }
   ],
   "source": [
    "from nltk.corpus import wordnet as wn\n",
    "wn.synsets(\"hund\", lang=\"dan\")"
   ]
  },
  {
   "cell_type": "code",
   "execution_count": 12,
   "metadata": {},
   "outputs": [],
   "source": [
    "synonyms = []\n",
    "antonyms = []\n",
    "for syn in wordnet.synsets(\"hund\",lang=\"dan\"):\n",
    "    for l in syn.lemmas():\n",
    "        synonyms.append(l.name())\n",
    "        if l.antonyms():\n",
    "            antonyms.append(l.antonyms()[0].name())"
   ]
  },
  {
   "cell_type": "code",
   "execution_count": 13,
   "metadata": {},
   "outputs": [
    {
     "data": {
      "text/plain": [
       "['dog', 'domestic_dog', 'Canis_familiaris']"
      ]
     },
     "execution_count": 13,
     "metadata": {},
     "output_type": "execute_result"
    }
   ],
   "source": [
    "synonyms"
   ]
  },
  {
   "cell_type": "code",
   "execution_count": null,
   "metadata": {},
   "outputs": [],
   "source": []
  }
 ],
 "metadata": {
  "kernelspec": {
   "display_name": "Python 3",
   "language": "python",
   "name": "python3"
  },
  "language_info": {
   "codemirror_mode": {
    "name": "ipython",
    "version": 3
   },
   "file_extension": ".py",
   "mimetype": "text/x-python",
   "name": "python",
   "nbconvert_exporter": "python",
   "pygments_lexer": "ipython3",
   "version": "3.8.3"
  }
 },
 "nbformat": 4,
 "nbformat_minor": 4
}
