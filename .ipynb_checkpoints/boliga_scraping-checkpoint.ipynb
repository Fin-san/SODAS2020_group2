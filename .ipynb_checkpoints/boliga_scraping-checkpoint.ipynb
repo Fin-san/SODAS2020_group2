{
 "cells": [
  {
   "cell_type": "code",
   "execution_count": 358,
   "metadata": {},
   "outputs": [],
   "source": [
    "import pandas as pd\n",
    "import numpy as np\n",
    "import matplotlib.pyplot as plt\n",
    "\n",
    "import tqdm.notebook as tqdm"
   ]
  },
  {
   "cell_type": "markdown",
   "metadata": {},
   "source": [
    "### Scraping Boliga website for data"
   ]
  },
  {
   "cell_type": "code",
   "execution_count": null,
   "metadata": {},
   "outputs": [],
   "source": []
  },
  {
   "cell_type": "code",
   "execution_count": 361,
   "metadata": {},
   "outputs": [],
   "source": [
    "import requests\n",
    "from bs4 import BeautifulSoup\n",
    "import re\n",
    "import json\n",
    "\n",
    "def houses_boliga(number_houses):\n",
    "    \"\"\"\n",
    "    Returns a list of all ids for houses on boliga\n",
    "    \"\"\"\n",
    "    house_id = list()\n",
    "    url = \"https://www.boliga.dk/resultat?\"\n",
    "    \n",
    "    for i in range(int(number_houses/50)):\n",
    "        new_url = url + f\"?page={i}\"\n",
    "        response = requests.get(new_url)\n",
    "        html = response.text\n",
    "        soup = BeautifulSoup(html,\"html.parser\")\n",
    "        ids = soup.find_all(\"a\",{\"class\":\"house-list-item\"})\n",
    "        link_houses = list()\n",
    "\n",
    "        for link in ids:\n",
    "            link_houses.append(re.findall(\"(/\\d{4,}/)\",link[\"href\"])[0].replace(\"/\",\"\"))\n",
    "        \n",
    "        house_id.extend(link_houses)\n",
    "        \n",
    "    return house_id\n",
    "\n",
    "def get_info(id_list):\n",
    "    \n",
    "    \"\"\"\n",
    "    Take an list with ids of houses on boliga and gets specific data about these ids\n",
    "    \n",
    "    \"\"\"\n",
    "    all_df = list()\n",
    "    new_keys = [\"registeredArea\",\"downPayment\",\"estateUrl\",\"currentArchiveId\",\"forSaleNowId\",\n",
    "                \"foreclosureId\",\"selfsaleEstateId\",\"cleanStreet\",\"estateId\",\"latitude\",\"longitude\",\n",
    "               \"propertyType\",\"priceChangePercentTotal\",\"energyClass\",\"price\",\"rooms\",\"size\",\"lotSize\",\n",
    "               \"floor\",\"buildYear\",\"city\",\"isActive\",\"municipality\",\"zipCode\",\"street\",\n",
    "                \"squaremeterPrice\",\"daysForSale\",\"createdDate\",\"basementSize\",\"views\"]\n",
    "    \n",
    "    for house_id in id_list:\n",
    "        response = requests.get(f'https://api.boliga.dk/api/v2/estate/{house_id}')\n",
    "        response = response.json()\n",
    "        df_dict = {key: response[key] for key in new_keys}\n",
    "        df = pd.DataFrame(df_dict,index=[0])\n",
    "        all_df.append(df)\n",
    "        \n",
    "    df = pd.concat(all_df,axis=0,ignore_index=True)\n",
    "    \n",
    "    return df\n",
    "\n",
    "def get_reviews(df):\n",
    "    bodys = list()\n",
    "    i=0\n",
    "    for link in tqdm.tqdm(df[\"estateUrl\"].values[100:110]):\n",
    "        i += 1\n",
    "        response = requests.get(link)\n",
    "        html = response.text\n",
    "        soup = BeautifulSoup(html,\"html.parser\")\n",
    "        \n",
    "        if link[8:15] ==\"home.dk\": #Home\n",
    "            ids = soup.find_all(\"div\",{\"class\":\"text\"},\"p\")\n",
    "            bodys.extend([x.p.text.replace(\"\\n\",\"\").strip() for x in ids if len(x)>1])\n",
    "        elif link[8:15] ==\"ww.skbo\": #skbolig\n",
    "            ids = soup.find_all(\"div\",{\"class\":\"listing-text\"})\n",
    "            bodys.extend([sk.text.replace(\"\\n\",\"\").replace(\"\\r\",\"\").strip() for sk in ids if len(sk)>1])\n",
    "        elif link[8:15] == \"www.nyb\": #Nybolig\n",
    "            ids = soup.find_all(\"div\",{\"class\":\"foldable-spot__container\"})\n",
    "            bodys.extend([ny.text.replace(\"\\n\",\"\").strip() for ny in ids if len(ny)>1])\n",
    "        elif link [8:15] == \"ww.elto\": #Eltoft Nielsen\n",
    "            ids = soup.find_all(\"br\")\n",
    "            bodys.extend([elto.text.replace(\"\\n\",\"\").strip() for elto in ids if len(elto)>1])\n",
    "        elif link[8:15] == \"www.cla\": #Claus Borg\n",
    "            ids = soup.find_all(\"div\",{\"id\":\"case_content\"})\n",
    "            bodys.extend([cla.text.replace(\"\\n\",\"\").strip() for cla in ids if len(cla)>1])\n",
    "        elif link[8:15] == \"www.lok\": #Lokalbolig\n",
    "            ids = soup.find_all(\"p\")\n",
    "            loka = [lok.text.replace(\"\\n\",\"\").strip() for lok in ids if len(lok.text)>100]\n",
    "            bodys.extend([''.join(loka)])\n",
    "        elif link[8:15] == \"www.edc\": #EDC Bolig\n",
    "            ids = soup.find_all(\"div\",{\"class\":\"description\"})\n",
    "            bodys.extend([edc.text.replace(\"\\n\",\"\").strip() for edc in ids if len(edc)>1])\n",
    "        elif link[8:15] == \"adamsch\": #Adam Schnack\n",
    "            ids = soup.find_all(\"div\",{\"class\":\"listing-text\"})\n",
    "            bodys.extend([adam.text.replace(\"\\n\",\"\").strip() for adam in ids if len(adam)>1])\n",
    "        elif link[8:15] == \"www.est\": #Estate\n",
    "            ids = soup.find_all(\"div\",{\"class\":\"property-description\"})\n",
    "            bodys.extend([est.text.replace(\"\\n\",\"\").strip() for est in ids if len(est)>1])\n",
    "        elif link[8:15] == \"www.bri\": #Brikk Ejendomme\n",
    "            ids = soup.find_all(\"div\",{\"class\":\"prop-user-content\"})\n",
    "            bodys.extend([bri.text.replace(\"\\n\",\"\").strip() for bri in ids if len(bri)>1])\n",
    "        elif link[8:15] == \"www.rea\": #Realmæglerne\n",
    "            ids = soup.find_all(\"div\",{\"class\":\"text-full\"})\n",
    "            bodys.extend([rea.text.replace(\"\\n\",\"\").strip() for rea in ids if len(rea)>1])\n",
    "        elif link[8:15] == \"danboli\": #Danbolig\n",
    "            ids = soup.find_all(\"div\",{\"class\":\"db-description-block\"})\n",
    "            bodys.extend([dan.text.replace(\"\\n\",\"\").strip() for dan in ids if len(dan)>1])\n",
    "        elif link[8:15] == \"ww.lili\": #Lillenhof\n",
    "            ids = soup.find_all(\"div\",{\"class\":\"inner\"})\n",
    "            bodys.extend([dan.text.replace(\"\\n\",\"\").strip() for dan in ids if len(dan)>10])\n",
    "        elif link[8:15] == \"lbaeks.\": #elbæks\n",
    "            bodys.append(np.nan)\n",
    "        elif link[8:15] == \"ww.paul\":\n",
    "            bodys.append(np.nan)\n",
    "        elif link[8:15] == \"bjornby\":\n",
    "            ids = soup.find_all(\"div\",{\"class\":\"content d-md-block d-none wrap-content\"})\n",
    "            bodys.extend([bjor.text.replace(\"\\n\",\"\").strip() for bjor in ids if len(bjor)>10])\n",
    "        else:\n",
    "            print(link,\"not in loop\")\n",
    "            \n",
    "            \n",
    "        if len(bodys) != i:\n",
    "            bodys.append(np.nan)\n",
    "        \n",
    "    \n",
    "    return bodys\n",
    "\n",
    "def read_boliga(csv):\n",
    "    \"\"\"\n",
    "    This function loads the dataset from boliga annd preproccesses it.\n",
    "    \"\"\"\n",
    "    \n",
    "    df = pd.read_csv(csv)\n",
    "    y = np.array(df[\"price\"])\n",
    "    \n",
    "    \n",
    "    \n",
    "    return df\n"
   ]
  },
  {
   "cell_type": "code",
   "execution_count": 362,
   "metadata": {},
   "outputs": [
    {
     "data": {
      "application/vnd.jupyter.widget-view+json": {
       "model_id": "6b3e16d651bf44dbb599b74d157d9aa1",
       "version_major": 2,
       "version_minor": 0
      },
      "text/plain": [
       "HBox(children=(FloatProgress(value=0.0, max=10.0), HTML(value='')))"
      ]
     },
     "metadata": {},
     "output_type": "display_data"
    },
    {
     "name": "stdout",
     "output_type": "stream",
     "text": [
      "\n"
     ]
    },
    {
     "data": {
      "text/plain": [
       "['Det berømte Nyhavn er en af Københavns allerstørste turistattraktioner, hvor historiske, farvestrålende og spændende huse kan opleves, hyggelige restauranter besøges og de fascinerende både betragtes. På trods af den livlige atmosfære, gemmer der sig bag glasporten i Nyhavn 31 en skøn og rolig baggård, hvor lige præcis denne drømmelejlighed er placeret. \\xa0En lille trappe sørger for, at I får jeres helt egen private indgang til den højtbeliggende stuelejlighed. I træder ind i det store leverum, hvor køkken og stue ligger i en pragtfuld, lys og åben kombination. Hvide vægge, gulve og loft samt blottede bjælker pryder indretningen, og tilfører et moderne, rå udtryk, som inviterer til sociale sammenkomster, harmoniske aftener foran brændeovnen samt lækker madlavning i det flotte køkken.\\xa0Det store, indretningsvenlige soveværelse kan prale med et stort indbygget skab, som I også finder i entréen, så I ikke behøver at bekymre jer om opbevaringsplads. Det sidste stop på turen er det elegante badeværelse, hvor der er både vindue, vaskefaciliteter og separat brus.\\xa0\\xa0Boligen er beliggende i smukke omgivelser i en unik, historisk ejendom fra 1800-tallet. Lige ude foran den stille oase af en baggård, har I Nyhavns fantastiske liv, hvor der altid er noget at se, spise og opleve. Den særdeles attraktive adresse betyder, at I er tæt på alt det, I skal bruge, og mere til. Kongens Nytorv Metrostation, Strøget, Amalienborg, Ofelia Beach og utallige butikker, indkøbsmuligheder, restauranter og cafeer er lige rundt om hjørnet. \\xa0\\xa0Kontakt os for en fremvisning i dag – og bliv lige så forelskede, som vi er!',\n",
       " 'Gennem århundreder har de maleriske huse i Nyhavn været hjemsted for mestre i ballet, billedkunst og poesi, og nu er denne toplanslejlighed klar til at tage imod en af nutidens store livskunstnere.Bliver det dig, kan du se frem til en hverdag i en mesterligt istandsat liebhaverlejlighed, der ikke bare ligger på solsiden, men tilmed på toppen af Nyhavn. Lejligheden er placeret øverst i en af Nyhavns højeste ejendomme, så du  kommer til at bo højere oppe end masterne på havnens gamle skonnerter, der er dine vuggende naboer.Det giver eminente lysindfald i lejligheden, ligesom begge plan byder på en udsigt, der hører til blandt byens bedste. Fra lejligheden kan øjet frit panorere over det yndede postkortmotiv med Nyhavns farverige huse, ligesom der er kig til byens irgrønne spir, Kongens Nytorv og en stor bid af himlen over København.Med en dåbsattest fra år 1700 er ejendommen en af de ældste i Nyhavn. Originale indslag som synlige loftsbjælker er velbevarede og blander sig smagfuldt med det stilrene og moderne design i lejligheden, der er præget af kvalitet på samtlige 166 kvadratmeter.Lejligheden er indrettet med entré, køkken, stue og gæstetoilet i det nedre plan, mens det øvre plan byder på en stor soveafdeling og et badeværelse.De lækre features er talrige og omfatter blandt andet brede fyrretræsplanker, der pryder køkken, stue og soveafdelingen.Det åbne køkken har Geba-elementer, Gaggenau-hvidevarer og belysning fra Floss, mens lysdioder i blandingsbatteriet fra italienske Guglielmi leverer vand i blåt eller rødt afhængig af temperaturen. Gæstetoilettet har sanitet, vask og væghængt toilet fra Globo, mens badeværelset forkæler dig med gulvvarme, jacuzzi og en bruseniche, hvor dagens bad kan nydes i selskab med udsigt over byen.Livet i denne eksklusive ramme er præget af stilhed, idet den høje placering løfter lejligheden tilpas højt op over Nyhavns mangfoldige liv. Samtidig er adressen central med alle Københavns tilbud lige uden for døren.Med andre ord: en lejlighed, der kræver en livsnyder af format. Et det dig? Så kontakt Nybolig, og vi sørger for en fremvisning.HAR DU EN BOLIG DER SKAL SÆLGES? SÅ RING STRAKS TIL NYBOLIG PÅ TELEFON 3259-7749 ELLER MAIL HERTIL: 2302@NYBOLIG.DK',\n",
       " 'Liebhaveri og stilhed med privat gårdhave og fælles tagterrasse.                            KvarteretVel nok én af byens hyggeligste, smukkeste og mest kendte kvarterer. Området omkring Nyhavn og Kongens Nytorv emmer af charme. Hyggelige caféer både mod Nyhavn og i de stille gader bag Nyhavn. Metroen kører på Kongens Nytorv og der er masser af indkøbsmuligheder.EjendommenEn smuk og gennemrenoveret ejendom, der er opført i 1780. Ejendommen, der ligger på den stille side af Nyhavn, består af forhus, sidehus og baghus, hvor denne unikke lejlighed ligger. Der er dørtelefon med kamera, brostensbelagt gård, kabel-TV og stille, ugeneret fælles tagterrasse.LejlighedenEn helt unik citylejlighed midt i dronningens København og alligevel helt stille, med masser af lys. Du træder ind i entre med indbygget garderobeskab, herfra videre til \"Leverummet\" i form af det store åbne køkken fra Køkkensnedkeren i forbindelse til stuen, der er opdelt i et spiseafsnit og et opholdsafsnit. Herfra er der store terrassedøre mod den charmerende brostensbelagte gårdhave som deles med naboen. Der er stort master bedroom med direkte adgang til walk-in closet.. Derudover 2 gode børne-/arbejdsværelser, begge med terassedøre til den forreste fællesgård. Stort lækkert brusebadeværelse samt gæstetoilet. En lejlighed langt udover det sædvanlige hvor alt er renoveret.',\n",
       " 'Udsigtslejlighed med egen privat garage på Nyhavn\\x92s stille side                            KvarteretNyhavn er opført for 250 år siden i 1770. Kvarteret blev oprindelig bygget til købmænd og søensolk. Efterhånden flyttede borgerskabet ind, og i dag fremstår den idylliske havn som et varemærke for København. Der er et kæmpe udbud af caféer og restauranter, og den centrale beliggenhed gør, at så godt som alle de andre seværdigheder i Frederiksstaden kan nås på få minutter. Metroen fanges nemt på Kongens Nytorv.EjendommenNyhavn 12\\x92s vidunderlig facade er meget markant og uden tvivl en af de flotteste ejendomme i Nyhavn. Ejendommen huser én lejlighed per etage og i den brostensbelagte gård findes PRIVAT GARAGE som ejes af denne lejlighed. Ejendommen er fredet og dermed fritaget for ejendomsskat og energimærke.LejlighedenLige ved hovededøren er der indgang til disponibel rum med masser af garderobeplads. Fin entré men adgang til Master bedroom, der ligger stille mod den hyggelige gård. I lejligheden findes tre stuer en suite med høje paneler, smukke fyldningsdøre og mange fine detaljer der leder tankerne tilbage til 1780 - hvor ejendommen blev opført. Alle tre stuer har fantastisk udsigt over til Nyhavns mere festlige café-side. Via fin mellemgang med indbygget skabe ankommer du først til et nydeligt toilet og derefter skønt badeværelse med lækre klinker, badekar og separat brus. Enestående køkken alrum på over 50m2 med pejs og fransk altan. Dette er lejlighedens hjerte, da hele den store familie kan samles i dette leverum.Velkommen hjem til Nyhavn',\n",
       " 'Denne lejlighed imponerer på alle parametre. Den fremtræder med uforlignelige moderne og stilrene løsninger, der elegant blandes med den gamle bygnings oprindelige æstetik.Ligeledes er beliggenheden på Nyhavn helt exceptionel, der giver et rigt potentiale for at tage del i byens liv og mange kulturelle arrangementer.Fra adressen har I på helt tæt hold adgang til alt det bedste, København kan tilbyde. Nyhavn er naturligvis dragende, men tilsvarende får I også Charlottenborg, Kongens Nytorv og Operaen i gåafstand. Hverdagens gøremål er ligeledes nær ved, hvilket også gælder for den offentlige trafik.Broderparten af beboelsesarealet allokeres til de to sammenhængende stuer, der naturligt fordeles som henholdsvis spisestue og dagligstue. I spisestuen pryder et Boffi stålkøkken, som netop i kraft af den tydelige kontrast til den ældre bygnings æstetik, træder særdeles elegant frem.I begge stuer ses høje glaspartier, der lukker et behageligt lys ind, og lofterne er ført således, at bjælkerne er blotlagte – dette i kombination med de rummelige stuer skaber en fortrinlig atmosfære.Fra spisestuen er der adgang til soveværelset, der er arrangeret med ovenlysvinduer, faste skabe og tilknyttet Boffi badeværelse med en betragtelig bruseniche. Det andet Boffi badeværelse tilgås fra dagligstuen, og begge badeværelser er udført med store klinker og et nydeligt, moderne design. Det ene badeværelse byder endvidere på vaskefaciliteter.Gårdmiljøet tager sig fint ud, og her er masser af plads til at opstille alt fra havemøbler til solsenge. Udendørsarealet er eminent en varm sommerdag og danner en suveræn ramme om en grillaften i gode venners selskab.',\n",
       " 'Nyhavn 53, 1., 1051 København KNYHAVN – DIREKTE TIL KANALENHelt enestående og smuk herskabslejlighed med 274 m² bolig i et plan direkte ud til Nyhavns Kanal, roligt beliggende på 1. sal i smuk fredet ejendom fra 1755 i Madam Toftes Gaard.Præsentabel ankomst til lejligheden via brostensbelagt gård med (mulighed for etablering af elevator) byder velkommen til lejligheden.Lejligheden indeholder 274 m² smagfuld istandsat bolig, hvoraf de 42 m² pt. er indrettet som selvstændig bolig med egen indgang, eget køkken og badeværelse. Hovedlejligheden på 232 m² byder bl.a. på 2 højloftede stuer en-suite med høje smukke vinduespartier direkte til Nyhavns Kanal, imponerende spisestue med fint view gennem den ene stue ligeledes til Kanalen.Mellemgang, stort moderne badeværelse med separat bruseafdeling og badekar, stort forældresoveværelse samt 2 gode værelser. Dejligt stort køkken-alrum med spiseplads i forlængelse til bryggers og fadebur.Endvidere separat toilet. Den selvstændige lille lejlighed er indrettet med entre, moderne badeværelse, soveværelse og skøn stue direkte til Kanalen.Lejlighederne fremtræder overalt i en særdeles høj og smagfuld stand med bl.a. smukke parketgulve, høje paneler og renoverede badeværelser og køkken.',\n",
       " 'ANDEL - Vidunderlig lejlighed på Gammelholmen med kommende altan                            Bemærk den lave boligafgift (Sammenlign med ejerudgift på ejerlejlighed)KvarteretLejligheden er beliggende i byens mest eftertragtede kvarter. Området bag Det Kongelige Teater er også kendt som \"Gammelholmen\". Kvarteret er præget af flotte, brede, solrige og stille gader \\x96 Herluf Trolles Gade er bestemt ingen undtagelse hertil. De mange elegante facader blev til efter skibsværfterne, flyttede til Nyholm (kendt som Holmen) i 1859. Der er kun 100 meter til havnefronten, Nyhavn og Kongens Nytorv, hermed også Metro og Strøget. Kvarteret oser af den Københavnske charme og er samtidig en stille oase.EjendommenMåske byens bedste andelsboligforening? Forening stiftet i 1980 med billig boligafgift, da der er 8 butikker i foreningen som andelsboligforeningen ejer. Ingen huslejestigning de sidste 15 år. Vedligeholdt ejendom med flot facade der leder tankerne hen på det gamle herskabelige København. Flot elegant port og indgangsparti med høje paneler og smukke udskæringer. Foreningen består af 17 andele med et suverænt naboskab hvor man hjælper hinanden. Gården er enestående og nydes af folk i alle aldre. Der er er loftrum, cykelkæder og værksted. Der kommer nye bagtrappedøre, nyt kalkfrit anlæg og altanansøgningen mangler kun de sidste småting inde hos kommunen.LejlighedenFin entré. Stort lækkert moderne køkken/alrum som fremstår i smart kontrast til den gamle stil. Her er plads til at den store familie kan udfolde sig med køkkengryderne, mens gæster og familien er samlet. Der er noget så unikt som buede døre og så naturligvis med oprindelig stuk. Lækker stue med masser lys og luft. De kolde vinteraftener kan vinen og den hyggelige aftensstund nydes foran brændeovnen. Fra køkken/alrummet og stuen er der det skønneste himmelkig ud over den smukke lave bygning på den anden side af gaden. Charmerende badeværelse med separat brus, vaskesøjle og fin marmorbordplade. Hyggeligt børneværelse som er godt udnyttet. Bedårende soveværelse med fransk altan og masser af lys. Det er herfra at den kommende altan på ca. 4 m2 kan nydes. Lejligheden ligger på øverste etage i ejendommen hvilket giver et fantastisk lysindfaldVelkommen hjem til Gammelholmen.',\n",
       " \"Med Det Kongelige Teater, Charlottenborg, Nyhavn og Kongens Nytorv som de nærmeste naboer taler denne beliggenhed vist sit tydelige sprog: Her kommer man til at bo helt unikt i hjertet af København K med alle byens mange fristelser, bedste restauranter, gallerier, kulturtilbud, forretningsliv, offentlig transport og ikke mindst den maritime stemning tæt ved vandkanten helt, helt tæt på. Ja, det bliver stort set ikke bedre eller mere centralt, og vi er sikre på, at ethvert bymenneske med stort B straks vil føle sig tilpas og hjemme her på Herluf Trolles Gade 7. Trods sin centrale placering, er gaden faktisk yderst stille og fredfyldt. Fra jeres nye adresse øverst i den elegante bygning fra 1890 kan I skimte havnen nede for enden af gaden, hvilket er en skøn kvalitet, og på et øjeblik kan I spadsere på tur, følge Inderhavnsbroen over til Christianshavn og slentre langs vandkanten i begge retninger – mod Operaen og Refshaleøen såvel som mod Islands Brygge. Beliggenheden er i top, og det samme gælder for den eksklusive liebhaverlejlighed på 5. sal, som tildeler jer hele 111 spændende kvadratmeter, som alle bærer præg af stor detaljerigdom, gode kvalitetsmaterialer og – ikke mindst – masser af hygge og stemning. Lejligheden har et et stort disponibelt rum med vaskemaskine og tørretumbler. Dette rum er virkelig en stor værdi i hverdagen, hvor de praktiske pligter kan få deres egen afdeling den at forstyrre i den øvrige boligindretning. Via hoveddøren ankommer I til den fine entré med smukke, brede plankegulve, som viser jer ind til lejlighedens til regulære soveværelser og videre ind til det fantastiske opholdsmiljø, som forener køkken-alrum og stuen. Køkkenet står stilfuldt i et lyst, tidløst design med grebsfrie moduler og alt i hård hvidevarer. I midten er der opført en fed køkken-ø, hvor gæsterne kan nyde en glas vin under madlavningen, og takket være de fine ovenlysvinduer er hele rummet flot lyst op! Selvom der er tale om ét åbent lokale, opleves køkkenet stadig lidt som sin egen zone grundet de smukke, mørke og kvadratiske gulvfliser, som står i kontrast til stuen plankegulv, samt på grund af de charmerende søjler, som skærmer en smule af. Stuen åbner sig med masser af plads til sofagruppen og spisebordet, og den hyggelige pejs i hjørnet sætter blot prikken over i'et. Til slut rummer lejligheden et stort, lækkert velværebadeværelse med separat, glasafskærmet bruseparti. En lejlighed, som må og skal opleves.BOOK EN FREMVISNING NU HOS NYBOLIG MUNCH & BJERREGAARD!BESTIL EN GRATIS & UFORPLIGTENDE SALGSVURDERING ALLEREDE I DAG HOS NYBOLIG MUNCH & BJERREGAARD PÅ TLF: 3587 7000!VI HAR BUTIKKER PÅ.-\\t Torvegade 27, 1400 København K       -\\t Jagtvej 55, 2200 København N       -       Frederikssundsvej 29, 2400 København NV\",\n",
       " 'Herskabslejligheden i Cort Adelers Gade er gennemført renoveret med snedkerkøkken fra Nicolai Bo og badeværelse med elementer ligeså. Der er vinkælder under soveværelset og privat cykelkælder/hobbyrum med direkte udgang til den hyggelige store gård med mange hyggelige kroge og grillområder. Man kunne også have en kajak i cykelkælderen, for vandet i Inderhavnen ligger blot 110 meter fra lejligheden. Lejligheden ligger på belle etage, den smukke etage, som i skjult betydning er den første og fineste etage over stueetagen. Den har en sjælden højde til loftet og det smukkeste lysindfald. Her er 206 m2 fordelt i en rigtig god planløsning, der får hverdagen til at fungere lydefrit. Fra den lille altan kan man mærke byens puls, og der er kig til Christiansborg, Nyhavn og Københavns Kanal. Den store altan har middagssol, vender mod gården og her er der plads til grill, spisebord og en lille sofa. Der er elevator i ejendommen. Vil man bo centralt og lækkert i København, bliver det ikke meget bedre end her. Bremerholm blev til Bremerholm, fordi orlogsværftet blev bygget af skibsbyggere fra Bremen omkring 1800. Før da hed holmen Gammelholm. Det er et hyggeligt og roligt kvarter, en lille landsby i byen med mange små butikker og gallerier. Metroen er her med rejser under jorden direkte til alle stationer på et øjeblik.',\n",
       " 'Udsigtslejlighed med altan & elevator i Boheme-stil på toppen af Gammelholmen                            KvarteretLejligheden er beliggende i byens mest eftertragtede kvarter. Området bag Det Kongelige Teater er også kendt som \"Gammelholmen\" og er præget af flotte, brede, solrige og stille gader - Peder Skrams Gade er bestemt ingen undtagelse hertil. Boligkvarteret med de mange elegante facader blev til efter skibsværfterne, der lå her før, flyttede til Nyholm (kendt som Holmen) i 1859. Der er kun 50 meter til havnefronten, Nyhavn og Kongens Nytorv, hermed også Metro og Strøget.EjendommenDen nye elevator går let og lydløst op til 5. sal. i den vedligeholdte ejendom med flot facade og nyere tag. Facaden mod gaden er pudset op inden for de sidste par år. Nydelig indgangsparti med høje paneler og smukt trappeforløb der fremstår nymalet. De lodrette vinduerne i lejligheden fremstår i dårlig stand og man må forvente at disse skal udskiftes snarest. Ejendommen er en del af Irmakarréen, der har en stor grøn fællesgård med borde, bænke og legearealer. Dørtelefon, kabel-TV, cykelskure og kælderrum til de enkelte lejligheder. God, hyggelig E/F med 6 lejligheder, sund økonomi og orden i sagerne, hvorfor de lave fællesudgifter.LejlighedenUdsigtslejlighed i Boheme-stil på toppen af Gammelholmen med masser af lys og luft. Fin entré med god plads til overtøjet. Stort køkken/alrum med to ovenlysvinduer. Køkkenet er charmerende og passer perfekt til de hvidmalede trægulve på elegant vis. Skøn stue med synlige bjælker og brændeovn. Stuen er vestenvendt hvilket bevirker, at det vælter ind med sol om eftermiddagen heroppe på toppen. Endvidere er det muligt at lave et ekstra værelse i stuen, så der bliver 6 værelser i alt. Ejendommen overfor er knap så høj, så stuen er ugeneret og der er kig til masser af Københavnske kirketårne. Via franske døre er der adgang til fint kontor/børneværelse. Skønt soveværelse stille beliggende mod gården. Fint flisebadeværelse med separat brus og vindue. Lejlighedens 3. soveværelse er ligeledes stille beliggende mod gården og har udgang til lækker altan med træbelægning på over 4 kvm. Fra altanen er et skønt kig over karréen og masser af sol, lys og luft.']"
      ]
     },
     "execution_count": 362,
     "metadata": {},
     "output_type": "execute_result"
    }
   ],
   "source": [
    "df = read_boliga(\"house_data.csv\")\n",
    "get_reviews(df)"
   ]
  },
  {
   "cell_type": "code",
   "execution_count": null,
   "metadata": {},
   "outputs": [],
   "source": []
  },
  {
   "cell_type": "code",
   "execution_count": null,
   "metadata": {},
   "outputs": [],
   "source": []
  },
  {
   "cell_type": "code",
   "execution_count": null,
   "metadata": {},
   "outputs": [],
   "source": []
  },
  {
   "cell_type": "code",
   "execution_count": null,
   "metadata": {},
   "outputs": [],
   "source": []
  },
  {
   "cell_type": "code",
   "execution_count": null,
   "metadata": {},
   "outputs": [],
   "source": []
  }
 ],
 "metadata": {
  "kernelspec": {
   "display_name": "Python 3",
   "language": "python",
   "name": "python3"
  },
  "language_info": {
   "codemirror_mode": {
    "name": "ipython",
    "version": 3
   },
   "file_extension": ".py",
   "mimetype": "text/x-python",
   "name": "python",
   "nbconvert_exporter": "python",
   "pygments_lexer": "ipython3",
   "version": "3.7.4"
  }
 },
 "nbformat": 4,
 "nbformat_minor": 4
}
