{
 "cells": [
  {
   "cell_type": "code",
   "execution_count": 2,
   "metadata": {},
   "outputs": [],
   "source": [
    "import pandas as pd\n",
    "import numpy as np\n",
    "import matplotlib.pyplot as plt\n",
    "\n",
    "import tqdm.notebook as tqdm"
   ]
  },
  {
   "cell_type": "markdown",
   "metadata": {},
   "source": [
    "### Scraping Boliga website for data"
   ]
  },
  {
   "cell_type": "code",
   "execution_count": null,
   "metadata": {},
   "outputs": [],
   "source": []
  },
  {
   "cell_type": "code",
   "execution_count": 44,
   "metadata": {},
   "outputs": [],
   "source": [
    "import requests\n",
    "from bs4 import BeautifulSoup\n",
    "import re\n",
    "import json\n",
    "\n",
    "def houses_boliga(number_houses):\n",
    "    \"\"\"\n",
    "    Returns a list of all ids for houses on boliga\n",
    "    \"\"\"\n",
    "    house_id = list()\n",
    "    url = \"https://www.boliga.dk/resultat?\"\n",
    "    \n",
    "    for i in range(int(number_houses/50)):\n",
    "        new_url = url + f\"?page={i}\"\n",
    "        response = requests.get(new_url)\n",
    "        html = response.text\n",
    "        soup = BeautifulSoup(html,\"html.parser\")\n",
    "        ids = soup.find_all(\"a\",{\"class\":\"house-list-item\"})\n",
    "        link_houses = list()\n",
    "\n",
    "        for link in ids:\n",
    "            link_houses.append(re.findall(\"(/\\d{4,}/)\",link[\"href\"])[0].replace(\"/\",\"\"))\n",
    "        \n",
    "        house_id.extend(link_houses)\n",
    "        \n",
    "    return house_id\n",
    "\n",
    "def get_info(id_list):\n",
    "    \n",
    "    \"\"\"\n",
    "    Take an list with ids of houses on boliga and gets specific data about these ids\n",
    "    \n",
    "    \"\"\"\n",
    "    all_df = list()\n",
    "    new_keys = [\"registeredArea\",\"downPayment\",\"estateUrl\",\"currentArchiveId\",\"forSaleNowId\",\n",
    "                \"foreclosureId\",\"selfsaleEstateId\",\"cleanStreet\",\"estateId\",\"latitude\",\"longitude\",\n",
    "               \"propertyType\",\"priceChangePercentTotal\",\"energyClass\",\"price\",\"rooms\",\"size\",\"lotSize\",\n",
    "               \"floor\",\"buildYear\",\"city\",\"isActive\",\"municipality\",\"zipCode\",\"street\",\n",
    "                \"squaremeterPrice\",\"daysForSale\",\"createdDate\",\"basementSize\",\"views\"]\n",
    "    \n",
    "    for house_id in id_list:\n",
    "        response = requests.get(f'https://api.boliga.dk/api/v2/estate/{house_id}')\n",
    "        response = response.json()\n",
    "        df_dict = {key: response[key] for key in new_keys}\n",
    "        df = pd.DataFrame(df_dict,index=[0])\n",
    "        all_df.append(df)\n",
    "\n",
    "    df = pd.concat(all_df,axis=0,ignore_index=True)\n",
    "    \n",
    "    return df\n",
    "\n",
    "def get_reviews(df):\n",
    "    bodys = list()\n",
    "    i=0\n",
    "    for link in tqdm.tqdm(df[\"estateUrl\"].values[50:70]):\n",
    "        i += 1\n",
    "        response = requests.get(link)\n",
    "        html = response.text\n",
    "        soup = BeautifulSoup(html,\"html.parser\")\n",
    "        \n",
    "        if link[8:15] ==\"home.dk\": #Home\n",
    "            ids = soup.find_all(\"div\",{\"class\":\"text\"},\"p\")\n",
    "            bodys.extend([x.p.text.replace(\"\\n\",\"\").strip().lower() for x in ids if len(x)>1])\n",
    "        elif link[8:15] ==\"ww.skbo\": #skbolig\n",
    "            ids = soup.find_all(\"div\",{\"class\":\"listing-text\"})\n",
    "            bodys.extend([sk.text.replace(\"\\n\",\"\").replace(\"\\r\",\"\").strip().lower() for sk in ids if len(sk)>1])\n",
    "        elif link[8:15] == \"www.nyb\": #Nybolig\n",
    "            ids = soup.find_all(\"div\",{\"class\":\"foldable-spot__container\"})\n",
    "            bodys.extend([ny.text.replace(\"\\n\",\"\").strip().lower() for ny in ids if len(ny)>1])\n",
    "        elif link [8:15] == \"ww.elto\": #Eltoft Nielsen\n",
    "            ids = soup.find_all(\"br\")\n",
    "            bodys.extend([elto.text.replace(\"\\n\",\"\").strip().lower() for elto in ids if len(elto)>1])\n",
    "        elif link[8:15] == \"www.cla\": #Claus Borg\n",
    "            ids = soup.find_all(\"div\",{\"id\":\"case_content\"})\n",
    "            bodys.extend([cla.text.replace(\"\\n\",\"\").strip().lower() for cla in ids if len(cla)>1])\n",
    "        elif link[8:15] == \"www.lok\": #Lokalbolig\n",
    "            ids = soup.find_all(\"p\")\n",
    "            loka = [lok.text.replace(\"\\n\",\"\").strip().lower() for lok in ids if len(lok.text)>100]\n",
    "            bodys.extend([''.join(loka)])\n",
    "        elif link[8:15] == \"www.edc\": #EDC Bolig\n",
    "            ids = soup.find_all(\"div\",{\"class\":\"description\"})\n",
    "            bodys.extend([edc.text.replace(\"\\n\",\"\").strip().lower() for edc in ids if len(edc)>1])\n",
    "        elif link[8:15] == \"adamsch\": #Adam Schnack\n",
    "            ids = soup.find_all(\"div\",{\"class\":\"listing-text\"})\n",
    "            bodys.extend([adam.text.replace(\"\\n\",\"\").strip().lower() for adam in ids if len(adam)>1])\n",
    "        elif link[8:15] == \"www.est\": #Estate\n",
    "            ids = soup.find_all(\"div\",{\"class\":\"property-description\"})\n",
    "            bodys.extend([est.text.replace(\"\\n\",\"\").strip().lower() for est in ids if len(est)>1])\n",
    "        elif link[8:15] == \"www.bri\": #Brikk Ejendomme\n",
    "            ids = soup.find_all(\"div\",{\"class\":\"prop-user-content\"})\n",
    "            bodys.extend([bri.text.replace(\"\\n\",\"\").strip().lower() for bri in ids if len(bri)>1])\n",
    "        elif link[8:15] == \"www.rea\": #Realmæglerne\n",
    "            ids = soup.find_all(\"div\",{\"class\":\"text-full\"})\n",
    "            bodys.extend([rea.text.replace(\"\\n\",\"\").strip().lower() for rea in ids if len(rea)>1])\n",
    "        elif link[8:15] == \"danboli\": #Danbolig\n",
    "            ids = soup.find_all(\"div\",{\"class\":\"db-description-block\"})\n",
    "            bodys.extend([dan.text.replace(\"\\n\",\"\").strip().lower() for dan in ids if len(dan)>1])\n",
    "        elif link[8:15] == \"ww.lili\": #Lillenhof\n",
    "            ids = soup.find_all(\"div\",{\"class\":\"inner\"})\n",
    "            bodys.extend([dan.text.replace(\"\\n\",\"\").strip().lower() for dan in ids if len(dan)>10])\n",
    "        elif link[8:15] == \"lbaeks.\": #elbæks\n",
    "            bodys.append(np.nan)\n",
    "        elif link[8:15] == \"ww.paul\":\n",
    "            bodys.append(np.nan)\n",
    "        elif link[8:15] == \"bjornby\":\n",
    "            ids = soup.find_all(\"div\",{\"class\":\"content d-md-block d-none wrap-content\"})\n",
    "            bodys.extend([bjor.text.replace(\"\\n\",\"\").strip() for bjor in ids if len(bjor)>10])\n",
    "        else:\n",
    "            print(link,\"not in loop\")\n",
    "            \n",
    "            \n",
    "        if len(bodys) != i:\n",
    "            bodys.append(np.nan)\n",
    "        \n",
    "    \n",
    "    return bodys\n",
    "\n",
    "def preprocess_csv(csv):\n",
    "    \"\"\"\n",
    "    This function loads the dataset from boliga annd preproccesses it.\n",
    "    \"\"\"\n",
    "    df = pd.read_csv(csv)\n",
    "    y = np.array(df[\"price\"])\n",
    "    \n",
    "    \n",
    "    \n",
    "    return df\n",
    "\n",
    "\n",
    "def preprocess_text():\n",
    "    \n",
    "    \n",
    "    return None\n"
   ]
  },
  {
   "cell_type": "code",
   "execution_count": 41,
   "metadata": {},
   "outputs": [
    {
     "data": {
      "text/plain": [
       "52093"
      ]
     },
     "execution_count": 41,
     "metadata": {},
     "output_type": "execute_result"
    }
   ],
   "source": [
    "df = read_boliga(\"house_data.csv\")\n",
    "len(np.array(df[\"estateUrl\"].values))"
   ]
  },
  {
   "cell_type": "code",
   "execution_count": 46,
   "metadata": {},
   "outputs": [
    {
     "data": {
      "application/vnd.jupyter.widget-view+json": {
       "model_id": "252a581dd91d4676b20a535d77f39b43",
       "version_major": 2,
       "version_minor": 0
      },
      "text/plain": [
       "HBox(children=(FloatProgress(value=0.0, max=20.0), HTML(value='')))"
      ]
     },
     "metadata": {},
     "output_type": "display_data"
    },
    {
     "name": "stdout",
     "output_type": "stream",
     "text": [
      "https://www.hovmandpartner.dk/sag.aspx?sagsnr=B1493&mglid=1704&DID=135&udbudsform=salg not in loop\n",
      "http://www.jespernielsen.dk/redirect.php?sagsnr=JNC02038&mgl=2538&DID=135&udbudsform=salg not in loop\n",
      "http://www.jespernielsen.dk/redirect.php?sagsnr=JFN01264&mgl=2607&DID=135&udbudsform=salg not in loop\n",
      "\n"
     ]
    },
    {
     "data": {
      "text/plain": [
       "[nan,\n",
       " 'som adressen nok allerede har afsløret, byder vi nu indenfor til en fremvisning af en af kbh k’s mest velplacerede lejligheder – en charmerende perle, der præsenterer sig selv flot og indflytningsklar, og som ligger få skridt fra en af byens små oaser, nemlig gråbrødretorv. du skal sætte kursen mod klosterstræde 20, hvor lejligheden ligger øverst i ejendommen på 4. sal. lysindfaldet er derfor intet mindre end sublimt, og det samme gælder den smukke udsigt over byens tage samt gadens autentiske ejendomme, der vidner om, at det her lille, eksklusive nabolag har været en del af indre by i mange, mange år – faktisk helt siden middelalderen; dog blev gaden hærget af den store bybrand i 1795, hvorfor ejendommene kan dateres til årene umiddelbart efter. lejligheden fordeler sig over 61 kvadratmeter, og dens originale detaljerigdom skaber en helt særlig stemning. boligen prydes bl.a. af charmerende sprossevinduer og rustikke vægge med blotlagt bindingsværk, men alligevel står alt interiør snorlige og er opført i fine, tidløse materialer. lyder det ikke som den helt rigtige kombination?boligen fordeler sig først og fremmest med to stuer en suite, og de udgør utvivlsomt hjemmets samlingspunkt. de er vinklet mod vest og nyder derfor godt af eftermiddags- og aftensolen, og da de har en god og regulær størrelse, er indretningsmulighederne perfekte. den ene stue har endda brændeovn, mens den anden stue giver adgang til det hvide, tidløse køkken. lejlighedens planløsning fuldendes med et godt soveværelse, som ligger ud mod gården samt badeværelset, der har en god størrelse med separat bruseniche. lejligheden ligger i en yndig, gammel ejendom fra 1813, og dens solgule facade passer flot sammen med resten af klosterstræde samt gråbrødretorvs ejendomme. og det her nabolag er uden tvivl et af indre bys hyggeligste steder at slå sig ned. foruden torvets hyggelige udvalg af cafeer og restauranter med udeservering venter nemlig også eksklusiv shopping, velkendte forretninger og kulturelle oplevelser. i kort gåafstand har du strøgets butiksliv, københavns universitet, skindergades unikke caféliv, rundetårn, torvehallerne, dagligvarebutikker, kongens have og meget mere. ja, listen er lang, og med nøglerne til denne lejlighed venter en hverdag i særklasse.book en fremvisning nu hos nybolig munch & bjerregaard!bestil en gratis & uforpligtende salgsvurdering allerede i dag hos nybolig munch & bjerregaard på tlf: 3587 7000!vi har butikker på.-\\t torvegade 27, 1400 københavn k       -\\t jagtvej 55, 2200 københavn n       -       frederikssundsvej 29, 2400 københavn nv',\n",
       " nan,\n",
       " 'grundet corona/covid-19 skal tilmelding til åbent hus ske pr. mail anders@lilienhoff.dk senest fredag d. 28.08.2020 kl. 15.00.på en af københavns allersmukkeste og mest charmerende pladser dukker denne autentiske bindingsværksejendom op ved det historiske gråbrødre torv. beliggenheden for dette bemærkelsesværdige byggeri fra 1734 med hele fire etager,\\xa0en kælder og 120 kvadratmeter erhverv er ganske enkel uovertruffen her i indre københavn.historisk områdeområdet omkring gråbrødre torv bærer præg af stemningsfulde, gamle ejendomme og er uden tvivl én af københavn suverænt bedste steder at bosætte sig midt i city. det kræver blot få skridt fra hoveddøren, før man nænsomt glider ud i det hyggelige byliv, som kendetegner dette sted. her har man fornemmelsen af at være i centrum, men på en afstressende måde, idet det er ét af byens dejligste åndehuller. dog har man stadig gåafstand til alt, hvad hjertet kan begære med strøget, specialbutikker og nogle af københavns bedste restauranter og caféer inden for kort rækkevidde.mulighedsfyldt og velholdtallerede ved første blik på denne beundringsværdige ejendom bliver man betaget af de nydelige, orange facader med sort bindingsværk og hvide dannebrogsvinduer - der dog er flaskegrønne ud mod gaden. generelt har liebhaveriet løbende haft istandsættelser, der alle er veltilpassede og specialkonstruerede, så de passer til bygningens spændende vinkler og finesser. tilbage i 1998 gennemgik den en større restaurering med tanke på husets oprindelige stil og detaljer. blandt andet er tredjesalens loft i det største af værelserne ført til kip og har fået et ovenlysvindue for at tilføre mere luft og lys til rummet. herudover er badet i kælderen renoveret i 2010 med mørke fliser og et opretstående spa-lignende armatur, som giver en fantastisk vandstrømning i badet.idet huset består af fire etager og en kælder samt to køkkener og et tekøkken, kan man vælge at udleje dele af huset. derudover er det også muligt at etablere liberalt erhverv på en af etagerne.nydeligt hjemindenfor vil man på ens færd rundt i den herskabelige atmosfære støde på flere fine detaljer, som vidner om husets storhedstid. dette indebærer blandt andet hvide fyldningsdøre, brede vægpaneler og massive trægulve.for at starte et sted, byder den højtliggende kælder på to disponible rum, et badeværelse og vaskefaciliteter. i stueplan møder man et værelse og et tekøkken, som rummer ét af husets to opvaskemaskiner. bevæger man sig op ad trappen, åbenbarer et badeværelse og to pragtfulde værelser sig på første sal. ønsker man det, kan der åbnes op mellem de to værelser og dermed etableres et større stuemiljø med læsehjørne ved de indbyggede reoler i det ene værelse. læg ligeledes mærke til væggene, der er spartlet med pulveriseret marmor i en beige nuance. dette eksklusive fænomen går igen i stuen på anden sal, hvor også husets store snedkerfremstillede køkken befinder sig. elementerne er skiftevis hvide og sorte, og passer udmærket til rummets udtryk med et smeg-komfur i rustfrit stål. sidst, men ikke mindst, finder man på tredje sal et bombardement af lys og plads på etagen med et tekøkken og et værelse med indbygget samt specialfremstillet klædeskab langs den ene væg. tilmed er her også et badeværelse med fliser i sandfarve og et badekar.som det kan fornemmes er her tale om en her exceptionel\\xa0ejendom i indre københavn.',\n",
       " 'penthouse på nørregade - unik andelsbolig med to altanermed utallige moderne features, en unik udformning og klassiske detaljer står lejligheden på nørregade 20 ganske enkelt som en helstøbt og indflytningsklar perle. vi byder indenfor til en virtuel rundvisning, hvor du med garanti vil blive blæst bagover af dens indiskutable herlighed.lejligheden er nemlig en sjældent udbudt andelsbolig, der rummer hele 144 m2 og to altaner. mellem flotte trægulve og rustikke loftsbjælker træder du ind i en lys og lækker bolig, der består af tre regulære værelser, stue med hems, køkkenalrum, badeværelse og så selvfølgelig de to altaner. kan man ønske sig meget mere? det skulle måske være charmerende skråvægge eller udsigt til københavns tårne. og så er stuen i sig selv et rum, der for alvor får dig til at tabe pusten. det enorme rum med loft til kip, fritlagte hanebåndsspær og ovenlysvinduer kan straks visualiseres som et hjerterum med plads til fest og farver, og hemsen, ja, den er jo perfekt som hyggekrog eller soveplads til overnattende gæster.i lejligheden er der tre lækre værelser, og to af dem har udgang til hver sin altan mod gården. der er altså rigeligt med plads til alt fra tre studerende til det pladskrævende par, der kan benytte de overskydende værelser som stuer en suite.turen er kommet til det flotte køkken, der synes topmoderne med grebsløse flader og alt i hårde hvidevarer, og så er der naturligvis spiseplads. samme moderne æstetik findes på badeværelset, der er beklædt med flotte fliser på gulv og vægge og indeholder separat bruseniche og vaskesøjle.ejendommen er opført i 1800 og fremstår utroligt flot og velholdt. selve opgangen tilgås gennem en aflåst gitterport, og det samme gør den fælles terrasse, der indbyder til grillmiddage i sommervarmen.nørregade er en af københavns mest centrale gader, der løber mellem nørreport og gammeltorv. gadeplans mange butikker rummer et bredt udvalg af lidt af det hele, og samtidig har du torvehallerne og metroen lige ved hånden samt nogle af byens allerbedste restauranter. kort sagt - der mangler ikke noget.velkommen!læs mere om boligenluk',\n",
       " 'i et af københavns ældste og hyggeligste kvarterer i indre by ligger denne smarte lejlighed, som med sit store, åbne rum leder tankerne hen på hippe new yorker lejligheder. til ejendommen hører en kæmpestor fælles tagterrasse, som er en fryd for øjet og giver følelsen af en urban have midt i byen. i nærområdet ligger nørreport station, metro, h.c. ørstedsparken, torvehallerne, nytorv og gammeltorv. der bugner ligeledes med hyggelige caféer, velrenommerede restauranter og strøget. selvom adressen på nørregade er utrolig central, er der fredeligt, da lejligheden ligger tilbagetrukket fra gaden i en rolig baggård.der er tale om en høj stuelejlighed, som byder på ét stort opholdsmiljø, hvor solen bader rummet i lys fra de store vinduespartier, ligesom det åbne rumforløb lader lyset flyde frit. et charmerende plankegulv bidrager til det let rå, industrielle look sammen med de hvidmalede jernsøjler. køkkenet har hvide fronter fra invita og en mørkbejdset træbordplade med en nedfældet, sort stenvask.ved siden af badeværelset er der et lille rum afskærmet med et klæde, hvor bosch-vaskemaskinen fra 2019 står placeret. dertil kommer et soveværelse, som nemt kan tages ned, hvis du virkelig ønsker et åbent rum, ligesom det er muligt med planløsningen at etablere et værelse eller to ekstra.til ejendommen hører en fælles gård med cykelparkering ude og inde, så cyklen om vinteren kan stå tørt. men prikken over i’et og det, der virkelig gør denne lejlighed speciel, er den fælles tagterrasse. der er elevator op til terrassen, som åbenbarer sig med et væld af farverige blomster og behagelige havesæt. den fælles facebookside i foreningen gør, at man let kan aftale med sine naboer, at man for en aften råder over tagterrassen til en hyggelig middag med gode venner under åben himmel... læs mindre...',\n",
       " 'allerede fra første besøg vil denne lejlighed fange jeres opmærksomhed. vi taler højloftede rum, der afsluttes med betagende stuklofter, høje paneler, der flere steder strækker sig fra gulv til loft, lyst og bredt plankegulv og i det hele taget en charmerende og nærmest historisk atmosfære alt sammen flot forenet i imponerende 236 kvadratmeter.det er også den helt klassiske planløsning, som herskabslejligheder er kendt for, der venter jer i denne bolig. ganske særligt for netop denne lejlighed er dog de mange fælles rum, hvor hele familien kan samles. som det også fremgår af plantegningen råder boligen nemlig over hele tre smukke stuen en suite. stuerne forbindes af flotte fløjdøre og samlet set efterlader de en med et imponerende indtryk.i køkkenet er den flotte modernisering én, der også træder tydeligt frem. her har man i renoveringen af rummet haft stor respekt for lejlighedens særlige karakter. det gamle ildsted træder tydeligst frem i rummet, da det ikke kun er blevet bevaret, men nu også fungerer som kogeniche. derudover domineres rummet af et skønt lysindfald, som er med til at skabe en behagelig atmosfære i den lyse spisekrog.lejlighedens mest spektakulære rum er dog spisestuen, som med sin størrelse og tiltalende udtryk er oplagt til middagsselskaber eller familiesammenkomster. fra spisestuen åbner høje glasdøre også ud til lejlighedens sydvendte altan, der uden tvivl vil fungere som jeres eget lille frirum pegende ud mod ejendommens tilhørende, skønne gårdmiljø. desuden byder planløsningen på fem værelser, hvor det ene lige nu er indrettet som et lækkert walk-in-closet, der vil kunne opfylde enhver garderobedrøm. fra værelset er der direkte adgang til et smukt baderum med fritstående badekar og herfra ledes der videre ind i det store lyse soveværelse.ejendommen, hvori denne lejlighed er placeret, er også noget ganske særligt. den kan dateres helt tilbage til 1842 og har derfor været en del af københavns bybillede i næsten 200 år. de bevaringsværdige bygninger er gennem tiden blevet utrolig godt vedligeholdt og sidst i 2016 gennemgik foreningen en større renovering, hvor facaderne, vinduerne, taget, kloakkerne og flere opgange blandt andet blev renoveret. ud over et hyggeligt gårdmiljø med plads til cykler råder ejendommen også over en stor og meget indbydende, fælles tagterrasse, som særligt på varme sommerdage fungerer som samlingssted til afslapning, middag og samvær.hvis ikke allerede boligen og ejendommen har overbevist, så vil området helt sikkert give det sidste skub i den rigtige retning. her får man den sjældne mulighed~or~t bo på mange m2 i hjertet af københavn tæt på alt. om det er butikker, kulturtilbud, spændende spisemuligheder i midtby eller på vesterbro, torvehallernes særlige udbud af råvare eller placeringen tæt på byens skønne parker og havnebassinet, der betyder mest kommer ud på ét, for her finder i det hele! få minutter fra nørreport station. er i nysgerrige på mere? så book en fremvisning allerede i dag!',\n",
       " 'københavnerlejligheder kommer i adskillige afskygninger, men med denne 122 m2 præsentable lejlighed, der er centralt beliggende på fiolstræde, får i både roen fra gågaden og storbylivets puls lige ved hånden. meget bedre fås det ikke, hvad enten i er et par eller en lille børnefamilie. på kun to minutter til fods står i på nørreport st., så transporten til arbejdet, institutioner eller studiet er helt ukompliceret. derudover byder beliggenheden på et væld af kulturelle muligheder og grønne frirum, da i eksempelvis kan besøge et af de utallige omkringliggende museer eller tage en tur i kongens have eller ørstedsparken, der kun ligger få minutters gang fra adressen. derudover er der mange muligheder for at opleve storbylivet på en af de nærtliggende barer og restauranter, eller hvis i gerne vil smage på lidt af hvert, kan turen gå til torvehallerne. lejligheden har højt til loftet og råder over en stor entré, tre værelser, et badeværelse og et køkken med åbning ind til stuen. køkkenet er holdt i et tidløst design med lyse materialer som kontrast til det rustikke flisebelagte gulv. desuden er der indrettet en flot kogeniche og et indbygget køleskab, hvilket får køkkenet til at fremstå meget rummeligt og på fornem vis binder det autentiske og det moderne udtryk sammen.fra køkkenet kan i bevæge jer ind i den vestvendte stue, der ligesom de resterende værelser er beklædt med lyse sildebensparketgulve, der giver lejligheden et herskabeligt udtryk. de tre østvendte værelser er alle af en udmærket størrelse med et godt lysindfald om morgenen. det ene værelse har endda også fin garderobeplads i form af det indbyggede skab. det store badeværelse er beklædt med lyse, melerede fliser og rummer en stor bruseniche samt vaskemaskine. yderligere er der i de tre værelser og stuen placeret radiatorskjulere, hvilket bidrager til den enkle og harmoniske stemning i lejligheden. bestil en fremvisning for at opleve denne herlige lejlighed med egne øjne.book en fremvisning nu hos nybolig munch & bjerregaard!bestil en gratis & uforpligtende salgsvurdering allerede i dag hos nybolig munch & bjerregaard på tlf: 3587 7000!vi har butikker på.-\\tkøbenhavn k, torvegade 27, 1400       -\\tnørrebro, jagtvej 55, 2200',\n",
       " 'kvarteret:med adresse på fiolstræde, sikrer man sig en uovertruffen placering i hjertet af middelalderbyen, hvor den parisiske stemning, brostensbelagte gader og gamle fredede ejendomme, danner ramme om det hyggelige kvarter. går man en tur ned af strædet, mærker man straks en helt særlig stemning – et væld af caféer, udsøgte restauranter, kulturelle begivenheder og meget mere. det tager ikke mere end små 10 minutter, at gå til kongens have og torvehallerne. nørreport station kan nås på få minutter og herfra kommer man nemt og hurtigt rundt med bus, tog og metro. har man bil er der mulighed for, med beboerlicens, at parkere i parkeringskælderen under israels plads. ejendommen:ejendommen er opført i 1836 og emmer af historie og ægte københavner stemning. indgang direkte fra fiolstræde, og opgang med dørtelefon. ejendommen er fredet, hvilket betyder at der ikke skal betales ejendomsskatter.lejligheden:går man fra opgang og ind i lejligheden træder man ind i stuen, som er fyldt af klassiske elementer, som fritlagte bjælker, imponerende loftshøjde og smukke høje paneler. fra stuen er der adgang til det charmerende soveværelse, som førhen har fungeret som entré. ønskes dette rum at fungere som entré igen er dette muligt, da hoveddøren fortsat er bevaret. ydermere er der fra stuen franske døre, som fører ind til endnu et værelse, der i dag bruges som kontor. fra kontoret er der gennemgang til den hyggelige og charmerende spisestue, hvor man igen finder fritlagte bjælker og bindingsværk, tillige med utroligt velbevarede høje paneler. spisestuen ligger i forbindelse med køkkenet, her mødes man af en flot koge ’ø’, der er omringet af blottede murstensvægge og bindingsværk. fra køkkenet er der adgang til areal over bagtrappe, der hører til lejligheden og som anvendes til opbevaring samt adgang til lejlighedens nyere badeværelse, der ydermere er udstyret med en vaske/tørremaskine.når du køber en bolig gennem edc, har du mulighed for at få en gratis flytteforsikring. ønsker du denne, skal du sende en mail med \"ja tak\" til flytteforsikring@gjensidige.dk muligheder ved denne boligdørtelefonansvarlig mæglerrikke krull,afdelingsleder, ejendomsmægler, mde',\n",
       " 'søger i en rummelig bolig i indre by? så bør i vende blikket mod denne lejlighed på fiolstræde. her venter jer lyse og indbydende rammer, og trumfen er den fine gårdhave og placeringen nær alle hverdagens fornødenheder.jeres kommende hjem findes på fjerde sal i en charmerende ejendom fra 1800. i sommerhalvåret får i stor glæde af det fine gårdmiljø med lidt plæne, træer og bordebænkesæt.inden døre strækker boligen sig over to etager, hvor hvide, fritlagte bjælker og pæne, lyse gulve særligt kendetegner hjemmet. entréen fungerer som en fordelingsgang, hvor i kan stille skoene og hænge overtøjet. hjerterummet bliver i køkkenet og alrummet, som er i åben forbindelse. køkkenet brillerer med grebsfrie elementer toppet af en massiv bordplade. her er udstyret med gængse hårde hvidevarer og skabsopbevaring, så bordpladen holdes fri. alrummet prydes af en brændeovn, og her kan let arrangeres med et middagsbord. videre ligger stuen, som kan indrettes med en hyggelig sofagruppe, og etagen fuldendes af et badeværelse med skakternet gulv, badekar og plads til vaskefaciliteterne. anden etage imponerer med et kipført loft, og heroppe findes et badeværelse med bruseniche, som har adgang til et disponibelt rum, et værelse og en åben repos med brændeovn, som gør sig perfekt til enten et værelse eller en stue.med adresse på fiolstræde findes det hyggelige gågademiljø mellem nørreport station og strøget. her lurer det pulserende byliv lige uden for døren med flere caféer, restauranter og nichebutikker, ligesom nærmiljøet også tilbyder flere kulturelle oplevelser. torvehallerne er blot få hundrede meter væk, mens nørreport station ligeledes kan nås på få minutters gang.',\n",
       " 'med adresse midt på peder hvitfeldts stræde er denne lejlighed placeret perfekt mellem nørreport station og strøget, på en hyggelig gågade midt i middelalderbyen, som er præget af brostensbelagte gader og gamle fredede ejendomme. peder hvitfeldts stræde emmer af hyggelig stemning, med et hav af muligheder i form af hyggelige caféer og specialbutikker. udover nørreport og strøget er der ligeledes kort gåafstand til kongens have og torvehallerne og på en lidt længere gåtur nås søerne.ejendommen er opført i 1811, den er fredet og der er dørtelefon til ejendommen. lejligheden har gennemgået en gennemgribende renovering og fremstår i super stand med nogle rigtig gode løsninger som udnytter pladsen optimalt i lejligheden. lejligheden byder på en fin entré i forbindelse med nyere toilet, stor og lys stue med 2 gode vinduespartier mod gaden, videre adgang til spisestue hvorfra der er adgang til nyt køkken med unikke løsninger for optimering af pladsen i lejligheden, fra køkkenet er der forbindelsen til nyt badeværelse med vindue mod gården. sidst er der soveværelse mod gården. lejligheden er gennemgående flot oplyst med hele 6 vinduer og er med sin unikke planløsning og ideelle placering, perfekt som førstegangs- eller forældrekøb til dem, der er vilde med københavnertilværelsen.en virkelig lækker lejlighed med optimal udnyttelse af hver kvm i virkelig flot stand – skal opleves... læs mindre...',\n",
       " nan,\n",
       " nan,\n",
       " 'lejligheden med sine næsten 200 m2, har en fantastisk udsigt til slotsholmskanalen og christiansborg                            kvarteretyderst attraktivt og stille kvarter mellem stræderne og frederiksholms kanal. kvarteret byder på små charmerende brostensbelagte stræder med mange hyggelige caféer og specialforretninger. såvel kongens nytorv som rådhuspladsen er i kort gå afstand der fra. metroen er næsten lige ved døren ved gl. strand, og bringer dig alle steder i københavn på 10 min. du er lige i centrum, og alligevel helt stille. gaden er under forskønnelse og fremtiden byder på flere cykelparkeringspladser, en bredere promenade og nye træer samt borde og bænke, så kan man nyde de smukke bygningsværker eller et køligt glas ved kanalen.ejendommendenne flotte herskabslejlighed ligger på 2. sal var den øverste etage af grosserer jørgen p. bechs private bolig som blev opført i årene 1815 til 1817. ejendommen fremstår i dag i flot stand og har en hyggelig brostensbelagt gård med grønne planter og en smuk præsentabel opgang med blå løber som fører dig op til denne smukke herskabslejlighed. ejendommen er fredet og dermed fritaget for ejendomsskatter og energimærke.lejlighedenfra den pæne og rummelige trappeopgang kommer man ind i lejligheden gennem den klassiske dobbeltdør og til den store og lyse \\x93velkomststue\\x94 ud mod slotsholmen. der er også en ekstra indgang til højre i trappeopgangen. lejligheden går langt ind i bygningen med udsigt til den gamle og store brostensbelagte gård der omkranses af ejendommen mod magstræde 11. der er højt til loftet og meget fine stukornamenter med forskellighed fra stue til stue og smukke plankegulve i alle dele af lejligheden. lejligheden har indbyggede skabe opført i den samme stil som øvrige paneler på væggene. en helt unik lejlighed. både lejligheden og ejendommen er for år tilbage gjort i stand fra a til z. endvidere flot luksus badeværelse. imponerende spisestue samt 3 særdeles smukke stuer en suite mod kanalen og dermed en fantastisk udsigt til kanalerne og alle de historiske bygningsværker overfor. et godt soveværelse ud mod gården. super lækkert koch køkken med låger i amerikansk valnød og bordplade i mørk wenge som giver en flot kontrast til alt det lyse, endvidere med spiseplads til 6-8 personer. en helt unik og meget lys lejlighed med byens flotteste udsigt.',\n",
       " 'drømmer du om at bo i hjertet af københavn? så er denne lejlighed sikkert noget for dig. med denne bolig i hyskenstræde har du udsigt til byens liv fra vinduerne og bor i gåafstand til de historiske bygninger, der tegner byens profil. samtidig er beliggenheden yderst praktisk, da der er metrostation, s-tog, indkøbsmuligheder, bibliotek og byparker inden for den nærmeste kilometer. for den urbane romantiker er placeringen med andre ord optimal.',\n",
       " 'på hyskenstræde 3 i hjertet af københavn kan i netop nu overtage denne yderst præsentable herskabslejlighed, som er gennemgribende renoveret i 2019 med lækre kvalitetsmaterialer, herunder et mørkt sildebensparketgulv samt et nyt køkken og badeværelse. dermed går den moderne komfort og æstetik hånd i hånd med originale detaljer såsom knap tre meters loftshøjde, oprindelige døre, høje paneler, stuk og radiatorskjulere.',\n",
       " 'gennemført autentisk lejlighed i roligt baghus på kompagnistræde“autenticitet” er et ord, vi ikke kommer udenom, når vi nu skal se nærmere på denne gennemførte charmør af en lejlighed på kompagnistræde 7a, st, th. ikke nok med at den slår sine folder i et af strædets romantiske baghuse, så er lejligheden i sig selv et pragteksemplar på, hvordan man kan have respekt for den oprindelige stil uden at gå på kompromis med levestandarden.du har din helt egen indgang fra den gule baggård. gennem den grønne dør træder du direkte ind i lejligheden, der med den halvåbne entré teaser med det første blik du får af stuen. den rå murstensvæg og loftsbjælkerne taler et tydeligt sprog om en ældgammel lejlighed, og kigger du nærmere efter, ser du tallene 1798, der er et billede på netop ejendommens imponerende alder. og herfra tager charmen fart. den hyggelige brændeovn starter stemningen, som køkkenet overtager med endnu en væg med råt udseende og røde kontrastfliser, der tager køkkenet til et nyt niveau. som sagt: komforten er stadig i top. her er naturligvis alt i hårde hvidevarer, mens også badeværelset afspejler den let industrielle, moderne stil med det væghængte toilet, flisebelægningen og den unikke håndvask.jovist - her har du fat i en helt særlig perle uden sidestykke, hvor du både kan indrette stuen, som du vil, mens soveværelset er helliget nattesøvnen.bygningen har status som en fredet ejendom, så du ikke skal betale ejendomsskat. i stedet kan du bruge dine hårdt tjente penge på at støtte det lokale cafémiljø og nyde en americano i det fredelige baggårdsmiljø, eller du kan udforske området som aldrig før. her er nemlig med garanti butikker, hvor du endnu ikke har sat dine ben, og har du snydt dig selv for rabarbercheesecake fra bertels salon, lårklaskende aftener på comedy zoo eller kulturelle åbenbaringer i kunstforeningen gl. strand, har du rig mulighed for at råde bod på det nu. her er du nemlig i hjertet af byen.velkommen.læs mere om boligenluk',\n",
       " nan,\n",
       " 'velkommen til toppen af strædet med fritlagte bjælker og loft til kip                            kvarteretyderst attraktivt og stille kvarter mellem strøget og frederiksholms kanal. kvarteret byder på små charmerende brostensbelagte stræder med mange hyggelige caféer og specialforretninger. såvel kongens nytorv som rådhuspladsen er i gåafstand derfra. metroen gl. strand er næsten lige ved døren. havnepromenaden er under forskønnelse og fremtiden byder på en bredere promenade og nye træer samt borde og bænke, så kan man nyde de smukke bygningsværker.ejendommensmuk istandsat og historisk ejendom fra 1795. det syv fag brede forhus blev opført af murermesteren m. bälckow. ejendommen fremstår med flot pudset murstensfacade. der er dørtelefon, hyggelig fællesgård og præsentabelt trappeopgang. ejendommen er fredet og dermed fritaget for ejendomsskatter.vinduerne i lejligheden vil blive udskiftet til august og sælger har allerede betalt lejlighedens andel. gadens navn kendes tilbage fra 1510 i formen kompenygaden. ordet kompagni dækker over \\x94det danske kompagni\", der var en sammenslutning af købmænd.lejlighedenefter en tur op af den charmerende trappeopgang med synlige bjælker, ankommer du til et repos. døren åbnes og lejligheden byder dig velkommen med et fantastisk lys her i den gamle tegnestue på toppen af kompagnistræde. et fantastisk køkken/alrum/stue er lejlighedens hjerte. her finder du fritlagte bjælker, to hemse hvoraf den ene bruges til gæsteværelse og den anden som lejlighedens pulterrum. køkkenet er tidsløst og super lækkert med fronter fra reform. via en mellemgang som bruges til indendørsaltan med kig til rådhusuret (de kommende vinduer i mellemgangen mod masterbedroom åbner sprossen med, så det vælter ind med ugeneret lys)ankommer du til master bedroom med ovenlysvinduer og fritlagte bjælker. stort lækkert badeværelset med de smukkeste gulve, naturligvis med gulvvarme. gæstetoilet med væghængt toilet og gulvvarme. i lejlighedens sydlige ende finder man pt. kontor, walk-in-closet og et nydeligt værelse. denne løsning kan nemt ændres til to separate værelser med selvstændige indgange (se sidste billede på nettet). desuden er hele lejligheden for nyligt nænsomt gennemrenoveret fra a-z.',\n",
       " nan]"
      ]
     },
     "execution_count": 46,
     "metadata": {},
     "output_type": "execute_result"
    }
   ],
   "source": [
    "get_reviews(df)"
   ]
  },
  {
   "cell_type": "code",
   "execution_count": null,
   "metadata": {},
   "outputs": [],
   "source": []
  },
  {
   "cell_type": "code",
   "execution_count": null,
   "metadata": {},
   "outputs": [],
   "source": []
  },
  {
   "cell_type": "code",
   "execution_count": null,
   "metadata": {},
   "outputs": [],
   "source": []
  },
  {
   "cell_type": "code",
   "execution_count": null,
   "metadata": {},
   "outputs": [],
   "source": []
  },
  {
   "cell_type": "code",
   "execution_count": 11,
   "metadata": {},
   "outputs": [
    {
     "data": {
      "text/plain": [
       "[Synset('dog.n.01')]"
      ]
     },
     "execution_count": 11,
     "metadata": {},
     "output_type": "execute_result"
    }
   ],
   "source": [
    "from nltk.corpus import wordnet as wn\n",
    "wn.synsets(\"hund\", lang=\"dan\")"
   ]
  },
  {
   "cell_type": "code",
   "execution_count": 12,
   "metadata": {},
   "outputs": [],
   "source": [
    "synonyms = []\n",
    "antonyms = []\n",
    "for syn in wordnet.synsets(\"hund\",lang=\"dan\"):\n",
    "    for l in syn.lemmas():\n",
    "        synonyms.append(l.name())\n",
    "        if l.antonyms():\n",
    "            antonyms.append(l.antonyms()[0].name())"
   ]
  },
  {
   "cell_type": "code",
   "execution_count": 13,
   "metadata": {},
   "outputs": [
    {
     "data": {
      "text/plain": [
       "['dog', 'domestic_dog', 'Canis_familiaris']"
      ]
     },
     "execution_count": 13,
     "metadata": {},
     "output_type": "execute_result"
    }
   ],
   "source": [
    "synonyms"
   ]
  },
  {
   "cell_type": "code",
   "execution_count": null,
   "metadata": {},
   "outputs": [],
   "source": []
  }
 ],
 "metadata": {
  "kernelspec": {
   "display_name": "Python 3",
   "language": "python",
   "name": "python3"
  },
  "language_info": {
   "codemirror_mode": {
    "name": "ipython",
    "version": 3
   },
   "file_extension": ".py",
   "mimetype": "text/x-python",
   "name": "python",
   "nbconvert_exporter": "python",
   "pygments_lexer": "ipython3",
   "version": "3.7.4"
  }
 },
 "nbformat": 4,
 "nbformat_minor": 4
}
