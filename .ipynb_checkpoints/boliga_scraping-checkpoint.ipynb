{
 "cells": [
  {
   "cell_type": "code",
   "execution_count": 61,
   "metadata": {},
   "outputs": [],
   "source": [
    "import pandas as pd\n",
    "import numpy as np\n",
    "import matplotlib.pyplot as plt"
   ]
  },
  {
   "cell_type": "markdown",
   "metadata": {},
   "source": [
    "### Scraping Boliga website for data"
   ]
  },
  {
   "cell_type": "code",
   "execution_count": null,
   "metadata": {},
   "outputs": [],
   "source": []
  },
  {
   "cell_type": "code",
   "execution_count": 145,
   "metadata": {},
   "outputs": [],
   "source": [
    "import requests\n",
    "from bs4 import BeautifulSoup\n",
    "import re\n",
    "import json\n",
    "\n",
    "def houses_boliga(number_houses):\n",
    "    \"\"\"\n",
    "    Returns a list of all ids for houses on boliga\n",
    "    \"\"\"\n",
    "    house_id = list()\n",
    "    url = \"https://www.boliga.dk/resultat?\"\n",
    "    \n",
    "    for i in range(int(number_houses/50)):\n",
    "        new_url = url + f\"?page={i}\"\n",
    "        response = requests.get(new_url)\n",
    "        html = response.text\n",
    "        soup = BeautifulSoup(html,\"html.parser\")\n",
    "        ids = soup.find_all(\"a\",{\"class\":\"house-list-item\"})\n",
    "        link_houses = list()\n",
    "\n",
    "        for link in ids:\n",
    "            link_houses.append(re.findall(\"(/\\d{4,}/)\",link[\"href\"])[0].replace(\"/\",\"\"))\n",
    "        \n",
    "        house_id.extend(link_houses)\n",
    "        \n",
    "    return house_id\n",
    "\n",
    "def get_info(id_list):\n",
    "    all_df = list()\n",
    "    new_keys = [\"registeredArea\",\"downPayment\",\"estateUrl\",\"currentArchiveId\",\"forSaleNowId\",\n",
    "                \"foreclosureId\",\"selfsaleEstateId\",\"cleanStreet\",\"estateId\",\"latitude\",\"longitude\",\n",
    "               \"propertyType\",\"priceChangePercentTotal\",\"energyClass\",\"price\",\"rooms\",\"size\",\"lotSize\",\n",
    "               \"floor\",\"buildYear\",\"city\",\"isActive\",\"municipality\",\"zipCode\",\"street\",\n",
    "                \"squaremeterPrice\",\"daysForSale\",\"createdDate\",\"basementSize\",\"views\"]\n",
    "    \n",
    "    for house_id in id_list:\n",
    "        response = requests.get(f'https://api.boliga.dk/api/v2/estate/{house_id}')\n",
    "        response = response.json()\n",
    "        df_dict = {key: response[key] for key in new_keys}\n",
    "        df = pd.DataFrame(df_dict,index=[0])\n",
    "        all_df.append(df)\n",
    "        \n",
    "    df = pd.concat(all_df,axis=0,ignore_index=True)\n",
    "    \n",
    "    return df\n",
    "\n"
   ]
  },
  {
   "cell_type": "code",
   "execution_count": 146,
   "metadata": {},
   "outputs": [],
   "source": [
    "df = get_info(id_houses)"
   ]
  },
  {
   "cell_type": "code",
   "execution_count": 1,
   "metadata": {
    "scrolled": false
   },
   "outputs": [
    {
     "data": {
      "text/plain": [
       "30"
      ]
     },
     "execution_count": 1,
     "metadata": {},
     "output_type": "execute_result"
    }
   ],
   "source": [
    "new_keys = [\"registeredArea\",\"downPayment\",\"estateUrl\",\"currentArchiveId\",\"forSaleNowId\",\n",
    "                \"foreclosureId\",\"selfsaleEstateId\",\"cleanStreet\",\"estateId\",\"latitude\",\"longitude\",\n",
    "               \"propertyType\",\"priceChangePercentTotal\",\"energyClass\",\"price\",\"rooms\",\"size\",\"lotSize\",\n",
    "               \"floor\",\"buildYear\",\"city\",\"isActive\",\"municipality\",\"zipCode\",\"street\",\n",
    "                \"squaremeterPrice\",\"daysForSale\",\"createdDate\",\"basementSize\",\"views\"]\n",
    "len(new_keys)"
   ]
  },
  {
   "cell_type": "code",
   "execution_count": 1,
   "metadata": {},
   "outputs": [
    {
     "ename": "NameError",
     "evalue": "name 'df' is not defined",
     "output_type": "error",
     "traceback": [
      "\u001b[0;31m---------------------------------------------------------------------------\u001b[0m",
      "\u001b[0;31mNameError\u001b[0m                                 Traceback (most recent call last)",
      "\u001b[0;32m<ipython-input-1-470fb035c61b>\u001b[0m in \u001b[0;36m<module>\u001b[0;34m\u001b[0m\n\u001b[0;32m----> 1\u001b[0;31m \u001b[0mdf\u001b[0m\u001b[0;34m[\u001b[0m\u001b[0;34m\"estateUrl\"\u001b[0m\u001b[0;34m]\u001b[0m\u001b[0;34m.\u001b[0m\u001b[0mvalues\u001b[0m\u001b[0;34m(\u001b[0m\u001b[0;34m)\u001b[0m\u001b[0;34m\u001b[0m\u001b[0;34m\u001b[0m\u001b[0m\n\u001b[0m",
      "\u001b[0;31mNameError\u001b[0m: name 'df' is not defined"
     ]
    }
   ],
   "source": [
    "df[\"estateUrl\"].values()"
   ]
  },
  {
   "cell_type": "code",
   "execution_count": null,
   "metadata": {},
   "outputs": [],
   "source": []
  }
 ],
 "metadata": {
  "kernelspec": {
   "display_name": "Python 3",
   "language": "python",
   "name": "python3"
  },
  "language_info": {
   "codemirror_mode": {
    "name": "ipython",
    "version": 3
   },
   "file_extension": ".py",
   "mimetype": "text/x-python",
   "name": "python",
   "nbconvert_exporter": "python",
   "pygments_lexer": "ipython3",
   "version": "3.7.4"
  }
 },
 "nbformat": 4,
 "nbformat_minor": 4
}
