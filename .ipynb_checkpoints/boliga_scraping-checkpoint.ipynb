{
 "cells": [
  {
   "cell_type": "code",
   "execution_count": 1,
   "metadata": {},
   "outputs": [],
   "source": [
    "import pandas as pd\n",
    "import numpy as np\n",
    "import matplotlib.pyplot as plt\n",
    "\n",
    "import tqdm.notebook as tqdm"
   ]
  },
  {
   "cell_type": "markdown",
   "metadata": {},
   "source": [
    "### Scraping Boliga website for data"
   ]
  },
  {
   "cell_type": "code",
   "execution_count": null,
   "metadata": {},
   "outputs": [],
   "source": []
  },
  {
   "cell_type": "code",
   "execution_count": 4,
   "metadata": {},
   "outputs": [],
   "source": [
    "import requests\n",
    "from bs4 import BeautifulSoup\n",
    "import re\n",
    "import json\n",
    "\n",
    "def houses_boliga(number_houses):\n",
    "    \"\"\"\n",
    "    Returns a list of all ids for houses on boliga\n",
    "    \"\"\"\n",
    "    house_id = list()\n",
    "    url = \"https://www.boliga.dk/resultat?\"\n",
    "    \n",
    "    for i in range(int(number_houses/50)):\n",
    "        new_url = url + f\"?page={i}\"\n",
    "        response = requests.get(new_url)\n",
    "        html = response.text\n",
    "        soup = BeautifulSoup(html,\"html.parser\")\n",
    "        ids = soup.find_all(\"a\",{\"class\":\"house-list-item\"})\n",
    "        link_houses = list()\n",
    "\n",
    "        for link in ids:\n",
    "            link_houses.append(re.findall(\"(/\\d{4,}/)\",link[\"href\"])[0].replace(\"/\",\"\"))\n",
    "        \n",
    "        house_id.extend(link_houses)\n",
    "        \n",
    "    return house_id\n",
    "\n",
    "def get_info(id_list):\n",
    "    \n",
    "    \"\"\"\n",
    "    Take an list with ids of houses on boliga and gets specific data about these ids\n",
    "    \n",
    "    \"\"\"\n",
    "    all_df = list()\n",
    "    new_keys = [\"registeredArea\",\"downPayment\",\"estateUrl\",\"currentArchiveId\",\"forSaleNowId\",\n",
    "                \"foreclosureId\",\"selfsaleEstateId\",\"cleanStreet\",\"estateId\",\"latitude\",\"longitude\",\n",
    "               \"propertyType\",\"priceChangePercentTotal\",\"energyClass\",\"price\",\"rooms\",\"size\",\"lotSize\",\n",
    "               \"floor\",\"buildYear\",\"city\",\"isActive\",\"municipality\",\"zipCode\",\"street\",\n",
    "                \"squaremeterPrice\",\"daysForSale\",\"createdDate\",\"basementSize\",\"views\"]\n",
    "    \n",
    "    for house_id in id_list:\n",
    "        response = requests.get(f'https://api.boliga.dk/api/v2/estate/{house_id}')\n",
    "        response = response.json()\n",
    "        df_dict = {key: response[key] for key in new_keys}\n",
    "        df = pd.DataFrame(df_dict,index=[0])\n",
    "        all_df.append(df)\n",
    "        \n",
    "    df = pd.concat(all_df,axis=0,ignore_index=True)\n",
    "    \n",
    "    return df\n",
    "\n",
    "def get_reviews(df):\n",
    "    bodys = list()\n",
    "    i=0\n",
    "    for link in tqdm.tqdm(df[\"estateUrl\"].values[100:110]):\n",
    "        i += 1\n",
    "        response = requests.get(link)\n",
    "        html = response.text\n",
    "        soup = BeautifulSoup(html,\"html.parser\")\n",
    "        \n",
    "        if link[8:15] ==\"home.dk\": #Home\n",
    "            ids = soup.find_all(\"div\",{\"class\":\"text\"},\"p\")\n",
    "            bodys.extend([x.p.text.replace(\"\\n\",\"\").strip().lower() for x in ids if len(x)>1])\n",
    "        elif link[8:15] ==\"ww.skbo\": #skbolig\n",
    "            ids = soup.find_all(\"div\",{\"class\":\"listing-text\"})\n",
    "            bodys.extend([sk.text.replace(\"\\n\",\"\").replace(\"\\r\",\"\").strip().lower() for sk in ids if len(sk)>1])\n",
    "        elif link[8:15] == \"www.nyb\": #Nybolig\n",
    "            ids = soup.find_all(\"div\",{\"class\":\"foldable-spot__container\"})\n",
    "            bodys.extend([ny.text.replace(\"\\n\",\"\").strip().lower() for ny in ids if len(ny)>1])\n",
    "        elif link [8:15] == \"ww.elto\": #Eltoft Nielsen\n",
    "            ids = soup.find_all(\"br\")\n",
    "            bodys.extend([elto.text.replace(\"\\n\",\"\").strip().lower() for elto in ids if len(elto)>1])\n",
    "        elif link[8:15] == \"www.cla\": #Claus Borg\n",
    "            ids = soup.find_all(\"div\",{\"id\":\"case_content\"})\n",
    "            bodys.extend([cla.text.replace(\"\\n\",\"\").strip().lower() for cla in ids if len(cla)>1])\n",
    "        elif link[8:15] == \"www.lok\": #Lokalbolig\n",
    "            ids = soup.find_all(\"p\")\n",
    "            loka = [lok.text.replace(\"\\n\",\"\").strip().lower() for lok in ids if len(lok.text)>100]\n",
    "            bodys.extend([''.join(loka)])\n",
    "        elif link[8:15] == \"www.edc\": #EDC Bolig\n",
    "            ids = soup.find_all(\"div\",{\"class\":\"description\"})\n",
    "            bodys.extend([edc.text.replace(\"\\n\",\"\").strip().lower() for edc in ids if len(edc)>1])\n",
    "        elif link[8:15] == \"adamsch\": #Adam Schnack\n",
    "            ids = soup.find_all(\"div\",{\"class\":\"listing-text\"})\n",
    "            bodys.extend([adam.text.replace(\"\\n\",\"\").strip().lower() for adam in ids if len(adam)>1])\n",
    "        elif link[8:15] == \"www.est\": #Estate\n",
    "            ids = soup.find_all(\"div\",{\"class\":\"property-description\"})\n",
    "            bodys.extend([est.text.replace(\"\\n\",\"\").strip().lower() for est in ids if len(est)>1])\n",
    "        elif link[8:15] == \"www.bri\": #Brikk Ejendomme\n",
    "            ids = soup.find_all(\"div\",{\"class\":\"prop-user-content\"})\n",
    "            bodys.extend([bri.text.replace(\"\\n\",\"\").strip().lower() for bri in ids if len(bri)>1])\n",
    "        elif link[8:15] == \"www.rea\": #Realmæglerne\n",
    "            ids = soup.find_all(\"div\",{\"class\":\"text-full\"})\n",
    "            bodys.extend([rea.text.replace(\"\\n\",\"\").strip().lower() for rea in ids if len(rea)>1])\n",
    "        elif link[8:15] == \"danboli\": #Danbolig\n",
    "            ids = soup.find_all(\"div\",{\"class\":\"db-description-block\"})\n",
    "            bodys.extend([dan.text.replace(\"\\n\",\"\").strip().lower() for dan in ids if len(dan)>1])\n",
    "        elif link[8:15] == \"ww.lili\": #Lillenhof\n",
    "            ids = soup.find_all(\"div\",{\"class\":\"inner\"})\n",
    "            bodys.extend([dan.text.replace(\"\\n\",\"\").strip().lower() for dan in ids if len(dan)>10])\n",
    "        elif link[8:15] == \"lbaeks.\": #elbæks\n",
    "            bodys.append(np.nan)\n",
    "        elif link[8:15] == \"ww.paul\":\n",
    "            bodys.append(np.nan)\n",
    "        elif link[8:15] == \"bjornby\":\n",
    "            ids = soup.find_all(\"div\",{\"class\":\"content d-md-block d-none wrap-content\"})\n",
    "            bodys.extend([bjor.text.replace(\"\\n\",\"\").strip() for bjor in ids if len(bjor)>10])\n",
    "        else:\n",
    "            print(link,\"not in loop\")\n",
    "            \n",
    "            \n",
    "        if len(bodys) != i:\n",
    "            bodys.append(np.nan)\n",
    "        \n",
    "    \n",
    "    return bodys\n",
    "\n",
    "def read_boliga(csv):\n",
    "    \"\"\"\n",
    "    This function loads the dataset from boliga annd preproccesses it.\n",
    "    \"\"\"\n",
    "    df = pd.read_csv(csv)\n",
    "    y = np.array(df[\"price\"])\n",
    "    \n",
    "    return df\n"
   ]
  },
  {
   "cell_type": "code",
   "execution_count": 5,
   "metadata": {},
   "outputs": [
    {
     "data": {
      "application/vnd.jupyter.widget-view+json": {
       "model_id": "aba12e8e5d134024b5e07b07ad0d161b",
       "version_major": 2,
       "version_minor": 0
      },
      "text/plain": [
       "HBox(children=(FloatProgress(value=0.0, max=10.0), HTML(value='')))"
      ]
     },
     "metadata": {},
     "output_type": "display_data"
    },
    {
     "name": "stdout",
     "output_type": "stream",
     "text": [
      "\n"
     ]
    },
    {
     "data": {
      "text/plain": [
       "['det berømte nyhavn er en af københavns allerstørste turistattraktioner, hvor historiske, farvestrålende og spændende huse kan opleves, hyggelige restauranter besøges og de fascinerende både betragtes. på trods af den livlige atmosfære, gemmer der sig bag glasporten i nyhavn 31 en skøn og rolig baggård, hvor lige præcis denne drømmelejlighed er placeret. \\xa0en lille trappe sørger for, at i får jeres helt egen private indgang til den højtbeliggende stuelejlighed. i træder ind i det store leverum, hvor køkken og stue ligger i en pragtfuld, lys og åben kombination. hvide vægge, gulve og loft samt blottede bjælker pryder indretningen, og tilfører et moderne, rå udtryk, som inviterer til sociale sammenkomster, harmoniske aftener foran brændeovnen samt lækker madlavning i det flotte køkken.\\xa0det store, indretningsvenlige soveværelse kan prale med et stort indbygget skab, som i også finder i entréen, så i ikke behøver at bekymre jer om opbevaringsplads. det sidste stop på turen er det elegante badeværelse, hvor der er både vindue, vaskefaciliteter og separat brus.\\xa0\\xa0boligen er beliggende i smukke omgivelser i en unik, historisk ejendom fra 1800-tallet. lige ude foran den stille oase af en baggård, har i nyhavns fantastiske liv, hvor der altid er noget at se, spise og opleve. den særdeles attraktive adresse betyder, at i er tæt på alt det, i skal bruge, og mere til. kongens nytorv metrostation, strøget, amalienborg, ofelia beach og utallige butikker, indkøbsmuligheder, restauranter og cafeer er lige rundt om hjørnet. \\xa0\\xa0kontakt os for en fremvisning i dag – og bliv lige så forelskede, som vi er!',\n",
       " 'gennem århundreder har de maleriske huse i nyhavn været hjemsted for mestre i ballet, billedkunst og poesi, og nu er denne toplanslejlighed klar til at tage imod en af nutidens store livskunstnere.bliver det dig, kan du se frem til en hverdag i en mesterligt istandsat liebhaverlejlighed, der ikke bare ligger på solsiden, men tilmed på toppen af nyhavn. lejligheden er placeret øverst i en af nyhavns højeste ejendomme, så du  kommer til at bo højere oppe end masterne på havnens gamle skonnerter, der er dine vuggende naboer.det giver eminente lysindfald i lejligheden, ligesom begge plan byder på en udsigt, der hører til blandt byens bedste. fra lejligheden kan øjet frit panorere over det yndede postkortmotiv med nyhavns farverige huse, ligesom der er kig til byens irgrønne spir, kongens nytorv og en stor bid af himlen over københavn.med en dåbsattest fra år 1700 er ejendommen en af de ældste i nyhavn. originale indslag som synlige loftsbjælker er velbevarede og blander sig smagfuldt med det stilrene og moderne design i lejligheden, der er præget af kvalitet på samtlige 166 kvadratmeter.lejligheden er indrettet med entré, køkken, stue og gæstetoilet i det nedre plan, mens det øvre plan byder på en stor soveafdeling og et badeværelse.de lækre features er talrige og omfatter blandt andet brede fyrretræsplanker, der pryder køkken, stue og soveafdelingen.det åbne køkken har geba-elementer, gaggenau-hvidevarer og belysning fra floss, mens lysdioder i blandingsbatteriet fra italienske guglielmi leverer vand i blåt eller rødt afhængig af temperaturen. gæstetoilettet har sanitet, vask og væghængt toilet fra globo, mens badeværelset forkæler dig med gulvvarme, jacuzzi og en bruseniche, hvor dagens bad kan nydes i selskab med udsigt over byen.livet i denne eksklusive ramme er præget af stilhed, idet den høje placering løfter lejligheden tilpas højt op over nyhavns mangfoldige liv. samtidig er adressen central med alle københavns tilbud lige uden for døren.med andre ord: en lejlighed, der kræver en livsnyder af format. et det dig? så kontakt nybolig, og vi sørger for en fremvisning.har du en bolig der skal sælges? så ring straks til nybolig på telefon 3259-7749 eller mail hertil: 2302@nybolig.dk',\n",
       " 'liebhaveri og stilhed med privat gårdhave og fælles tagterrasse.                            kvarteretvel nok én af byens hyggeligste, smukkeste og mest kendte kvarterer. området omkring nyhavn og kongens nytorv emmer af charme. hyggelige caféer både mod nyhavn og i de stille gader bag nyhavn. metroen kører på kongens nytorv og der er masser af indkøbsmuligheder.ejendommenen smuk og gennemrenoveret ejendom, der er opført i 1780. ejendommen, der ligger på den stille side af nyhavn, består af forhus, sidehus og baghus, hvor denne unikke lejlighed ligger. der er dørtelefon med kamera, brostensbelagt gård, kabel-tv og stille, ugeneret fælles tagterrasse.lejlighedenen helt unik citylejlighed midt i dronningens københavn og alligevel helt stille, med masser af lys. du træder ind i entre med indbygget garderobeskab, herfra videre til \"leverummet\" i form af det store åbne køkken fra køkkensnedkeren i forbindelse til stuen, der er opdelt i et spiseafsnit og et opholdsafsnit. herfra er der store terrassedøre mod den charmerende brostensbelagte gårdhave som deles med naboen. der er stort master bedroom med direkte adgang til walk-in closet.. derudover 2 gode børne-/arbejdsværelser, begge med terassedøre til den forreste fællesgård. stort lækkert brusebadeværelse samt gæstetoilet. en lejlighed langt udover det sædvanlige hvor alt er renoveret.',\n",
       " 'udsigtslejlighed med egen privat garage på nyhavn\\x92s stille side                            kvarteretnyhavn er opført for 250 år siden i 1770. kvarteret blev oprindelig bygget til købmænd og søensolk. efterhånden flyttede borgerskabet ind, og i dag fremstår den idylliske havn som et varemærke for københavn. der er et kæmpe udbud af caféer og restauranter, og den centrale beliggenhed gør, at så godt som alle de andre seværdigheder i frederiksstaden kan nås på få minutter. metroen fanges nemt på kongens nytorv.ejendommennyhavn 12\\x92s vidunderlig facade er meget markant og uden tvivl en af de flotteste ejendomme i nyhavn. ejendommen huser én lejlighed per etage og i den brostensbelagte gård findes privat garage som ejes af denne lejlighed. ejendommen er fredet og dermed fritaget for ejendomsskat og energimærke.lejlighedenlige ved hovededøren er der indgang til disponibel rum med masser af garderobeplads. fin entré men adgang til master bedroom, der ligger stille mod den hyggelige gård. i lejligheden findes tre stuer en suite med høje paneler, smukke fyldningsdøre og mange fine detaljer der leder tankerne tilbage til 1780 - hvor ejendommen blev opført. alle tre stuer har fantastisk udsigt over til nyhavns mere festlige café-side. via fin mellemgang med indbygget skabe ankommer du først til et nydeligt toilet og derefter skønt badeværelse med lækre klinker, badekar og separat brus. enestående køkken alrum på over 50m2 med pejs og fransk altan. dette er lejlighedens hjerte, da hele den store familie kan samles i dette leverum.velkommen hjem til nyhavn',\n",
       " 'denne lejlighed imponerer på alle parametre. den fremtræder med uforlignelige moderne og stilrene løsninger, der elegant blandes med den gamle bygnings oprindelige æstetik.ligeledes er beliggenheden på nyhavn helt exceptionel, der giver et rigt potentiale for at tage del i byens liv og mange kulturelle arrangementer.fra adressen har i på helt tæt hold adgang til alt det bedste, københavn kan tilbyde. nyhavn er naturligvis dragende, men tilsvarende får i også charlottenborg, kongens nytorv og operaen i gåafstand. hverdagens gøremål er ligeledes nær ved, hvilket også gælder for den offentlige trafik.broderparten af beboelsesarealet allokeres til de to sammenhængende stuer, der naturligt fordeles som henholdsvis spisestue og dagligstue. i spisestuen pryder et boffi stålkøkken, som netop i kraft af den tydelige kontrast til den ældre bygnings æstetik, træder særdeles elegant frem.i begge stuer ses høje glaspartier, der lukker et behageligt lys ind, og lofterne er ført således, at bjælkerne er blotlagte – dette i kombination med de rummelige stuer skaber en fortrinlig atmosfære.fra spisestuen er der adgang til soveværelset, der er arrangeret med ovenlysvinduer, faste skabe og tilknyttet boffi badeværelse med en betragtelig bruseniche. det andet boffi badeværelse tilgås fra dagligstuen, og begge badeværelser er udført med store klinker og et nydeligt, moderne design. det ene badeværelse byder endvidere på vaskefaciliteter.gårdmiljøet tager sig fint ud, og her er masser af plads til at opstille alt fra havemøbler til solsenge. udendørsarealet er eminent en varm sommerdag og danner en suveræn ramme om en grillaften i gode venners selskab.',\n",
       " 'nyhavn 53, 1., 1051 københavn knyhavn – direkte til kanalenhelt enestående og smuk herskabslejlighed med 274 m² bolig i et plan direkte ud til nyhavns kanal, roligt beliggende på 1. sal i smuk fredet ejendom fra 1755 i madam toftes gaard.præsentabel ankomst til lejligheden via brostensbelagt gård med (mulighed for etablering af elevator) byder velkommen til lejligheden.lejligheden indeholder 274 m² smagfuld istandsat bolig, hvoraf de 42 m² pt. er indrettet som selvstændig bolig med egen indgang, eget køkken og badeværelse. hovedlejligheden på 232 m² byder bl.a. på 2 højloftede stuer en-suite med høje smukke vinduespartier direkte til nyhavns kanal, imponerende spisestue med fint view gennem den ene stue ligeledes til kanalen.mellemgang, stort moderne badeværelse med separat bruseafdeling og badekar, stort forældresoveværelse samt 2 gode værelser. dejligt stort køkken-alrum med spiseplads i forlængelse til bryggers og fadebur.endvidere separat toilet. den selvstændige lille lejlighed er indrettet med entre, moderne badeværelse, soveværelse og skøn stue direkte til kanalen.lejlighederne fremtræder overalt i en særdeles høj og smagfuld stand med bl.a. smukke parketgulve, høje paneler og renoverede badeværelser og køkken.',\n",
       " 'andel - vidunderlig lejlighed på gammelholmen med kommende altan                            bemærk den lave boligafgift (sammenlign med ejerudgift på ejerlejlighed)kvarteretlejligheden er beliggende i byens mest eftertragtede kvarter. området bag det kongelige teater er også kendt som \"gammelholmen\". kvarteret er præget af flotte, brede, solrige og stille gader \\x96 herluf trolles gade er bestemt ingen undtagelse hertil. de mange elegante facader blev til efter skibsværfterne, flyttede til nyholm (kendt som holmen) i 1859. der er kun 100 meter til havnefronten, nyhavn og kongens nytorv, hermed også metro og strøget. kvarteret oser af den københavnske charme og er samtidig en stille oase.ejendommenmåske byens bedste andelsboligforening? forening stiftet i 1980 med billig boligafgift, da der er 8 butikker i foreningen som andelsboligforeningen ejer. ingen huslejestigning de sidste 15 år. vedligeholdt ejendom med flot facade der leder tankerne hen på det gamle herskabelige københavn. flot elegant port og indgangsparti med høje paneler og smukke udskæringer. foreningen består af 17 andele med et suverænt naboskab hvor man hjælper hinanden. gården er enestående og nydes af folk i alle aldre. der er er loftrum, cykelkæder og værksted. der kommer nye bagtrappedøre, nyt kalkfrit anlæg og altanansøgningen mangler kun de sidste småting inde hos kommunen.lejlighedenfin entré. stort lækkert moderne køkken/alrum som fremstår i smart kontrast til den gamle stil. her er plads til at den store familie kan udfolde sig med køkkengryderne, mens gæster og familien er samlet. der er noget så unikt som buede døre og så naturligvis med oprindelig stuk. lækker stue med masser lys og luft. de kolde vinteraftener kan vinen og den hyggelige aftensstund nydes foran brændeovnen. fra køkken/alrummet og stuen er der det skønneste himmelkig ud over den smukke lave bygning på den anden side af gaden. charmerende badeværelse med separat brus, vaskesøjle og fin marmorbordplade. hyggeligt børneværelse som er godt udnyttet. bedårende soveværelse med fransk altan og masser af lys. det er herfra at den kommende altan på ca. 4 m2 kan nydes. lejligheden ligger på øverste etage i ejendommen hvilket giver et fantastisk lysindfaldvelkommen hjem til gammelholmen.',\n",
       " \"med det kongelige teater, charlottenborg, nyhavn og kongens nytorv som de nærmeste naboer taler denne beliggenhed vist sit tydelige sprog: her kommer man til at bo helt unikt i hjertet af københavn k med alle byens mange fristelser, bedste restauranter, gallerier, kulturtilbud, forretningsliv, offentlig transport og ikke mindst den maritime stemning tæt ved vandkanten helt, helt tæt på. ja, det bliver stort set ikke bedre eller mere centralt, og vi er sikre på, at ethvert bymenneske med stort b straks vil føle sig tilpas og hjemme her på herluf trolles gade 7. trods sin centrale placering, er gaden faktisk yderst stille og fredfyldt. fra jeres nye adresse øverst i den elegante bygning fra 1890 kan i skimte havnen nede for enden af gaden, hvilket er en skøn kvalitet, og på et øjeblik kan i spadsere på tur, følge inderhavnsbroen over til christianshavn og slentre langs vandkanten i begge retninger – mod operaen og refshaleøen såvel som mod islands brygge. beliggenheden er i top, og det samme gælder for den eksklusive liebhaverlejlighed på 5. sal, som tildeler jer hele 111 spændende kvadratmeter, som alle bærer præg af stor detaljerigdom, gode kvalitetsmaterialer og – ikke mindst – masser af hygge og stemning. lejligheden har et et stort disponibelt rum med vaskemaskine og tørretumbler. dette rum er virkelig en stor værdi i hverdagen, hvor de praktiske pligter kan få deres egen afdeling den at forstyrre i den øvrige boligindretning. via hoveddøren ankommer i til den fine entré med smukke, brede plankegulve, som viser jer ind til lejlighedens til regulære soveværelser og videre ind til det fantastiske opholdsmiljø, som forener køkken-alrum og stuen. køkkenet står stilfuldt i et lyst, tidløst design med grebsfrie moduler og alt i hård hvidevarer. i midten er der opført en fed køkken-ø, hvor gæsterne kan nyde en glas vin under madlavningen, og takket være de fine ovenlysvinduer er hele rummet flot lyst op! selvom der er tale om ét åbent lokale, opleves køkkenet stadig lidt som sin egen zone grundet de smukke, mørke og kvadratiske gulvfliser, som står i kontrast til stuen plankegulv, samt på grund af de charmerende søjler, som skærmer en smule af. stuen åbner sig med masser af plads til sofagruppen og spisebordet, og den hyggelige pejs i hjørnet sætter blot prikken over i'et. til slut rummer lejligheden et stort, lækkert velværebadeværelse med separat, glasafskærmet bruseparti. en lejlighed, som må og skal opleves.book en fremvisning nu hos nybolig munch & bjerregaard!bestil en gratis & uforpligtende salgsvurdering allerede i dag hos nybolig munch & bjerregaard på tlf: 3587 7000!vi har butikker på.-\\t torvegade 27, 1400 københavn k       -\\t jagtvej 55, 2200 københavn n       -       frederikssundsvej 29, 2400 københavn nv\",\n",
       " 'herskabslejligheden i cort adelers gade er gennemført renoveret med snedkerkøkken fra nicolai bo og badeværelse med elementer ligeså. der er vinkælder under soveværelset og privat cykelkælder/hobbyrum med direkte udgang til den hyggelige store gård med mange hyggelige kroge og grillområder. man kunne også have en kajak i cykelkælderen, for vandet i inderhavnen ligger blot 110 meter fra lejligheden. lejligheden ligger på belle etage, den smukke etage, som i skjult betydning er den første og fineste etage over stueetagen. den har en sjælden højde til loftet og det smukkeste lysindfald. her er 206 m2 fordelt i en rigtig god planløsning, der får hverdagen til at fungere lydefrit. fra den lille altan kan man mærke byens puls, og der er kig til christiansborg, nyhavn og københavns kanal. den store altan har middagssol, vender mod gården og her er der plads til grill, spisebord og en lille sofa. der er elevator i ejendommen. vil man bo centralt og lækkert i københavn, bliver det ikke meget bedre end her. bremerholm blev til bremerholm, fordi orlogsværftet blev bygget af skibsbyggere fra bremen omkring 1800. før da hed holmen gammelholm. det er et hyggeligt og roligt kvarter, en lille landsby i byen med mange små butikker og gallerier. metroen er her med rejser under jorden direkte til alle stationer på et øjeblik.',\n",
       " 'udsigtslejlighed med altan & elevator i boheme-stil på toppen af gammelholmen                            kvarteretlejligheden er beliggende i byens mest eftertragtede kvarter. området bag det kongelige teater er også kendt som \"gammelholmen\" og er præget af flotte, brede, solrige og stille gader - peder skrams gade er bestemt ingen undtagelse hertil. boligkvarteret med de mange elegante facader blev til efter skibsværfterne, der lå her før, flyttede til nyholm (kendt som holmen) i 1859. der er kun 50 meter til havnefronten, nyhavn og kongens nytorv, hermed også metro og strøget.ejendommenden nye elevator går let og lydløst op til 5. sal. i den vedligeholdte ejendom med flot facade og nyere tag. facaden mod gaden er pudset op inden for de sidste par år. nydelig indgangsparti med høje paneler og smukt trappeforløb der fremstår nymalet. de lodrette vinduerne i lejligheden fremstår i dårlig stand og man må forvente at disse skal udskiftes snarest. ejendommen er en del af irmakarréen, der har en stor grøn fællesgård med borde, bænke og legearealer. dørtelefon, kabel-tv, cykelskure og kælderrum til de enkelte lejligheder. god, hyggelig e/f med 6 lejligheder, sund økonomi og orden i sagerne, hvorfor de lave fællesudgifter.lejlighedenudsigtslejlighed i boheme-stil på toppen af gammelholmen med masser af lys og luft. fin entré med god plads til overtøjet. stort køkken/alrum med to ovenlysvinduer. køkkenet er charmerende og passer perfekt til de hvidmalede trægulve på elegant vis. skøn stue med synlige bjælker og brændeovn. stuen er vestenvendt hvilket bevirker, at det vælter ind med sol om eftermiddagen heroppe på toppen. endvidere er det muligt at lave et ekstra værelse i stuen, så der bliver 6 værelser i alt. ejendommen overfor er knap så høj, så stuen er ugeneret og der er kig til masser af københavnske kirketårne. via franske døre er der adgang til fint kontor/børneværelse. skønt soveværelse stille beliggende mod gården. fint flisebadeværelse med separat brus og vindue. lejlighedens 3. soveværelse er ligeledes stille beliggende mod gården og har udgang til lækker altan med træbelægning på over 4 kvm. fra altanen er et skønt kig over karréen og masser af sol, lys og luft.']"
      ]
     },
     "execution_count": 5,
     "metadata": {},
     "output_type": "execute_result"
    }
   ],
   "source": [
    "df = read_boliga(\"house_data.csv\")\n",
    "get_reviews(df)"
   ]
  },
  {
   "cell_type": "code",
   "execution_count": null,
   "metadata": {},
   "outputs": [],
   "source": []
  },
  {
   "cell_type": "code",
   "execution_count": null,
   "metadata": {},
   "outputs": [],
   "source": []
  },
  {
   "cell_type": "code",
   "execution_count": null,
   "metadata": {},
   "outputs": [],
   "source": []
  },
  {
   "cell_type": "code",
   "execution_count": null,
   "metadata": {},
   "outputs": [],
   "source": []
  },
  {
   "cell_type": "code",
   "execution_count": null,
   "metadata": {},
   "outputs": [],
   "source": []
  }
 ],
 "metadata": {
  "kernelspec": {
   "display_name": "Python 3",
   "language": "python",
   "name": "python3"
  },
  "language_info": {
   "codemirror_mode": {
    "name": "ipython",
    "version": 3
   },
   "file_extension": ".py",
   "mimetype": "text/x-python",
   "name": "python",
   "nbconvert_exporter": "python",
   "pygments_lexer": "ipython3",
   "version": "3.7.4"
  }
 },
 "nbformat": 4,
 "nbformat_minor": 4
}
