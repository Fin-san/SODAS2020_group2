{
 "cells": [
  {
   "cell_type": "code",
<<<<<<< HEAD
   "execution_count": 8,
=======
<<<<<<< HEAD
   "execution_count": 4,
=======
   "execution_count": 1,
>>>>>>> 56c7ac93451056bdfa733371d7dcaef3d0791fd9
>>>>>>> b2d99e6d5bbef68e6c5a0edfc93cf8ebc11a7fe1
   "metadata": {},
   "outputs": [],
   "source": [
    "import pandas as pd\n",
    "import numpy as np\n",
    "import matplotlib.pyplot as plt\n",
    "from geopy.distance import geodesic\n",
    "import tqdm.notebook as tqdm\n",
    "from collections import Counter\n",
    "import lemmy\n",
    "\n",
    "import requests\n",
    "from bs4 import BeautifulSoup\n",
    "import re\n",
    "import json\n",
    "\n",
<<<<<<< HEAD
    "#from nltk.corpus import stopwords\n",
    "#import stanfordnlp\n",
=======
    "#Text Analysis\n",
    "import nltk\n",
    "from nltk.corpus import stopwords\n",
    "\n",
    "import spacy\n",
    "import da_core_news_md as da\n",
    "import lemmy.pipe\n",
    "\n",
    "try:\n",
    "    nlp = da.load()\n",
    "    pipe = lemmy.pipe.load('da')\n",
    "    nlp.add_pipe(pipe, after='tagger')\n",
    "except ValueError:\n",
    "    None\n",
    "\n",
    "\n",
>>>>>>> 56c7ac93451056bdfa733371d7dcaef3d0791fd9
    "%matplotlib inline"
   ]
  },
  {
   "cell_type": "markdown",
   "metadata": {},
   "source": [
    "### Group 2"
   ]
  },
  {
   "cell_type": "code",
<<<<<<< HEAD
   "execution_count": null,
=======
<<<<<<< HEAD
<<<<<<< HEAD
<<<<<<< HEAD
   "execution_count": 6,
=======
   "execution_count": 102,
>>>>>>> 56c7ac93451056bdfa733371d7dcaef3d0791fd9
=======
   "execution_count": 52,
>>>>>>> 9fb45fa2c9e6ee56bfdd438f85391a4797b09040
=======
   "execution_count": 53,
>>>>>>> 280afb4a85e4ce10e5a66475dc6b73c4b81036e7
>>>>>>> b2d99e6d5bbef68e6c5a0edfc93cf8ebc11a7fe1
   "metadata": {},
   "outputs": [],
   "source": [
    "def houses_boliga(number_houses):\n",
    "    \"\"\"\n",
    "    Returns a list of all ids for houses on boliga\n",
    "    \n",
    "    \"\"\"\n",
    "    house_id = list()\n",
    "    url = \"https://www.boliga.dk/resultat\"\n",
    "    \n",
    "    for i in range(int(number_houses/50)):\n",
    "        new_url = url + f\"?page={i}\"\n",
    "        response = requests.get(new_url)\n",
    "        html = response.text\n",
    "        soup = BeautifulSoup(html,\"html.parser\")\n",
    "        ids = soup.find_all(\"a\",{\"class\":\"house-list-item\"})\n",
    "        link_houses = list()\n",
    "\n",
    "        for link in ids:\n",
    "            link_houses.append(re.findall(\"(/\\d{4,}/)\",link[\"href\"])[0].replace(\"/\",\"\"))\n",
    "        \n",
    "        house_id.extend(link_houses)\n",
    "        \n",
    "    return house_id\n",
    "\n",
    "def get_info(id_list):\n",
    "    \n",
    "    \"\"\"\n",
    "    Take an list with ids of houses on boliga and gets specific data about these ids\n",
    "    \n",
    "    \"\"\"\n",
    "    all_df = list()\n",
    "    new_keys = [\"registeredArea\",\"downPayment\",\"estateUrl\",\"currentArchiveId\",\"forSaleNowId\",\n",
    "                \"foreclosureId\",\"selfsaleEstateId\",\"cleanStreet\",\"estateId\",\"latitude\",\"longitude\",\n",
    "               \"propertyType\",\"priceChangePercentTotal\",\"energyClass\",\"price\",\"rooms\",\"size\",\"lotSize\",\n",
    "               \"floor\",\"buildYear\",\"city\",\"isActive\",\"municipality\",\"zipCode\",\"street\",\n",
    "                \"squaremeterPrice\",\"daysForSale\",\"createdDate\",\"basementSize\",\"views\"]\n",
    "    \n",
    "    for house_id in id_list:\n",
    "        response = requests.get(f'https://api.boliga.dk/api/v2/estate/{house_id}')\n",
    "        response = response.json()\n",
    "        df_dict = {key: response[key] for key in new_keys}\n",
    "        df = pd.DataFrame(df_dict,index=[0])\n",
    "        all_df.append(df)\n",
    "\n",
    "    df = pd.concat(all_df,axis=0,ignore_index=True)\n",
    "    \n",
    "    return df\n",
    "\n",
    "def get_reviews(df):\n",
    "    bodys = list()\n",
    "    #Finder alle ejendomsmæglere, som har mere end 100 huse til salg\n",
    "    for value in df[\"estateUrl\"].values:\n",
    "        estates.append(value[8:15])\n",
    "    numbers = dict(Counter(estates))\n",
    "    over_100 = dict() \n",
    "    for key, value in numbers.items():\n",
    "        if value > 100:\n",
    "            over_100[key] = value\n",
    "    #Kører igennem alle links og finder tilhørende beskrivelse\n",
    "    for link in tqdm.tqdm(df[\"estateUrl\"].values):\n",
    "        try:\n",
    "            response = requests.get(link)\n",
    "            html = response.text\n",
    "            soup = BeautifulSoup(html,\"html.parser\")\n",
    "            \n",
    "            if link[8:15] ==\"home.dk\": #Home\n",
    "                ids = soup.find_all(\"div\",{\"class\":\"text\"},\"p\")\n",
    "                bodys.extend([x.p.text.replace(\"\\n\",\"\").strip().lower() for x in ids[0:1] if len(x)>1])\n",
    "            elif link[8:15] ==\"ww.skbo\": #skbolig\n",
    "                ids = soup.find_all(\"div\",{\"class\":\"listing-text\"})\n",
    "                bodys.extend([sk.text.replace(\"\\n\",\"\").replace(\"\\r\",\"\").strip().lower() for sk in ids[0:1] if len(sk)>1])\n",
    "            elif link[8:15] == \"www.nyb\": #Nybolig\n",
    "                ids = soup.find_all(\"div\",{\"class\":\"foldable-spot__container\"})\n",
    "                bodys.extend([ny.text.replace(\"\\n\",\"\").strip().lower() for ny in ids[0:1] if len(ny)>1])\n",
    "            elif link [8:15] == \"ww.elto\": #Eltoft Nielsen\n",
    "                ids = soup.find_all(\"br\")\n",
    "                bodys.extend([elto.text.replace(\"\\n\",\"\").strip().lower() for elto in ids[0:1] if len(elto)>1])\n",
    "            elif link[8:15] == \"www.cla\": #Claus Borg\n",
    "                ids = soup.find_all(\"div\",{\"id\":\"case_content\"})\n",
    "                bodys.extend([cla.text.replace(\"\\n\",\"\").strip().lower() for cla in ids[0:1] if len(cla)>1])\n",
    "            elif link[8:15] == \"www.lok\": #Lokalbolig\n",
    "                ids = soup.find_all(\"div\",{\"class\":\"css-s7itso eknr0ef1\"})\n",
    "                bodys.extend([car.text.replace(\"\\n\",\"\").strip() for car in ids[0:1] if len(car)>1])\n",
    "            elif link[8:15] == \"www.edc\": #EDC Bolig\n",
    "                ids = soup.find_all(\"div\",{\"class\":\"description\"})\n",
    "                bodys.extend([edc.text.replace(\"\\n\",\"\").strip().lower() for edc in ids[0:1] if len(edc)>1])\n",
    "            elif link[8:15] == \"adamsch\": #Adam Schnack\n",
    "                ids = soup.find_all(\"div\",{\"class\":\"listing-text\"})\n",
    "                bodys.extend([adam.text.replace(\"\\n\",\"\").strip().lower() for adam in ids[0:1] if len(adam)>1])\n",
    "            elif link[8:20] == \"www.estate.d\": #Estate\n",
    "                ids = soup.find_all(\"div\",{\"class\":\"property-description\"})\n",
    "                bodys.extend([est.text.replace(\"\\n\",\"\").strip().lower() for est in ids[0:1] if len(est)>1])\n",
    "            elif link[8:15] == \"www.bri\": #Brikk Ejendomme\n",
    "                ids = soup.find_all(\"div\",{\"class\":\"prop-user-content\"})\n",
    "                bodys.extend([bri.text.replace(\"\\n\",\"\").strip().lower() for bri in ids[0:1] if len(bri)>1])\n",
    "            elif link[8:15] == \"www.rea\": #Realmæglerne\n",
    "                ids = soup.find_all(\"div\",{\"class\":\"text-full\"})\n",
    "                bodys.extend([rea.text.replace(\"\\n\",\"\").strip().lower() for rea in ids[0:1] if len(rea)>1])\n",
    "            elif link[8:15] == \"danboli\": #Danbolig\n",
    "                ids = soup.find_all(\"div\",{\"class\":\"db-description-block\"})\n",
    "                bodys.extend([dan.text.replace(\"\\n\",\"\").strip().lower() for dan in ids[0:1] if len(dan)>1])\n",
    "            elif link[8:15] == \"ww.lili\": #Lillenhof\n",
    "                ids = soup.find_all(\"div\",{\"class\":\"inner\"})\n",
    "                bodys.extend([dan.text.replace(\"\\n\",\"\").strip().lower() for dan in ids[0:1] if len(dan)>10])\n",
    "            elif link[8:15] == \"bjornby\":\n",
    "                ids = soup.find_all(\"div\",{\"class\":\"content d-md-block d-none wrap-content\"})\n",
    "                bodys.extend([bjor.text.replace(\"\\n\",\"\").strip() for bjor in ids[0:1] if len(bjor)>10])\n",
    "            elif link[8:15] == 'www.hov': #Hovmand\n",
    "                ids = soup.find_all(\"div\",{\"class\":\"column\"})\n",
    "                bodys.extend([hov.text.replace(\"\\n\",\"\").strip() for hov in ids[0:1] if len(hov)>1])\n",
    "            elif link[8:15] == 'ww.jesp': #Jesper Nielsen\n",
    "                ids = soup.find_all(\"div\",{\"class\":\"case-description\"})\n",
    "                bodys.extend([jesp.text.replace(\"\\n\",\"\").strip() for jesp in ids[0:1] if len(jesp)>1])\n",
    "            elif link[8:15] == \"www.sel\": #Selvsalg\n",
    "                ids = soup.find_all(\"div\",{\"class\":\"tab-pane active fade in\"})\n",
    "                bodys.extend([selv.text.replace(\"\\n\",\"\").strip() for selv in ids[0:1] if len(selv)>1])\n",
    "            elif link[8:15] == \"www.bol\": #Bolig\n",
    "                ids = soup.find_all(\"div\",{\"class\":\"description col-md-16\"})\n",
    "                bodys.extend([bol.text.replace(\"\\n\",\"\").strip() for bol in ids[0:1] if len(bol)>1])\n",
    "            elif link[8:15] == 'www.joh': #Johns\n",
    "                ids = soup.find_all(\"div\",{\"class\":\"column\"})\n",
    "                bodys.extend([john.text.replace(\"\\n\",\"\").strip() for john in ids[0:1] if len(john)>1])\n",
    "            elif link[8:15] == \"racking\": #Robinhus\n",
    "                ids = soup.find_all(\"div\",{\"class\":\"text-container\"})\n",
    "                bodys.extend([robin.text.replace(\"\\n\",\"\").strip() for robin in ids[0:1] if len(robin)>1])\n",
    "            elif link[8:15] == \"www.min\": #minbolighandel\n",
    "                ids = soup.find_all(\"div\",{\"class\":\"description col-md-16\"})\n",
    "                bodys.extend([minb.text.replace(\"\\n\",\"\").strip() for minb in ids[0:1] if len(minb)>1])\n",
    "            elif link[8:15] == \"ww.unni\": #Unnibolig\n",
    "                ids = soup.find_all(\"div\",{\"class\":\"column\"})\n",
    "                bodys.extend([un.text.replace(\"\\n\",\"\").strip() for un in ids[0:1] if len(un)>1])\n",
    "            elif link[8:15] == \"www.sdb\": #Sdb bolig\n",
    "                ids = soup.find_all(\"div\",{\"class\":\"column\"})\n",
    "                bodys.extend([un.text.replace(\"\\n\",\"\").strip() for un in ids[0:1] if len(un)>1])\n",
    "            elif link[8:15] == \"ww.land\":#Landobolig\n",
    "                ids = soup.find_all(\"div\",{\"class\":\"col-md-8\"})\n",
    "                bodys.extend([land.text.replace(\"\\n\",\"\").strip() for land in ids[0:1] if len(land)>1])\n",
    "            elif link[8:15] == \"www.ber\": #Bermistof\n",
    "                ids = soup.find_all(\"div\",{\"class\":\"column\"})\n",
    "                bodys.extend([ber.text.replace(\"\\n\",\"\").strip() for ber in ids[0:1] if len(ber)>1])\n",
    "            elif link [8:20] == 'www.carlsber': #Carlsberg Byen\n",
    "                ids = soup.find_all(\"div\",{\"itemprop\":\"description\"})\n",
    "                bodys.extend([car.text.replace(\"\\n\",\"\").strip() for car in ids[0:1] if len(car)>1])\n",
    "            elif link[8:15] == \"www.car\": #Carsten Nordbo\n",
    "                ids = soup.find_all(\"div\",{\"class\":\"description col-md-16\"})\n",
    "                bodys.extend([car.text.replace(\"\\n\",\"\").strip() for car in ids[0:1] if len(car)>1])\n",
    "            elif link[8:15] == 'ww.agri': \n",
    "                ids = soup.find_all(\"div\",{\"class\":\"col-md-8 col-sm-7 hidden-xs text-box desktop\"})\n",
    "                bodys.extend([agr.text.replace(\"\\n\",\"\").strip() for agr in ids[0:1] if len(agr)>1])\n",
    "            elif link[8:15] == \"www.pla\":#Place2Live\n",
    "                ids = soup.find_all(\"div\",{\"class\":\"col-lg-16\"})\n",
    "                bodys.extend([pla.text.replace(\"\\n\",\"\").strip() for pla in ids[0:1] if len(pla)>1])\n",
    "            elif link[8:15] == \"www.vil\": #Villadsenbolig\n",
    "                ids = soup.find_all(\"div\",{\"class\":\"description col-md-16\"})\n",
    "                bodys.extend([vil.text.replace(\"\\n\",\"\").strip() for vil in ids[0:1] if len(vil)>1])\n",
    "            elif link[8:15] == 'maegler': #Mæglerhuset\n",
    "                ids = soup.find_all(\"div\",{\"class\":\"case-text\"})\n",
    "                bodys.extend([mae.text.replace(\"\\n\",\"\").strip() for mae in ids[0:1] if len(mae)>1])\n",
    "            elif link[8:15] == 'ww.thom': #ThomasJørgensen\n",
    "                ids = soup.find_all(\"div\",{\"class\":\"description col-md-16\"})\n",
    "                bodys.extend([thom.text.replace(\"\\n\",\"\").strip() for thom in ids[0:1] if len(thom)>1])\n",
    "            elif link[8:15] == 'www.htb': #HTbolig\n",
    "                ids = soup.find_all(\"div\",{\"class\":\"left-side global-style\"})\n",
    "                bodys.extend([htb.text.replace(\"\\n\",\"\").strip() for htb in ids[0:1] if len(htb)>1])\n",
    "            elif link[8:15] == 'ww.boli': #Boligone\n",
    "                ids = soup.find_all(\"div\",{\"class\":\"first-col\"})\n",
    "                bodys.extend([bol.text.replace(\"\\n\",\"\").strip() for bol in ids[0:1] if len(bol)>1])\n",
    "            elif link[8:15] == \"www.mæg\":#Mæglerringen\n",
    "                ids = soup.find_all(\"div\",{\"class\":\"first-col\"})\n",
    "                bodys.extend([ma.text.replace(\"\\n\",\"\").strip() for ma in ids[0:1] if len(ma)>1])\n",
    "            elif link[8:15] == \"ww.vest\":\n",
    "                ids = soup.find_all(\"div\",{\"class\":\"first-col\"})\n",
    "                bodys.extend([vest.text.replace(\"\\n\",\"\").strip() for vest in ids[0:1] if len(vest)>1])\n",
    "            elif link[8:15] == \"www.tho\": #Thorregård\n",
    "                ids = soup.find_all(\"div\",{\"class\":\"annonce rammebaggrund\"})\n",
    "                bodys.extend([th.text.replace(\"\\n\",\"\").strip() for th in ids[0:1] if len(th)>1])\n",
    "            elif link[8:15] == \"byggegr\": #Byggegrund\n",
    "                ids = soup.find_all(\"div\",{\"class\":\"section section-12\"})\n",
    "                bodys.extend([byg.text.replace(\"\\n\",\"\").strip() for byg in ids[0:1] if len(byg)>1])\n",
    "            elif link[8:15] == \"grundsa\": #Grundsalg\n",
    "                bodys.append(np.nan)\n",
    "            elif link[8:15] == \"rundsal\": #Grundsalg\n",
    "                bodys.append(np.nan)\n",
    "            elif link[8:15] ==\"ww.paul\": #paulun\n",
    "                bodys.append(np.nan)\n",
    "            else:\n",
    "                bodys.append(np.nan)\n",
    "                if link[8:15] in over_100:\n",
    "                    print(\"Missing\", link[8:15])\n",
    "        except:\n",
    "            print(link,\"virkede ikke\")\n",
    "            continue\n",
    "    \n",
    "    return bodys\n",
    "\n",
    "def find_realtors(df):\n",
    "    \"\"\"\n",
    "    This function finds all realtors, who has more that 100 houses for sale.\n",
    "    Used to find the structure for all realtors of relevance\n",
    "    \"\"\"\n",
    "    realtors_link = list()\n",
    "    #Finder alle ejendomsmæglere, som har mere end 100 huse til salg\n",
    "    estates = list()\n",
    "    for value in df[\"estateUrl\"].values:\n",
    "        estates.append(value[8:15])\n",
    "    numbers = dict(Counter(estates))\n",
    "\n",
    "    over_100 = dict() \n",
    "    for key, value in numbers.items():\n",
    "        if value > 100:\n",
    "            over_100[key] = value\n",
    "    already_accounted = list()\n",
    "    for link in tqdm.tqdm(df[\"estateUrl\"].values):        \n",
    "        if link[8:15] in over_100.keys():\n",
    "            if link[8:15] not in already_accounted:\n",
    "                print(link,\"not in loop\")\n",
    "                print(link[8:15])\n",
    "                realtors_link.append(link[8:15])\n",
    "                already_accounted.append(link[8:15])\n",
    "\n",
    "    return realtors_link\n",
    "    \n",
    "def add_keyattr(df):\n",
    "    key_attr = pd.read_csv(\"keywords.csv\",sep=\";\") #Getting keyword file\n",
    "    #Finding all words corresponding to group\n",
    "    ref_list = [key_attr.loc[(key_attr[\"group\"] == \"view_list\")|(key_attr[\"group_2\"] == \"view_list\")|\\\n",
    "                         (key_attr[\"group_3\"] == \"view_list\"), \"word\"],\n",
    "                key_attr.loc[(key_attr[\"group\"] == \"nature_list\")|(key_attr[\"group_2\"] == \"nature_list\")|\\\n",
    "                         (key_attr[\"group_3\"] == \"nature_list\"), \"word\"],\n",
    "                key_attr.loc[(key_attr[\"group\"] == \"interior_list\")|(key_attr[\"group_2\"] == \"interior_list\")|\\\n",
    "                         (key_attr[\"group_3\"] == \"interior_list\"), \"word\"],\n",
    "                key_attr.loc[(key_attr[\"group\"] == \"location_list\")|(key_attr[\"group_2\"] == \"location_list\")|\\\n",
    "                         (key_attr[\"group_3\"] == \"location_list\"), \"word\"],\n",
    "               key_attr.loc[(key_attr[\"group\"] == \"other_list\")|(key_attr[\"group_2\"] == \"other_list\")|\\\n",
    "                         (key_attr[\"group_3\"] == \"other_list\"), \"word\"]]\n",
    "    \n",
    "    #Generation dict for attr\n",
    "    dict_att = {\"view\":list(),\n",
    "                \"nature\":list(),\n",
    "                \"interior\":list(),\n",
    "                \"location\":list(),\n",
    "               \"other\":list()}\n",
    "    \n",
    "    for body in df[\"bodys\"].tolist():\n",
    "        #Generating string\n",
    "        nouns = preprocess_text(body)\n",
    "        for value,cross_list in zip(dict_att.values(),ref_list):\n",
    "            #Generating view key attr\n",
    "            value.append(len(list(set(nouns).intersection(cross_list))))\n",
    "    \n",
    "    added_df = pd.DataFrame(dict_att)\n",
    "    df = df.join(added_df)\n",
    "    \n",
    "    return df\n",
    "\n",
    "def preprocess_csv(csv):\n",
    "    \"\"\"\n",
    "    This function loads the dataset from boliga annd preproccesses it.\n",
    "    \"\"\"\n",
    "    df = pd.read_csv(csv)\n",
    "    y = df[\"price\"]\n",
    "    \n",
    "    pipe_preprocess = make_pipeline(StandardScaler())\n",
    "    \n",
    "    #Removing houses not placed in Denmark\n",
    "    df = df[(df[\"latitude\"]<60) & (df[\"latitude\"]>53) & (df[\"longitude\"]>7) & (df[\"longitude\"]<16)]\n",
    "    \n",
    "    #Making room per sqm\n",
    "    df[\"rooms_per_sqm\"] = (df[\"rooms\"]/df[\"size\"]).replace(np.inf,0)\n",
    "    \n",
    "    df = df.fillna(0)\n",
    "    prop_temp = df[\"propertyType\"]\n",
    "    kom_temp = df[\"kommune_navn\"]\n",
    "    floor_temp = df[\"floor\"]\n",
    "    \n",
    "    #Dropping all non essential columns\n",
    "    df.drop([\"Unnamed: 0\",\"downPayment\",\"estateUrl\",\"currentArchiveId\",\"forSaleNowId\",\n",
    "            \"foreclosureId\",\"cleanStreet\",\"estateId\",\"latitude\",\"longitude\",\"energyClass\",\n",
    "            \"price\",\"city\",\"isActive\",\"municipality\",\"zipCode\",\"street\",\"createdDate\",\n",
    "            \"squaremeterPrice\",\"region\",\"kommune_nr\",\"rooms\",\"propertyType\",\"kommune_navn\"],axis=1,inplace=True)\n",
    "    df = pd.DataFrame(pipe_preprocess.fit_transform(df))\n",
    "    \n",
    "    #Generating dummy variables - Property type\n",
    "    housing_type={1:'villa',2:'raekkehuse', 3:'ejerlejlighed',4:'fritidshus', 5:'andel',6:'landejendom', \n",
    "              7:'helrsgrund',8:'fritidsgrund', 9:'villalejlighed',10:'andet_1',11:\"andet_2\",12:\"andet_3\"}\n",
    "    \n",
    "    dummy_df = pd.get_dummies(prop_temp.replace(housing_type))   \n",
    "    df = pd.concat([df,dummy_df],axis=1)\n",
    "    \n",
    "    #df.drop(\"propertyType\",axis=1,inplace=True)\n",
    "    #df.rename(columns = housing_type,inplace=True)\n",
    "    \n",
    "    #Dropping all None house\n",
    "    df = df[(df[\"helrsgrund\"] == 0) & (df[\"andet_2\"] == 0) & (df[\"andet_3\"] == 0)]\n",
    "    \n",
    "    #Generation dummies variables - Kommune\n",
    "    dummy_mun = pd.get_dummies(kom_temp)\n",
    "    df = pd.concat([df,dummy_mun],axis=1)\n",
    "    #df.drop(\"kommune_navn\",inplace=True,axis=1)\n",
    "    \n",
    "    #Generation dummies variables - Floor\n",
    "    dummy_floor = pd.get_dummies(floor_temp.map(str))\n",
    "    df = pd.concat([df,dummy_floor],axis=1)\n",
    "    \n",
<<<<<<< HEAD
    "    #df.drop(\"floor\",inplace=True,axis=1)\n",
=======
    "    #Making room per sqm\n",
    "    df[\"rooms_per_sqm\"] = df[\"rooms\"]/df[\"size\"]\n",
    "    \n",
    "    #Dropping all non essential columns\n",
    "    #df.drop([\"Unnamed: 0.1\",\"downPayment\",\"estateUrl\",\"currentArchiveId\",\"forSaleNowId\",\n",
<<<<<<< HEAD
    "           # \"foreclosureId\",\"cleanStreet\",\"estateId\",\"latitude\",\"longitude\",\"energyClass\",\n",
    "            #\"price\",\"city\",\"isActive\",\"municipality\",\"zipCode\",\"street\",\"createdDate\",\n",
    "            #\"squaremeterPrice\",\"region\",\"kommune_nr\",\"rooms\"],axis=1,inplace=True)\n",
=======
    "    #        \"foreclosureId\",\"cleanStreet\",\"estateId\",\"latitude\",\"longitude\",\"energyClass\",\n",
    "    #        \"price\",\"city\",\"isActive\",\"municipality\",\"zipCode\",\"street\",\"createdDate\",\n",
    "    #        \"squaremeterPrice\",\"region\",\"kommune_nr\",\"rooms\"],axis=1,inplace=True)\n",
>>>>>>> 56c7ac93451056bdfa733371d7dcaef3d0791fd9
>>>>>>> b2d99e6d5bbef68e6c5a0edfc93cf8ebc11a7fe1
    "    \n",
    "    #Adding keyattr to df\n",
    "    #df = add_keyattr(df)\n",
    "    \n",
    "    df.dropna(inplace=True)\n",
    "    y = y.iloc[df.index].values\n",
    "    X = df.values\n",
    "    \n",
    "    return X, y, df\n",
    "\n",
    "def preprocess_text(string,nlp=nlp):\n",
    "    \"\"\"\n",
    "    This function takes a string and returns a list with all noun from string lemmatized\n",
    "    \"\"\"\n",
    "\n",
    "    #Removing everything but words\n",
    "    string = re.sub(r'[^\\w\\s]','',string)\n",
    "    \n",
    "    #Removing stopwords\n",
    "    stop_words_list = stopwords.words(\"danish\")\n",
    "    string = [i for i in nltk.word_tokenize(string.lower()) if i not in stop_words_list]\n",
    "    string = \" \".join(string)\n",
    "    \n",
    "    #Getting all nounce\n",
    "    string = nlp(string)\n",
    "    nouns = [word._.lemmas[0] for word in string if word.pos_ == \"NOUN\"]\n",
    "    \n",
    "    return nouns\n",
    "\n",
    "def words_count(list_of_strings):\n",
    "    \"\"\"\n",
    "    This function takes a list of strings and returns a dict with counts of each word\n",
    "    \"\"\"\n",
    "    \n",
    "    sentences = list_of_strings\n",
    "    counts = dict(Counter(sentences))\n",
    "    \n",
    "    return counts\n",
    "\n",
    "def keywords(body):\n",
    "    \"\"\"\n",
    "    This function takes a list of different strings and returns a dataframe with each word and word count\n",
    "    \"\"\"\n",
    "    \n",
    "    word_list = list()\n",
    "    \n",
    "    for bodys in tqdm.tqdm(body):\n",
    "        string = preprocess_text(bodys[0])\n",
    "        word_list.extend(string)\n",
    "        \n",
    "    dict_count = words_count(word_list)\n",
    "    df = pd.DataFrame({\"word\":list(dict_count.keys()),\n",
    "                        \"count\":list(dict_count.values())}).set_index(\"word\")\n",
    "    \n",
    "    #Getting the 300 largest counts returns the keywords used for key attr list\n",
    "    return df\n",
    "    \n",
    "def add_lonlat(df,df_station):\n",
    "    \"\"\"\n",
    "    This function takes two df and returns the distance between two locations of the dataframes\n",
    "    \"\"\"\n",
    "    \n",
    "    min_dist = list()\n",
    "    for location in tqdm(df[\"location\"]):\n",
    "        distance = list()\n",
    "        for lon,lat in zip(df_station[\"lon\"],df_station[\"lat\"]):\n",
    "            distance.append(geodesic((lat,lon), location).km)\n",
    "    \n",
    "        min_dist.append(min(distance))\n",
    "        \n",
    "    df[\"dist_station\"] = min_dist\n",
    "    \n",
    "    return df\n",
    "\n"
   ]
  },
  {
   "cell_type": "code",
<<<<<<< HEAD
   "execution_count": null,
=======
<<<<<<< HEAD
<<<<<<< HEAD
   "execution_count": 7,
   "metadata": {},
   "outputs": [],
   "source": [
    "X, y, df = preprocess_csv(\"house_data_final.csv\")\n",
    "#len(np.unique(np.array(df[\"currentArchiveId\"].values)))"
=======
   "execution_count": 95,
=======
   "execution_count": 3,
>>>>>>> 9fb45fa2c9e6ee56bfdd438f85391a4797b09040
>>>>>>> b2d99e6d5bbef68e6c5a0edfc93cf8ebc11a7fe1
   "metadata": {},
   "outputs": [],
   "source": [
    "X, y, df = preprocess_csv(\"house_data_final.csv\")"
>>>>>>> 56c7ac93451056bdfa733371d7dcaef3d0791fd9
   ]
  },
  {
   "cell_type": "code",
   "execution_count": null,
   "metadata": {},
   "outputs": [],
   "source": []
  },
  {
   "cell_type": "code",
   "execution_count": null,
   "metadata": {},
   "outputs": [],
<<<<<<< HEAD
<<<<<<< HEAD
   "source": []
  },
  {
   "cell_type": "code",
   "execution_count": 19,
   "metadata": {},
   "outputs": [
    {
     "ename": "KeyError",
     "evalue": "'longitude'",
     "output_type": "error",
     "traceback": [
      "\u001b[1;31m---------------------------------------------------------------------------\u001b[0m",
      "\u001b[1;31mKeyError\u001b[0m                                  Traceback (most recent call last)",
      "\u001b[1;32mC:\\ProgramData\\Anaconda3\\lib\\site-packages\\pandas\\core\\indexes\\base.py\u001b[0m in \u001b[0;36mget_loc\u001b[1;34m(self, key, method, tolerance)\u001b[0m\n\u001b[0;32m   2645\u001b[0m             \u001b[1;32mtry\u001b[0m\u001b[1;33m:\u001b[0m\u001b[1;33m\u001b[0m\u001b[1;33m\u001b[0m\u001b[0m\n\u001b[1;32m-> 2646\u001b[1;33m                 \u001b[1;32mreturn\u001b[0m \u001b[0mself\u001b[0m\u001b[1;33m.\u001b[0m\u001b[0m_engine\u001b[0m\u001b[1;33m.\u001b[0m\u001b[0mget_loc\u001b[0m\u001b[1;33m(\u001b[0m\u001b[0mkey\u001b[0m\u001b[1;33m)\u001b[0m\u001b[1;33m\u001b[0m\u001b[1;33m\u001b[0m\u001b[0m\n\u001b[0m\u001b[0;32m   2647\u001b[0m             \u001b[1;32mexcept\u001b[0m \u001b[0mKeyError\u001b[0m\u001b[1;33m:\u001b[0m\u001b[1;33m\u001b[0m\u001b[1;33m\u001b[0m\u001b[0m\n",
      "\u001b[1;32mpandas\\_libs\\index.pyx\u001b[0m in \u001b[0;36mpandas._libs.index.IndexEngine.get_loc\u001b[1;34m()\u001b[0m\n",
      "\u001b[1;32mpandas\\_libs\\index.pyx\u001b[0m in \u001b[0;36mpandas._libs.index.IndexEngine.get_loc\u001b[1;34m()\u001b[0m\n",
      "\u001b[1;32mpandas\\_libs\\hashtable_class_helper.pxi\u001b[0m in \u001b[0;36mpandas._libs.hashtable.PyObjectHashTable.get_item\u001b[1;34m()\u001b[0m\n",
      "\u001b[1;32mpandas\\_libs\\hashtable_class_helper.pxi\u001b[0m in \u001b[0;36mpandas._libs.hashtable.PyObjectHashTable.get_item\u001b[1;34m()\u001b[0m\n",
      "\u001b[1;31mKeyError\u001b[0m: 'longitude'",
      "\nDuring handling of the above exception, another exception occurred:\n",
      "\u001b[1;31mKeyError\u001b[0m                                  Traceback (most recent call last)",
      "\u001b[1;32m<ipython-input-19-6b36788ae54b>\u001b[0m in \u001b[0;36m<module>\u001b[1;34m\u001b[0m\n\u001b[1;32m----> 1\u001b[1;33m df.sample(frac=0.1).plot(kind=\"scatter\",x=\"longitude\",y=\"latitude\",alpha=0.4,\n\u001b[0m\u001b[0;32m      2\u001b[0m        c=\"price\",cmap=plt.get_cmap(\"jet\"),colorbar=True)\n",
      "\u001b[1;32mC:\\ProgramData\\Anaconda3\\lib\\site-packages\\pandas\\plotting\\_core.py\u001b[0m in \u001b[0;36m__call__\u001b[1;34m(self, *args, **kwargs)\u001b[0m\n\u001b[0;32m    790\u001b[0m         \u001b[1;32mif\u001b[0m \u001b[0mkind\u001b[0m \u001b[1;32min\u001b[0m \u001b[0mself\u001b[0m\u001b[1;33m.\u001b[0m\u001b[0m_dataframe_kinds\u001b[0m\u001b[1;33m:\u001b[0m\u001b[1;33m\u001b[0m\u001b[1;33m\u001b[0m\u001b[0m\n\u001b[0;32m    791\u001b[0m             \u001b[1;32mif\u001b[0m \u001b[0misinstance\u001b[0m\u001b[1;33m(\u001b[0m\u001b[0mdata\u001b[0m\u001b[1;33m,\u001b[0m \u001b[0mABCDataFrame\u001b[0m\u001b[1;33m)\u001b[0m\u001b[1;33m:\u001b[0m\u001b[1;33m\u001b[0m\u001b[1;33m\u001b[0m\u001b[0m\n\u001b[1;32m--> 792\u001b[1;33m                 \u001b[1;32mreturn\u001b[0m \u001b[0mplot_backend\u001b[0m\u001b[1;33m.\u001b[0m\u001b[0mplot\u001b[0m\u001b[1;33m(\u001b[0m\u001b[0mdata\u001b[0m\u001b[1;33m,\u001b[0m \u001b[0mx\u001b[0m\u001b[1;33m=\u001b[0m\u001b[0mx\u001b[0m\u001b[1;33m,\u001b[0m \u001b[0my\u001b[0m\u001b[1;33m=\u001b[0m\u001b[0my\u001b[0m\u001b[1;33m,\u001b[0m \u001b[0mkind\u001b[0m\u001b[1;33m=\u001b[0m\u001b[0mkind\u001b[0m\u001b[1;33m,\u001b[0m \u001b[1;33m**\u001b[0m\u001b[0mkwargs\u001b[0m\u001b[1;33m)\u001b[0m\u001b[1;33m\u001b[0m\u001b[1;33m\u001b[0m\u001b[0m\n\u001b[0m\u001b[0;32m    793\u001b[0m             \u001b[1;32melse\u001b[0m\u001b[1;33m:\u001b[0m\u001b[1;33m\u001b[0m\u001b[1;33m\u001b[0m\u001b[0m\n\u001b[0;32m    794\u001b[0m                 \u001b[1;32mraise\u001b[0m \u001b[0mValueError\u001b[0m\u001b[1;33m(\u001b[0m\u001b[1;34mf\"plot kind {kind} can only be used for data frames\"\u001b[0m\u001b[1;33m)\u001b[0m\u001b[1;33m\u001b[0m\u001b[1;33m\u001b[0m\u001b[0m\n",
      "\u001b[1;32mC:\\ProgramData\\Anaconda3\\lib\\site-packages\\pandas\\plotting\\_matplotlib\\__init__.py\u001b[0m in \u001b[0;36mplot\u001b[1;34m(data, kind, **kwargs)\u001b[0m\n\u001b[0;32m     59\u001b[0m             \u001b[0mkwargs\u001b[0m\u001b[1;33m[\u001b[0m\u001b[1;34m\"ax\"\u001b[0m\u001b[1;33m]\u001b[0m \u001b[1;33m=\u001b[0m \u001b[0mgetattr\u001b[0m\u001b[1;33m(\u001b[0m\u001b[0max\u001b[0m\u001b[1;33m,\u001b[0m \u001b[1;34m\"left_ax\"\u001b[0m\u001b[1;33m,\u001b[0m \u001b[0max\u001b[0m\u001b[1;33m)\u001b[0m\u001b[1;33m\u001b[0m\u001b[1;33m\u001b[0m\u001b[0m\n\u001b[0;32m     60\u001b[0m     \u001b[0mplot_obj\u001b[0m \u001b[1;33m=\u001b[0m \u001b[0mPLOT_CLASSES\u001b[0m\u001b[1;33m[\u001b[0m\u001b[0mkind\u001b[0m\u001b[1;33m]\u001b[0m\u001b[1;33m(\u001b[0m\u001b[0mdata\u001b[0m\u001b[1;33m,\u001b[0m \u001b[1;33m**\u001b[0m\u001b[0mkwargs\u001b[0m\u001b[1;33m)\u001b[0m\u001b[1;33m\u001b[0m\u001b[1;33m\u001b[0m\u001b[0m\n\u001b[1;32m---> 61\u001b[1;33m     \u001b[0mplot_obj\u001b[0m\u001b[1;33m.\u001b[0m\u001b[0mgenerate\u001b[0m\u001b[1;33m(\u001b[0m\u001b[1;33m)\u001b[0m\u001b[1;33m\u001b[0m\u001b[1;33m\u001b[0m\u001b[0m\n\u001b[0m\u001b[0;32m     62\u001b[0m     \u001b[0mplot_obj\u001b[0m\u001b[1;33m.\u001b[0m\u001b[0mdraw\u001b[0m\u001b[1;33m(\u001b[0m\u001b[1;33m)\u001b[0m\u001b[1;33m\u001b[0m\u001b[1;33m\u001b[0m\u001b[0m\n\u001b[0;32m     63\u001b[0m     \u001b[1;32mreturn\u001b[0m \u001b[0mplot_obj\u001b[0m\u001b[1;33m.\u001b[0m\u001b[0mresult\u001b[0m\u001b[1;33m\u001b[0m\u001b[1;33m\u001b[0m\u001b[0m\n",
      "\u001b[1;32mC:\\ProgramData\\Anaconda3\\lib\\site-packages\\pandas\\plotting\\_matplotlib\\core.py\u001b[0m in \u001b[0;36mgenerate\u001b[1;34m(self)\u001b[0m\n\u001b[0;32m    261\u001b[0m         \u001b[0mself\u001b[0m\u001b[1;33m.\u001b[0m\u001b[0m_compute_plot_data\u001b[0m\u001b[1;33m(\u001b[0m\u001b[1;33m)\u001b[0m\u001b[1;33m\u001b[0m\u001b[1;33m\u001b[0m\u001b[0m\n\u001b[0;32m    262\u001b[0m         \u001b[0mself\u001b[0m\u001b[1;33m.\u001b[0m\u001b[0m_setup_subplots\u001b[0m\u001b[1;33m(\u001b[0m\u001b[1;33m)\u001b[0m\u001b[1;33m\u001b[0m\u001b[1;33m\u001b[0m\u001b[0m\n\u001b[1;32m--> 263\u001b[1;33m         \u001b[0mself\u001b[0m\u001b[1;33m.\u001b[0m\u001b[0m_make_plot\u001b[0m\u001b[1;33m(\u001b[0m\u001b[1;33m)\u001b[0m\u001b[1;33m\u001b[0m\u001b[1;33m\u001b[0m\u001b[0m\n\u001b[0m\u001b[0;32m    264\u001b[0m         \u001b[0mself\u001b[0m\u001b[1;33m.\u001b[0m\u001b[0m_add_table\u001b[0m\u001b[1;33m(\u001b[0m\u001b[1;33m)\u001b[0m\u001b[1;33m\u001b[0m\u001b[1;33m\u001b[0m\u001b[0m\n\u001b[0;32m    265\u001b[0m         \u001b[0mself\u001b[0m\u001b[1;33m.\u001b[0m\u001b[0m_make_legend\u001b[0m\u001b[1;33m(\u001b[0m\u001b[1;33m)\u001b[0m\u001b[1;33m\u001b[0m\u001b[1;33m\u001b[0m\u001b[0m\n",
      "\u001b[1;32mC:\\ProgramData\\Anaconda3\\lib\\site-packages\\pandas\\plotting\\_matplotlib\\core.py\u001b[0m in \u001b[0;36m_make_plot\u001b[1;34m(self)\u001b[0m\n\u001b[0;32m    968\u001b[0m             \u001b[0mlabel\u001b[0m \u001b[1;33m=\u001b[0m \u001b[1;32mNone\u001b[0m\u001b[1;33m\u001b[0m\u001b[1;33m\u001b[0m\u001b[0m\n\u001b[0;32m    969\u001b[0m         scatter = ax.scatter(\n\u001b[1;32m--> 970\u001b[1;33m             \u001b[0mdata\u001b[0m\u001b[1;33m[\u001b[0m\u001b[0mx\u001b[0m\u001b[1;33m]\u001b[0m\u001b[1;33m.\u001b[0m\u001b[0mvalues\u001b[0m\u001b[1;33m,\u001b[0m\u001b[1;33m\u001b[0m\u001b[1;33m\u001b[0m\u001b[0m\n\u001b[0m\u001b[0;32m    971\u001b[0m             \u001b[0mdata\u001b[0m\u001b[1;33m[\u001b[0m\u001b[0my\u001b[0m\u001b[1;33m]\u001b[0m\u001b[1;33m.\u001b[0m\u001b[0mvalues\u001b[0m\u001b[1;33m,\u001b[0m\u001b[1;33m\u001b[0m\u001b[1;33m\u001b[0m\u001b[0m\n\u001b[0;32m    972\u001b[0m             \u001b[0mc\u001b[0m\u001b[1;33m=\u001b[0m\u001b[0mc_values\u001b[0m\u001b[1;33m,\u001b[0m\u001b[1;33m\u001b[0m\u001b[1;33m\u001b[0m\u001b[0m\n",
      "\u001b[1;32mC:\\ProgramData\\Anaconda3\\lib\\site-packages\\pandas\\core\\frame.py\u001b[0m in \u001b[0;36m__getitem__\u001b[1;34m(self, key)\u001b[0m\n\u001b[0;32m   2798\u001b[0m             \u001b[1;32mif\u001b[0m \u001b[0mself\u001b[0m\u001b[1;33m.\u001b[0m\u001b[0mcolumns\u001b[0m\u001b[1;33m.\u001b[0m\u001b[0mnlevels\u001b[0m \u001b[1;33m>\u001b[0m \u001b[1;36m1\u001b[0m\u001b[1;33m:\u001b[0m\u001b[1;33m\u001b[0m\u001b[1;33m\u001b[0m\u001b[0m\n\u001b[0;32m   2799\u001b[0m                 \u001b[1;32mreturn\u001b[0m \u001b[0mself\u001b[0m\u001b[1;33m.\u001b[0m\u001b[0m_getitem_multilevel\u001b[0m\u001b[1;33m(\u001b[0m\u001b[0mkey\u001b[0m\u001b[1;33m)\u001b[0m\u001b[1;33m\u001b[0m\u001b[1;33m\u001b[0m\u001b[0m\n\u001b[1;32m-> 2800\u001b[1;33m             \u001b[0mindexer\u001b[0m \u001b[1;33m=\u001b[0m \u001b[0mself\u001b[0m\u001b[1;33m.\u001b[0m\u001b[0mcolumns\u001b[0m\u001b[1;33m.\u001b[0m\u001b[0mget_loc\u001b[0m\u001b[1;33m(\u001b[0m\u001b[0mkey\u001b[0m\u001b[1;33m)\u001b[0m\u001b[1;33m\u001b[0m\u001b[1;33m\u001b[0m\u001b[0m\n\u001b[0m\u001b[0;32m   2801\u001b[0m             \u001b[1;32mif\u001b[0m \u001b[0mis_integer\u001b[0m\u001b[1;33m(\u001b[0m\u001b[0mindexer\u001b[0m\u001b[1;33m)\u001b[0m\u001b[1;33m:\u001b[0m\u001b[1;33m\u001b[0m\u001b[1;33m\u001b[0m\u001b[0m\n\u001b[0;32m   2802\u001b[0m                 \u001b[0mindexer\u001b[0m \u001b[1;33m=\u001b[0m \u001b[1;33m[\u001b[0m\u001b[0mindexer\u001b[0m\u001b[1;33m]\u001b[0m\u001b[1;33m\u001b[0m\u001b[1;33m\u001b[0m\u001b[0m\n",
      "\u001b[1;32mC:\\ProgramData\\Anaconda3\\lib\\site-packages\\pandas\\core\\indexes\\base.py\u001b[0m in \u001b[0;36mget_loc\u001b[1;34m(self, key, method, tolerance)\u001b[0m\n\u001b[0;32m   2646\u001b[0m                 \u001b[1;32mreturn\u001b[0m \u001b[0mself\u001b[0m\u001b[1;33m.\u001b[0m\u001b[0m_engine\u001b[0m\u001b[1;33m.\u001b[0m\u001b[0mget_loc\u001b[0m\u001b[1;33m(\u001b[0m\u001b[0mkey\u001b[0m\u001b[1;33m)\u001b[0m\u001b[1;33m\u001b[0m\u001b[1;33m\u001b[0m\u001b[0m\n\u001b[0;32m   2647\u001b[0m             \u001b[1;32mexcept\u001b[0m \u001b[0mKeyError\u001b[0m\u001b[1;33m:\u001b[0m\u001b[1;33m\u001b[0m\u001b[1;33m\u001b[0m\u001b[0m\n\u001b[1;32m-> 2648\u001b[1;33m                 \u001b[1;32mreturn\u001b[0m \u001b[0mself\u001b[0m\u001b[1;33m.\u001b[0m\u001b[0m_engine\u001b[0m\u001b[1;33m.\u001b[0m\u001b[0mget_loc\u001b[0m\u001b[1;33m(\u001b[0m\u001b[0mself\u001b[0m\u001b[1;33m.\u001b[0m\u001b[0m_maybe_cast_indexer\u001b[0m\u001b[1;33m(\u001b[0m\u001b[0mkey\u001b[0m\u001b[1;33m)\u001b[0m\u001b[1;33m)\u001b[0m\u001b[1;33m\u001b[0m\u001b[1;33m\u001b[0m\u001b[0m\n\u001b[0m\u001b[0;32m   2649\u001b[0m         \u001b[0mindexer\u001b[0m \u001b[1;33m=\u001b[0m \u001b[0mself\u001b[0m\u001b[1;33m.\u001b[0m\u001b[0mget_indexer\u001b[0m\u001b[1;33m(\u001b[0m\u001b[1;33m[\u001b[0m\u001b[0mkey\u001b[0m\u001b[1;33m]\u001b[0m\u001b[1;33m,\u001b[0m \u001b[0mmethod\u001b[0m\u001b[1;33m=\u001b[0m\u001b[0mmethod\u001b[0m\u001b[1;33m,\u001b[0m \u001b[0mtolerance\u001b[0m\u001b[1;33m=\u001b[0m\u001b[0mtolerance\u001b[0m\u001b[1;33m)\u001b[0m\u001b[1;33m\u001b[0m\u001b[1;33m\u001b[0m\u001b[0m\n\u001b[0;32m   2650\u001b[0m         \u001b[1;32mif\u001b[0m \u001b[0mindexer\u001b[0m\u001b[1;33m.\u001b[0m\u001b[0mndim\u001b[0m \u001b[1;33m>\u001b[0m \u001b[1;36m1\u001b[0m \u001b[1;32mor\u001b[0m \u001b[0mindexer\u001b[0m\u001b[1;33m.\u001b[0m\u001b[0msize\u001b[0m \u001b[1;33m>\u001b[0m \u001b[1;36m1\u001b[0m\u001b[1;33m:\u001b[0m\u001b[1;33m\u001b[0m\u001b[1;33m\u001b[0m\u001b[0m\n",
      "\u001b[1;32mpandas\\_libs\\index.pyx\u001b[0m in \u001b[0;36mpandas._libs.index.IndexEngine.get_loc\u001b[1;34m()\u001b[0m\n",
      "\u001b[1;32mpandas\\_libs\\index.pyx\u001b[0m in \u001b[0;36mpandas._libs.index.IndexEngine.get_loc\u001b[1;34m()\u001b[0m\n",
      "\u001b[1;32mpandas\\_libs\\hashtable_class_helper.pxi\u001b[0m in \u001b[0;36mpandas._libs.hashtable.PyObjectHashTable.get_item\u001b[1;34m()\u001b[0m\n",
      "\u001b[1;32mpandas\\_libs\\hashtable_class_helper.pxi\u001b[0m in \u001b[0;36mpandas._libs.hashtable.PyObjectHashTable.get_item\u001b[1;34m()\u001b[0m\n",
      "\u001b[1;31mKeyError\u001b[0m: 'longitude'"
     ]
    },
    {
     "data": {
      "image/png": "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\n",
      "text/plain": [
       "<Figure size 432x288 with 1 Axes>"
      ]
     },
     "metadata": {
      "needs_background": "light"
     },
     "output_type": "display_data"
    }
   ],
=======
>>>>>>> 56c7ac93451056bdfa733371d7dcaef3d0791fd9
   "source": [
    "body = pd.read_csv(\"bodys.csv\",index_col =\"Unnamed: 0\").dropna()"
   ]
=======
   "source": []
>>>>>>> 9fb45fa2c9e6ee56bfdd438f85391a4797b09040
  },
  {
   "cell_type": "code",
   "execution_count": null,
   "metadata": {},
<<<<<<< HEAD
   "outputs": [
    {
     "data": {
      "application/vnd.jupyter.widget-view+json": {
       "model_id": "17774ee75a4c4d02bb17af8c877e8a29",
       "version_major": 2,
       "version_minor": 0
      },
      "text/plain": [
       "HBox(children=(FloatProgress(value=0.0, max=43227.0), HTML(value='')))"
      ]
     },
     "metadata": {},
<<<<<<< HEAD
     "output_type": "execute_result"
    }
   ],
   "source": [
    "sum(df[\"price\"]<1500000)"
   ]
  },
  {
   "cell_type": "code",
   "execution_count": 2,
   "metadata": {},
   "outputs": [
    {
     "ename": "NameError",
     "evalue": "name 'preprocess_csv' is not defined",
     "output_type": "error",
     "traceback": [
      "\u001b[1;31m---------------------------------------------------------------------------\u001b[0m",
      "\u001b[1;31mNameError\u001b[0m                                 Traceback (most recent call last)",
      "\u001b[1;32m<ipython-input-2-d01ad0e8ecf9>\u001b[0m in \u001b[0;36m<module>\u001b[1;34m\u001b[0m\n\u001b[1;32m----> 1\u001b[1;33m \u001b[0mX\u001b[0m\u001b[1;33m,\u001b[0m \u001b[0my\u001b[0m\u001b[1;33m,\u001b[0m \u001b[0mdf\u001b[0m \u001b[1;33m=\u001b[0m \u001b[0mpreprocess_csv\u001b[0m\u001b[1;33m(\u001b[0m\u001b[1;34m\"house_data_final.csv\"\u001b[0m\u001b[1;33m)\u001b[0m\u001b[1;33m\u001b[0m\u001b[1;33m\u001b[0m\u001b[0m\n\u001b[0m",
      "\u001b[1;31mNameError\u001b[0m: name 'preprocess_csv' is not defined"
     ]
    }
   ],
   "source": [
    "X, y, df = preprocess_csv(\"house_data_final.csv\")"
   ]
  },
  {
   "cell_type": "code",
   "execution_count": 86,
   "metadata": {
    "scrolled": true
   },
   "outputs": [
=======
     "output_type": "display_data"
    },
>>>>>>> 56c7ac93451056bdfa733371d7dcaef3d0791fd9
    {
     "name": "stdout",
     "output_type": "stream",
     "text": [
      "\n"
     ]
    }
   ],
   "source": [
    "df_test = keywords(body.values)"
   ]
=======
   "outputs": [],
   "source": []
>>>>>>> 9fb45fa2c9e6ee56bfdd438f85391a4797b09040
  },
  {
   "cell_type": "code",
   "execution_count": null,
   "metadata": {},
   "outputs": [],
   "source": []
  },
  {
   "cell_type": "code",
   "execution_count": null,
   "metadata": {},
   "outputs": [],
   "source": []
  },
  {
   "cell_type": "code",
   "execution_count": null,
   "metadata": {},
   "outputs": [],
   "source": []
  },
  {
   "cell_type": "code",
   "execution_count": null,
   "metadata": {},
   "outputs": [],
   "source": []
  },
  {
   "cell_type": "code",
   "execution_count": null,
   "metadata": {},
   "outputs": [],
   "source": []
  },
  {
   "cell_type": "code",
   "execution_count": 11,
   "metadata": {},
<<<<<<< HEAD
   "outputs": [
    {
     "ename": "TypeError",
     "evalue": "type str doesn't define __round__ method",
     "output_type": "error",
     "traceback": [
      "\u001b[1;31m---------------------------------------------------------------------------\u001b[0m",
      "\u001b[1;31mTypeError\u001b[0m                                 Traceback (most recent call last)",
      "\u001b[1;32m<ipython-input-11-1de3bbf5506b>\u001b[0m in \u001b[0;36m<module>\u001b[1;34m\u001b[0m\n\u001b[0;32m      1\u001b[0m \u001b[0mdf_plot\u001b[0m\u001b[1;33m=\u001b[0m \u001b[0mpd\u001b[0m\u001b[1;33m.\u001b[0m\u001b[0mread_csv\u001b[0m\u001b[1;33m(\u001b[0m\u001b[1;34m\"house_data_final.csv\"\u001b[0m\u001b[1;33m)\u001b[0m\u001b[1;33m\u001b[0m\u001b[1;33m\u001b[0m\u001b[0m\n\u001b[0;32m      2\u001b[0m \u001b[1;33m\u001b[0m\u001b[0m\n\u001b[1;32m----> 3\u001b[1;33m \u001b[0mdf_plot\u001b[0m\u001b[1;33m[\u001b[0m\u001b[0mround\u001b[0m\u001b[1;33m(\u001b[0m\u001b[1;34m'price'\u001b[0m\u001b[1;33m)\u001b[0m\u001b[1;33m]\u001b[0m\u001b[1;33m.\u001b[0m\u001b[0mdescribe\u001b[0m\u001b[1;33m(\u001b[0m\u001b[1;33m)\u001b[0m\u001b[1;33m\u001b[0m\u001b[1;33m\u001b[0m\u001b[0m\n\u001b[0m",
      "\u001b[1;31mTypeError\u001b[0m: type str doesn't define __round__ method"
     ]
    }
   ],
   "source": [
    "df_plot= pd.read_csv(\"house_data_final.csv\")\n",
    "\n",
    "df_plot[round('price')].describe()"
   ]
  },
  {
   "cell_type": "code",
   "execution_count": 5,
   "metadata": {},
   "outputs": [],
   "source": [
    "import seaborn as sns "
   ]
  },
  {
   "cell_type": "code",
   "execution_count": 14,
   "metadata": {
    "scrolled": true
   },
   "outputs": [
    {
     "ename": "KeyboardInterrupt",
     "evalue": "",
     "output_type": "error",
     "traceback": [
      "\u001b[1;31m---------------------------------------------------------------------------\u001b[0m",
      "\u001b[1;31mKeyboardInterrupt\u001b[0m                         Traceback (most recent call last)",
      "\u001b[1;32m<ipython-input-14-3a018ec9b783>\u001b[0m in \u001b[0;36m<module>\u001b[1;34m\u001b[0m\n\u001b[0;32m      2\u001b[0m \u001b[1;33m\u001b[0m\u001b[0m\n\u001b[0;32m      3\u001b[0m \u001b[0mf\u001b[0m\u001b[1;33m,\u001b[0m\u001b[0max\u001b[0m \u001b[1;33m=\u001b[0m \u001b[0mplt\u001b[0m\u001b[1;33m.\u001b[0m\u001b[0msubplots\u001b[0m\u001b[1;33m(\u001b[0m\u001b[1;36m1\u001b[0m\u001b[1;33m,\u001b[0m\u001b[1;36m2\u001b[0m\u001b[1;33m,\u001b[0m \u001b[0mfigsize\u001b[0m\u001b[1;33m=\u001b[0m\u001b[1;33m(\u001b[0m\u001b[1;36m10\u001b[0m\u001b[1;33m,\u001b[0m\u001b[1;36m4\u001b[0m\u001b[1;33m)\u001b[0m\u001b[1;33m)\u001b[0m\u001b[1;33m\u001b[0m\u001b[1;33m\u001b[0m\u001b[0m\n\u001b[1;32m----> 4\u001b[1;33m \u001b[0msns\u001b[0m\u001b[1;33m.\u001b[0m\u001b[0mbarplot\u001b[0m\u001b[1;33m(\u001b[0m\u001b[0mx\u001b[0m\u001b[1;33m=\u001b[0m\u001b[1;34m'latitude'\u001b[0m\u001b[1;33m,\u001b[0m \u001b[0my\u001b[0m\u001b[1;33m=\u001b[0m\u001b[1;34m'price'\u001b[0m\u001b[1;33m,\u001b[0m  \u001b[0mdata\u001b[0m\u001b[1;33m=\u001b[0m\u001b[0mdf_plot\u001b[0m\u001b[1;33m,\u001b[0m \u001b[0max\u001b[0m\u001b[1;33m=\u001b[0m\u001b[0max\u001b[0m\u001b[1;33m[\u001b[0m\u001b[1;36m0\u001b[0m\u001b[1;33m]\u001b[0m\u001b[1;33m)\u001b[0m\u001b[1;33m\u001b[0m\u001b[1;33m\u001b[0m\u001b[0m\n\u001b[0m\u001b[0;32m      5\u001b[0m \u001b[0msns\u001b[0m\u001b[1;33m.\u001b[0m\u001b[0mbarplot\u001b[0m\u001b[1;33m(\u001b[0m\u001b[0mx\u001b[0m\u001b[1;33m=\u001b[0m\u001b[1;34m'latitude'\u001b[0m\u001b[1;33m,\u001b[0m \u001b[0my\u001b[0m\u001b[1;33m=\u001b[0m\u001b[1;34m'rooms'\u001b[0m\u001b[1;33m,\u001b[0m \u001b[0mdata\u001b[0m\u001b[1;33m=\u001b[0m\u001b[0mdf_plot\u001b[0m\u001b[1;33m,\u001b[0m \u001b[0max\u001b[0m\u001b[1;33m=\u001b[0m\u001b[0max\u001b[0m\u001b[1;33m[\u001b[0m\u001b[1;36m1\u001b[0m\u001b[1;33m]\u001b[0m\u001b[1;33m)\u001b[0m\u001b[1;33m\u001b[0m\u001b[1;33m\u001b[0m\u001b[0m\n\u001b[0;32m      6\u001b[0m \u001b[0mplt\u001b[0m\u001b[1;33m.\u001b[0m\u001b[0mshow\u001b[0m\u001b[1;33m\u001b[0m\u001b[1;33m\u001b[0m\u001b[0m\n",
      "\u001b[1;32mC:\\ProgramData\\Anaconda3\\lib\\site-packages\\seaborn\\categorical.py\u001b[0m in \u001b[0;36mbarplot\u001b[1;34m(x, y, hue, data, order, hue_order, estimator, ci, n_boot, units, seed, orient, color, palette, saturation, errcolor, errwidth, capsize, dodge, ax, **kwargs)\u001b[0m\n\u001b[0;32m   3142\u001b[0m             ax=None, **kwargs):\n\u001b[0;32m   3143\u001b[0m \u001b[1;33m\u001b[0m\u001b[0m\n\u001b[1;32m-> 3144\u001b[1;33m     plotter = _BarPlotter(x, y, hue, data, order, hue_order,\n\u001b[0m\u001b[0;32m   3145\u001b[0m                           \u001b[0mestimator\u001b[0m\u001b[1;33m,\u001b[0m \u001b[0mci\u001b[0m\u001b[1;33m,\u001b[0m \u001b[0mn_boot\u001b[0m\u001b[1;33m,\u001b[0m \u001b[0munits\u001b[0m\u001b[1;33m,\u001b[0m \u001b[0mseed\u001b[0m\u001b[1;33m,\u001b[0m\u001b[1;33m\u001b[0m\u001b[1;33m\u001b[0m\u001b[0m\n\u001b[0;32m   3146\u001b[0m                           \u001b[0morient\u001b[0m\u001b[1;33m,\u001b[0m \u001b[0mcolor\u001b[0m\u001b[1;33m,\u001b[0m \u001b[0mpalette\u001b[0m\u001b[1;33m,\u001b[0m \u001b[0msaturation\u001b[0m\u001b[1;33m,\u001b[0m\u001b[1;33m\u001b[0m\u001b[1;33m\u001b[0m\u001b[0m\n",
      "\u001b[1;32mC:\\ProgramData\\Anaconda3\\lib\\site-packages\\seaborn\\categorical.py\u001b[0m in \u001b[0;36m__init__\u001b[1;34m(self, x, y, hue, data, order, hue_order, estimator, ci, n_boot, units, seed, orient, color, palette, saturation, errcolor, errwidth, capsize, dodge)\u001b[0m\n\u001b[0;32m   1603\u001b[0m                                  order, hue_order, units)\n\u001b[0;32m   1604\u001b[0m         \u001b[0mself\u001b[0m\u001b[1;33m.\u001b[0m\u001b[0mestablish_colors\u001b[0m\u001b[1;33m(\u001b[0m\u001b[0mcolor\u001b[0m\u001b[1;33m,\u001b[0m \u001b[0mpalette\u001b[0m\u001b[1;33m,\u001b[0m \u001b[0msaturation\u001b[0m\u001b[1;33m)\u001b[0m\u001b[1;33m\u001b[0m\u001b[1;33m\u001b[0m\u001b[0m\n\u001b[1;32m-> 1605\u001b[1;33m         \u001b[0mself\u001b[0m\u001b[1;33m.\u001b[0m\u001b[0mestimate_statistic\u001b[0m\u001b[1;33m(\u001b[0m\u001b[0mestimator\u001b[0m\u001b[1;33m,\u001b[0m \u001b[0mci\u001b[0m\u001b[1;33m,\u001b[0m \u001b[0mn_boot\u001b[0m\u001b[1;33m,\u001b[0m \u001b[0mseed\u001b[0m\u001b[1;33m)\u001b[0m\u001b[1;33m\u001b[0m\u001b[1;33m\u001b[0m\u001b[0m\n\u001b[0m\u001b[0;32m   1606\u001b[0m \u001b[1;33m\u001b[0m\u001b[0m\n\u001b[0;32m   1607\u001b[0m         \u001b[0mself\u001b[0m\u001b[1;33m.\u001b[0m\u001b[0mdodge\u001b[0m \u001b[1;33m=\u001b[0m \u001b[0mdodge\u001b[0m\u001b[1;33m\u001b[0m\u001b[1;33m\u001b[0m\u001b[0m\n",
      "\u001b[1;32mC:\\ProgramData\\Anaconda3\\lib\\site-packages\\seaborn\\categorical.py\u001b[0m in \u001b[0;36mestimate_statistic\u001b[1;34m(self, estimator, ci, n_boot, seed)\u001b[0m\n\u001b[0;32m   1502\u001b[0m                     \u001b[1;32melse\u001b[0m\u001b[1;33m:\u001b[0m\u001b[1;33m\u001b[0m\u001b[1;33m\u001b[0m\u001b[0m\n\u001b[0;32m   1503\u001b[0m \u001b[1;33m\u001b[0m\u001b[0m\n\u001b[1;32m-> 1504\u001b[1;33m                         boots = bootstrap(stat_data, func=estimator,\n\u001b[0m\u001b[0;32m   1505\u001b[0m                                           \u001b[0mn_boot\u001b[0m\u001b[1;33m=\u001b[0m\u001b[0mn_boot\u001b[0m\u001b[1;33m,\u001b[0m\u001b[1;33m\u001b[0m\u001b[1;33m\u001b[0m\u001b[0m\n\u001b[0;32m   1506\u001b[0m                                           \u001b[0munits\u001b[0m\u001b[1;33m=\u001b[0m\u001b[0munit_data\u001b[0m\u001b[1;33m,\u001b[0m\u001b[1;33m\u001b[0m\u001b[1;33m\u001b[0m\u001b[0m\n",
      "\u001b[1;32mC:\\ProgramData\\Anaconda3\\lib\\site-packages\\seaborn\\algorithms.py\u001b[0m in \u001b[0;36mbootstrap\u001b[1;34m(*args, **kwargs)\u001b[0m\n\u001b[0;32m     82\u001b[0m     \u001b[1;32mfor\u001b[0m \u001b[0mi\u001b[0m \u001b[1;32min\u001b[0m \u001b[0mrange\u001b[0m\u001b[1;33m(\u001b[0m\u001b[0mint\u001b[0m\u001b[1;33m(\u001b[0m\u001b[0mn_boot\u001b[0m\u001b[1;33m)\u001b[0m\u001b[1;33m)\u001b[0m\u001b[1;33m:\u001b[0m\u001b[1;33m\u001b[0m\u001b[1;33m\u001b[0m\u001b[0m\n\u001b[0;32m     83\u001b[0m         \u001b[0mresampler\u001b[0m \u001b[1;33m=\u001b[0m \u001b[0mintegers\u001b[0m\u001b[1;33m(\u001b[0m\u001b[1;36m0\u001b[0m\u001b[1;33m,\u001b[0m \u001b[0mn\u001b[0m\u001b[1;33m,\u001b[0m \u001b[0mn\u001b[0m\u001b[1;33m,\u001b[0m \u001b[0mdtype\u001b[0m\u001b[1;33m=\u001b[0m\u001b[0mnp\u001b[0m\u001b[1;33m.\u001b[0m\u001b[0mintp\u001b[0m\u001b[1;33m)\u001b[0m  \u001b[1;31m# intp is indexing dtype\u001b[0m\u001b[1;33m\u001b[0m\u001b[1;33m\u001b[0m\u001b[0m\n\u001b[1;32m---> 84\u001b[1;33m         \u001b[0msample\u001b[0m \u001b[1;33m=\u001b[0m \u001b[1;33m[\u001b[0m\u001b[0ma\u001b[0m\u001b[1;33m.\u001b[0m\u001b[0mtake\u001b[0m\u001b[1;33m(\u001b[0m\u001b[0mresampler\u001b[0m\u001b[1;33m,\u001b[0m \u001b[0maxis\u001b[0m\u001b[1;33m=\u001b[0m\u001b[1;36m0\u001b[0m\u001b[1;33m)\u001b[0m \u001b[1;32mfor\u001b[0m \u001b[0ma\u001b[0m \u001b[1;32min\u001b[0m \u001b[0margs\u001b[0m\u001b[1;33m]\u001b[0m\u001b[1;33m\u001b[0m\u001b[1;33m\u001b[0m\u001b[0m\n\u001b[0m\u001b[0;32m     85\u001b[0m         \u001b[0mboot_dist\u001b[0m\u001b[1;33m.\u001b[0m\u001b[0mappend\u001b[0m\u001b[1;33m(\u001b[0m\u001b[0mf\u001b[0m\u001b[1;33m(\u001b[0m\u001b[1;33m*\u001b[0m\u001b[0msample\u001b[0m\u001b[1;33m,\u001b[0m \u001b[1;33m**\u001b[0m\u001b[0mfunc_kwargs\u001b[0m\u001b[1;33m)\u001b[0m\u001b[1;33m)\u001b[0m\u001b[1;33m\u001b[0m\u001b[1;33m\u001b[0m\u001b[0m\n\u001b[0;32m     86\u001b[0m     \u001b[1;32mreturn\u001b[0m \u001b[0mnp\u001b[0m\u001b[1;33m.\u001b[0m\u001b[0marray\u001b[0m\u001b[1;33m(\u001b[0m\u001b[0mboot_dist\u001b[0m\u001b[1;33m)\u001b[0m\u001b[1;33m\u001b[0m\u001b[1;33m\u001b[0m\u001b[0m\n",
      "\u001b[1;32mC:\\ProgramData\\Anaconda3\\lib\\site-packages\\seaborn\\algorithms.py\u001b[0m in \u001b[0;36m<listcomp>\u001b[1;34m(.0)\u001b[0m\n\u001b[0;32m     82\u001b[0m     \u001b[1;32mfor\u001b[0m \u001b[0mi\u001b[0m \u001b[1;32min\u001b[0m \u001b[0mrange\u001b[0m\u001b[1;33m(\u001b[0m\u001b[0mint\u001b[0m\u001b[1;33m(\u001b[0m\u001b[0mn_boot\u001b[0m\u001b[1;33m)\u001b[0m\u001b[1;33m)\u001b[0m\u001b[1;33m:\u001b[0m\u001b[1;33m\u001b[0m\u001b[1;33m\u001b[0m\u001b[0m\n\u001b[0;32m     83\u001b[0m         \u001b[0mresampler\u001b[0m \u001b[1;33m=\u001b[0m \u001b[0mintegers\u001b[0m\u001b[1;33m(\u001b[0m\u001b[1;36m0\u001b[0m\u001b[1;33m,\u001b[0m \u001b[0mn\u001b[0m\u001b[1;33m,\u001b[0m \u001b[0mn\u001b[0m\u001b[1;33m,\u001b[0m \u001b[0mdtype\u001b[0m\u001b[1;33m=\u001b[0m\u001b[0mnp\u001b[0m\u001b[1;33m.\u001b[0m\u001b[0mintp\u001b[0m\u001b[1;33m)\u001b[0m  \u001b[1;31m# intp is indexing dtype\u001b[0m\u001b[1;33m\u001b[0m\u001b[1;33m\u001b[0m\u001b[0m\n\u001b[1;32m---> 84\u001b[1;33m         \u001b[0msample\u001b[0m \u001b[1;33m=\u001b[0m \u001b[1;33m[\u001b[0m\u001b[0ma\u001b[0m\u001b[1;33m.\u001b[0m\u001b[0mtake\u001b[0m\u001b[1;33m(\u001b[0m\u001b[0mresampler\u001b[0m\u001b[1;33m,\u001b[0m \u001b[0maxis\u001b[0m\u001b[1;33m=\u001b[0m\u001b[1;36m0\u001b[0m\u001b[1;33m)\u001b[0m \u001b[1;32mfor\u001b[0m \u001b[0ma\u001b[0m \u001b[1;32min\u001b[0m \u001b[0margs\u001b[0m\u001b[1;33m]\u001b[0m\u001b[1;33m\u001b[0m\u001b[1;33m\u001b[0m\u001b[0m\n\u001b[0m\u001b[0;32m     85\u001b[0m         \u001b[0mboot_dist\u001b[0m\u001b[1;33m.\u001b[0m\u001b[0mappend\u001b[0m\u001b[1;33m(\u001b[0m\u001b[0mf\u001b[0m\u001b[1;33m(\u001b[0m\u001b[1;33m*\u001b[0m\u001b[0msample\u001b[0m\u001b[1;33m,\u001b[0m \u001b[1;33m**\u001b[0m\u001b[0mfunc_kwargs\u001b[0m\u001b[1;33m)\u001b[0m\u001b[1;33m)\u001b[0m\u001b[1;33m\u001b[0m\u001b[1;33m\u001b[0m\u001b[0m\n\u001b[0;32m     86\u001b[0m     \u001b[1;32mreturn\u001b[0m \u001b[0mnp\u001b[0m\u001b[1;33m.\u001b[0m\u001b[0marray\u001b[0m\u001b[1;33m(\u001b[0m\u001b[0mboot_dist\u001b[0m\u001b[1;33m)\u001b[0m\u001b[1;33m\u001b[0m\u001b[1;33m\u001b[0m\u001b[0m\n",
      "\u001b[1;31mKeyboardInterrupt\u001b[0m: "
     ]
    },
    {
     "data": {
      "image/png": "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\n",
      "text/plain": [
       "<Figure size 720x288 with 2 Axes>"
      ]
     },
     "metadata": {
      "needs_background": "light"
     },
     "output_type": "display_data"
    }
   ],
   "source": [
    "import seaborn as sns \n",
    "\n",
    "f,ax = plt.subplots(1,2, figsize=(10,4))\n",
    "sns.barplot(x='latitude', y='price',  data=df_plot, ax=ax[0]) \n",
    "sns.barplot(x='latitude', y='rooms', data=df_plot, ax=ax[1])\n",
    "plt.show"
   ]
  },
  {
   "cell_type": "code",
   "execution_count": 10,
   "metadata": {
    "scrolled": true
   },
   "outputs": [
    {
     "data": {
      "text/plain": [
       "[<matplotlib.lines.Line2D at 0x13096e101c0>]"
      ]
     },
     "execution_count": 10,
     "metadata": {},
     "output_type": "execute_result"
    },
    {
     "data": {
      "image/png": "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\n",
      "text/plain": [
       "<Figure size 432x288 with 1 Axes>"
      ]
     },
     "metadata": {
      "needs_background": "light"
     },
     "output_type": "display_data"
    }
   ],
   "source": [
    "plt.plot(df['price'])"
   ]
  },
  {
   "cell_type": "code",
   "execution_count": 16,
   "metadata": {},
   "outputs": [
    {
     "data": {
      "text/plain": [
       "[<matplotlib.lines.Line2D at 0x13097f59e80>]"
      ]
     },
     "execution_count": 16,
     "metadata": {},
     "output_type": "execute_result"
    },
    {
     "data": {
      "image/png": "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\n",
      "text/plain": [
       "<Figure size 432x288 with 1 Axes>"
      ]
     },
     "metadata": {
      "needs_background": "light"
     },
     "output_type": "display_data"
    }
   ],
   "source": [
    "plt.plot(df['rooms'])"
   ]
  },
  {
   "cell_type": "code",
   "execution_count": 8,
   "metadata": {},
   "outputs": [
    {
     "data": {
      "text/plain": [
       "<matplotlib.axes._subplots.AxesSubplot at 0x13096cc3e80>"
      ]
     },
     "execution_count": 8,
     "metadata": {},
     "output_type": "execute_result"
    },
    {
     "data": {
      "image/png": "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\n",
      "text/plain": [
       "<Figure size 432x288 with 1 Axes>"
      ]
     },
     "metadata": {
      "needs_background": "light"
     },
     "output_type": "display_data"
    }
   ],
   "source": [
    "df['price'].hist(bins=50)"
   ]
  },
  {
   "cell_type": "code",
   "execution_count": 20,
   "metadata": {},
   "outputs": [
    {
     "ename": "TypeError",
     "evalue": "data type \"price\" not understood",
     "output_type": "error",
     "traceback": [
      "\u001b[1;31m---------------------------------------------------------------------------\u001b[0m",
      "\u001b[1;31mTypeError\u001b[0m                                 Traceback (most recent call last)",
      "\u001b[1;32m<ipython-input-20-a70c561c53b6>\u001b[0m in \u001b[0;36m<module>\u001b[1;34m\u001b[0m\n\u001b[1;32m----> 1\u001b[1;33m \u001b[0mdf\u001b[0m\u001b[1;33m.\u001b[0m\u001b[0mdescribe\u001b[0m\u001b[1;33m(\u001b[0m\u001b[0minclude\u001b[0m\u001b[1;33m=\u001b[0m\u001b[1;33m[\u001b[0m\u001b[1;34m'price'\u001b[0m\u001b[1;33m]\u001b[0m\u001b[1;33m)\u001b[0m\u001b[1;33m\u001b[0m\u001b[1;33m\u001b[0m\u001b[0m\n\u001b[0m",
      "\u001b[1;32mC:\\ProgramData\\Anaconda3\\lib\\site-packages\\pandas\\core\\generic.py\u001b[0m in \u001b[0;36mdescribe\u001b[1;34m(self, percentiles, include, exclude)\u001b[0m\n\u001b[0;32m   9934\u001b[0m             \u001b[0mdata\u001b[0m \u001b[1;33m=\u001b[0m \u001b[0mself\u001b[0m\u001b[1;33m\u001b[0m\u001b[1;33m\u001b[0m\u001b[0m\n\u001b[0;32m   9935\u001b[0m         \u001b[1;32melse\u001b[0m\u001b[1;33m:\u001b[0m\u001b[1;33m\u001b[0m\u001b[1;33m\u001b[0m\u001b[0m\n\u001b[1;32m-> 9936\u001b[1;33m             \u001b[0mdata\u001b[0m \u001b[1;33m=\u001b[0m \u001b[0mself\u001b[0m\u001b[1;33m.\u001b[0m\u001b[0mselect_dtypes\u001b[0m\u001b[1;33m(\u001b[0m\u001b[0minclude\u001b[0m\u001b[1;33m=\u001b[0m\u001b[0minclude\u001b[0m\u001b[1;33m,\u001b[0m \u001b[0mexclude\u001b[0m\u001b[1;33m=\u001b[0m\u001b[0mexclude\u001b[0m\u001b[1;33m)\u001b[0m\u001b[1;33m\u001b[0m\u001b[1;33m\u001b[0m\u001b[0m\n\u001b[0m\u001b[0;32m   9937\u001b[0m \u001b[1;33m\u001b[0m\u001b[0m\n\u001b[0;32m   9938\u001b[0m         \u001b[0mldesc\u001b[0m \u001b[1;33m=\u001b[0m \u001b[1;33m[\u001b[0m\u001b[0mdescribe_1d\u001b[0m\u001b[1;33m(\u001b[0m\u001b[0ms\u001b[0m\u001b[1;33m)\u001b[0m \u001b[1;32mfor\u001b[0m \u001b[0m_\u001b[0m\u001b[1;33m,\u001b[0m \u001b[0ms\u001b[0m \u001b[1;32min\u001b[0m \u001b[0mdata\u001b[0m\u001b[1;33m.\u001b[0m\u001b[0mitems\u001b[0m\u001b[1;33m(\u001b[0m\u001b[1;33m)\u001b[0m\u001b[1;33m]\u001b[0m\u001b[1;33m\u001b[0m\u001b[1;33m\u001b[0m\u001b[0m\n",
      "\u001b[1;32mC:\\ProgramData\\Anaconda3\\lib\\site-packages\\pandas\\core\\frame.py\u001b[0m in \u001b[0;36mselect_dtypes\u001b[1;34m(self, include, exclude)\u001b[0m\n\u001b[0;32m   3437\u001b[0m \u001b[1;33m\u001b[0m\u001b[0m\n\u001b[0;32m   3438\u001b[0m         \u001b[1;31m# convert the myriad valid dtypes object to a single representation\u001b[0m\u001b[1;33m\u001b[0m\u001b[1;33m\u001b[0m\u001b[1;33m\u001b[0m\u001b[0m\n\u001b[1;32m-> 3439\u001b[1;33m         \u001b[0minclude\u001b[0m \u001b[1;33m=\u001b[0m \u001b[0mfrozenset\u001b[0m\u001b[1;33m(\u001b[0m\u001b[0minfer_dtype_from_object\u001b[0m\u001b[1;33m(\u001b[0m\u001b[0mx\u001b[0m\u001b[1;33m)\u001b[0m \u001b[1;32mfor\u001b[0m \u001b[0mx\u001b[0m \u001b[1;32min\u001b[0m \u001b[0minclude\u001b[0m\u001b[1;33m)\u001b[0m\u001b[1;33m\u001b[0m\u001b[1;33m\u001b[0m\u001b[0m\n\u001b[0m\u001b[0;32m   3440\u001b[0m         \u001b[0mexclude\u001b[0m \u001b[1;33m=\u001b[0m \u001b[0mfrozenset\u001b[0m\u001b[1;33m(\u001b[0m\u001b[0minfer_dtype_from_object\u001b[0m\u001b[1;33m(\u001b[0m\u001b[0mx\u001b[0m\u001b[1;33m)\u001b[0m \u001b[1;32mfor\u001b[0m \u001b[0mx\u001b[0m \u001b[1;32min\u001b[0m \u001b[0mexclude\u001b[0m\u001b[1;33m)\u001b[0m\u001b[1;33m\u001b[0m\u001b[1;33m\u001b[0m\u001b[0m\n\u001b[0;32m   3441\u001b[0m         \u001b[1;32mfor\u001b[0m \u001b[0mdtypes\u001b[0m \u001b[1;32min\u001b[0m \u001b[1;33m(\u001b[0m\u001b[0minclude\u001b[0m\u001b[1;33m,\u001b[0m \u001b[0mexclude\u001b[0m\u001b[1;33m)\u001b[0m\u001b[1;33m:\u001b[0m\u001b[1;33m\u001b[0m\u001b[1;33m\u001b[0m\u001b[0m\n",
      "\u001b[1;32mC:\\ProgramData\\Anaconda3\\lib\\site-packages\\pandas\\core\\frame.py\u001b[0m in \u001b[0;36m<genexpr>\u001b[1;34m(.0)\u001b[0m\n\u001b[0;32m   3437\u001b[0m \u001b[1;33m\u001b[0m\u001b[0m\n\u001b[0;32m   3438\u001b[0m         \u001b[1;31m# convert the myriad valid dtypes object to a single representation\u001b[0m\u001b[1;33m\u001b[0m\u001b[1;33m\u001b[0m\u001b[1;33m\u001b[0m\u001b[0m\n\u001b[1;32m-> 3439\u001b[1;33m         \u001b[0minclude\u001b[0m \u001b[1;33m=\u001b[0m \u001b[0mfrozenset\u001b[0m\u001b[1;33m(\u001b[0m\u001b[0minfer_dtype_from_object\u001b[0m\u001b[1;33m(\u001b[0m\u001b[0mx\u001b[0m\u001b[1;33m)\u001b[0m \u001b[1;32mfor\u001b[0m \u001b[0mx\u001b[0m \u001b[1;32min\u001b[0m \u001b[0minclude\u001b[0m\u001b[1;33m)\u001b[0m\u001b[1;33m\u001b[0m\u001b[1;33m\u001b[0m\u001b[0m\n\u001b[0m\u001b[0;32m   3440\u001b[0m         \u001b[0mexclude\u001b[0m \u001b[1;33m=\u001b[0m \u001b[0mfrozenset\u001b[0m\u001b[1;33m(\u001b[0m\u001b[0minfer_dtype_from_object\u001b[0m\u001b[1;33m(\u001b[0m\u001b[0mx\u001b[0m\u001b[1;33m)\u001b[0m \u001b[1;32mfor\u001b[0m \u001b[0mx\u001b[0m \u001b[1;32min\u001b[0m \u001b[0mexclude\u001b[0m\u001b[1;33m)\u001b[0m\u001b[1;33m\u001b[0m\u001b[1;33m\u001b[0m\u001b[0m\n\u001b[0;32m   3441\u001b[0m         \u001b[1;32mfor\u001b[0m \u001b[0mdtypes\u001b[0m \u001b[1;32min\u001b[0m \u001b[1;33m(\u001b[0m\u001b[0minclude\u001b[0m\u001b[1;33m,\u001b[0m \u001b[0mexclude\u001b[0m\u001b[1;33m)\u001b[0m\u001b[1;33m:\u001b[0m\u001b[1;33m\u001b[0m\u001b[1;33m\u001b[0m\u001b[0m\n",
      "\u001b[1;32mC:\\ProgramData\\Anaconda3\\lib\\site-packages\\pandas\\core\\dtypes\\common.py\u001b[0m in \u001b[0;36minfer_dtype_from_object\u001b[1;34m(dtype)\u001b[0m\n\u001b[0;32m   1812\u001b[0m             \u001b[1;32mpass\u001b[0m\u001b[1;33m\u001b[0m\u001b[1;33m\u001b[0m\u001b[0m\n\u001b[0;32m   1813\u001b[0m \u001b[1;33m\u001b[0m\u001b[0m\n\u001b[1;32m-> 1814\u001b[1;33m     \u001b[1;32mreturn\u001b[0m \u001b[0minfer_dtype_from_object\u001b[0m\u001b[1;33m(\u001b[0m\u001b[0mnp\u001b[0m\u001b[1;33m.\u001b[0m\u001b[0mdtype\u001b[0m\u001b[1;33m(\u001b[0m\u001b[0mdtype\u001b[0m\u001b[1;33m)\u001b[0m\u001b[1;33m)\u001b[0m\u001b[1;33m\u001b[0m\u001b[1;33m\u001b[0m\u001b[0m\n\u001b[0m\u001b[0;32m   1815\u001b[0m \u001b[1;33m\u001b[0m\u001b[0m\n\u001b[0;32m   1816\u001b[0m \u001b[1;33m\u001b[0m\u001b[0m\n",
      "\u001b[1;31mTypeError\u001b[0m: data type \"price\" not understood"
     ]
    }
   ],
   "source": [
    "df.describe(include=['price'])"
   ]
=======
   "outputs": [],
   "source": []
>>>>>>> 56c7ac93451056bdfa733371d7dcaef3d0791fd9
  }
 ],
 "metadata": {
  "kernelspec": {
   "display_name": "Python 3",
   "language": "python",
   "name": "python3"
  },
  "language_info": {
   "codemirror_mode": {
    "name": "ipython",
    "version": 3
   },
   "file_extension": ".py",
   "mimetype": "text/x-python",
   "name": "python",
   "nbconvert_exporter": "python",
   "pygments_lexer": "ipython3",
   "version": "3.8.3"
  }
 },
 "nbformat": 4,
 "nbformat_minor": 4
}
