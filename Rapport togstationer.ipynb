{
 "cells": [
  {
   "cell_type": "code",
   "execution_count": 1,
   "metadata": {},
   "outputs": [],
   "source": [
    "import pandas as pd \n",
    "from bs4 import BeautifulSoup \n",
    "import numpy as np \n",
    "import seaborn as sns \n",
    "import requests"
   ]
  },
  {
   "cell_type": "code",
   "execution_count": 2,
   "metadata": {
    "scrolled": false
   },
   "outputs": [
    {
     "data": {
      "text/html": [
       "<div>\n",
       "<style scoped>\n",
       "    .dataframe tbody tr th:only-of-type {\n",
       "        vertical-align: middle;\n",
       "    }\n",
       "\n",
       "    .dataframe tbody tr th {\n",
       "        vertical-align: top;\n",
       "    }\n",
       "\n",
       "    .dataframe thead th {\n",
       "        text-align: right;\n",
       "    }\n",
       "</style>\n",
       "<table border=\"1\" class=\"dataframe\">\n",
       "  <thead>\n",
       "    <tr style=\"text-align: right;\">\n",
       "      <th></th>\n",
       "      <th>links</th>\n",
       "    </tr>\n",
       "  </thead>\n",
       "  <tbody>\n",
       "    <tr>\n",
       "      <th>0</th>\n",
       "      <td>vis.station.php?FORLOEB_ID=1326&amp;content=Abildh...</td>\n",
       "    </tr>\n",
       "    <tr>\n",
       "      <th>1</th>\n",
       "      <td>vis.station.php?FORLOEB_ID=1331&amp;content=Adelve...</td>\n",
       "    </tr>\n",
       "    <tr>\n",
       "      <th>2</th>\n",
       "      <td>vis.station.php?FORLOEB_ID=1539&amp;content=Adsbøl...</td>\n",
       "    </tr>\n",
       "    <tr>\n",
       "      <th>3</th>\n",
       "      <td>vis.station.php?FORLOEB_ID=294&amp;content=Agedrup...</td>\n",
       "    </tr>\n",
       "    <tr>\n",
       "      <th>4</th>\n",
       "      <td>vis.station.php?FORLOEB_ID=793&amp;content=Agerbæk...</td>\n",
       "    </tr>\n",
       "    <tr>\n",
       "      <th>...</th>\n",
       "      <td>...</td>\n",
       "    </tr>\n",
       "    <tr>\n",
       "      <th>2171</th>\n",
       "      <td>vis.station.php?FORLOEB_ID=2319&amp;content=Årøsun...</td>\n",
       "    </tr>\n",
       "    <tr>\n",
       "      <th>2172</th>\n",
       "      <td>vis.station.php?FORLOEB_ID=2082&amp;content=Aarøsu...</td>\n",
       "    </tr>\n",
       "    <tr>\n",
       "      <th>2173</th>\n",
       "      <td>vis.station.php?FORLOEB_ID=719&amp;content=Aasbækb...</td>\n",
       "    </tr>\n",
       "    <tr>\n",
       "      <th>2174</th>\n",
       "      <td>vis.station.php?FORLOEB_ID=625&amp;content=Aasen+T...</td>\n",
       "    </tr>\n",
       "    <tr>\n",
       "      <th>2175</th>\n",
       "      <td>vis.station.php?FORLOEB_ID=771&amp;content=Åstrup+...</td>\n",
       "    </tr>\n",
       "  </tbody>\n",
       "</table>\n",
       "<p>2176 rows × 1 columns</p>\n",
       "</div>"
      ],
      "text/plain": [
       "                                                  links\n",
       "0     vis.station.php?FORLOEB_ID=1326&content=Abildh...\n",
       "1     vis.station.php?FORLOEB_ID=1331&content=Adelve...\n",
       "2     vis.station.php?FORLOEB_ID=1539&content=Adsbøl...\n",
       "3     vis.station.php?FORLOEB_ID=294&content=Agedrup...\n",
       "4     vis.station.php?FORLOEB_ID=793&content=Agerbæk...\n",
       "...                                                 ...\n",
       "2171  vis.station.php?FORLOEB_ID=2319&content=Årøsun...\n",
       "2172  vis.station.php?FORLOEB_ID=2082&content=Aarøsu...\n",
       "2173  vis.station.php?FORLOEB_ID=719&content=Aasbækb...\n",
       "2174  vis.station.php?FORLOEB_ID=625&content=Aasen+T...\n",
       "2175  vis.station.php?FORLOEB_ID=771&content=Åstrup+...\n",
       "\n",
       "[2176 rows x 1 columns]"
      ]
     },
     "execution_count": 2,
     "metadata": {},
     "output_type": "execute_result"
    }
   ],
   "source": [
    "urls=[]\n",
    "\n",
    "html=requests.get('https://danskejernbaner.dk/vis.stations.oversigt.php')\n",
    "html=html.text\n",
    "soup=BeautifulSoup(html, 'html.parser')\n",
    "\n",
    "links=soup.find_all(\"a\")\n",
    "\n",
    "for link in links:\n",
    "    if \"vis.station.php?\" in link[\"href\"]:\n",
    "        urls.append(link.attrs[\"href\"])\n",
    "df=pd.DataFrame(urls)      \n",
    "df.columns={\"links\"}\n",
    "df"
   ]
  },
  {
   "cell_type": "code",
   "execution_count": 40,
   "metadata": {
    "scrolled": true
   },
   "outputs": [],
   "source": [
    "import time \n",
    "unusefull=[]\n",
    "list_df =list()\n",
    "new_urls = list()\n",
    "for link in urls:\n",
    "    if \"æ\" or \"Æ\" in link:\n",
    "        link = link.replace(\"æ\",\"%C3%A6\").replace(\"Æ\",\"%C3%A6\")\n",
    "    if \"ø\" or \"Ø\" in link:\n",
    "        link = link.replace(\"ø\",\"%C3%B8\").replace(\"Ø\",\"%C3%B8\")\n",
    "    if \"å\" or \"Å\" in link:\n",
    "        link = link.replace(\"å\",\"%C3%A5\").replace(\"Å\",\"%C3%A5\")\n",
    "    new_urls.append(link)\n",
    "\n",
    "for i in new_urls:\n",
    "    try:\n",
    "        df = pd.read_html(f\"https://danskejernbaner.dk/{i}\", decimal=',')\n",
    "        list_df.append(df)\n",
    "    except:\n",
    "        next  \n",
    "        \n",
    "        \n"
   ]
  },
  {
   "cell_type": "code",
   "execution_count": 49,
   "metadata": {},
   "outputs": [
    {
     "data": {
      "text/plain": [
       "['55.658089', '12.353550']"
      ]
     },
     "execution_count": 49,
     "metadata": {},
     "output_type": "execute_result"
    }
   ],
   "source": [
    "list_df[7][0].set_index(0).loc[\"GPS koordinater\"].tolist()[0].split(\",\")"
   ]
  },
  {
   "cell_type": "code",
   "execution_count": 53,
   "metadata": {
    "scrolled": true
   },
   "outputs": [
    {
     "data": {
      "text/html": [
       "<div>\n",
       "<style scoped>\n",
       "    .dataframe tbody tr th:only-of-type {\n",
       "        vertical-align: middle;\n",
       "    }\n",
       "\n",
       "    .dataframe tbody tr th {\n",
       "        vertical-align: top;\n",
       "    }\n",
       "\n",
       "    .dataframe thead th {\n",
       "        text-align: right;\n",
       "    }\n",
       "</style>\n",
       "<table border=\"1\" class=\"dataframe\">\n",
       "  <thead>\n",
       "    <tr style=\"text-align: right;\">\n",
       "      <th></th>\n",
       "      <th>lon</th>\n",
       "      <th>lat</th>\n",
       "    </tr>\n",
       "  </thead>\n",
       "  <tbody>\n",
       "    <tr>\n",
       "      <th>0</th>\n",
       "      <td>55.658215</td>\n",
       "      <td>8.730940</td>\n",
       "    </tr>\n",
       "    <tr>\n",
       "      <th>1</th>\n",
       "      <td>55.751927</td>\n",
       "      <td>8.717152</td>\n",
       "    </tr>\n",
       "    <tr>\n",
       "      <th>2</th>\n",
       "      <td>54.937063</td>\n",
       "      <td>9.612413</td>\n",
       "    </tr>\n",
       "    <tr>\n",
       "      <th>3</th>\n",
       "      <td>55.429704</td>\n",
       "      <td>10.488886</td>\n",
       "    </tr>\n",
       "    <tr>\n",
       "      <th>4</th>\n",
       "      <td>55.602028</td>\n",
       "      <td>8.805512</td>\n",
       "    </tr>\n",
       "  </tbody>\n",
       "</table>\n",
       "</div>"
      ],
      "text/plain": [
       "         lon        lat\n",
       "0  55.658215   8.730940\n",
       "1  55.751927   8.717152\n",
       "2  54.937063   9.612413\n",
       "3  55.429704  10.488886\n",
       "4  55.602028   8.805512"
      ]
     },
     "execution_count": 53,
     "metadata": {},
     "output_type": "execute_result"
    }
   ],
   "source": [
    "final_list=[]\n",
    "\n",
    "\n",
    "lon = list()\n",
    "lat = list()\n",
    "\n",
    "for i in range(len(list_df)):\n",
    "    try:\n",
    "        if list_df[i][0].iloc[2][1] == 'I drift':\n",
    "            final_list.append(i)\n",
    "    except:\n",
    "        next\n",
    "        \n",
    "for i in range(len(final_list)):\n",
    "    lon.append(list_df[i][0].set_index(0).loc[\"GPS koordinater\"].tolist()[0].split(\",\")[0])\n",
    "    lat.append(list_df[i][0].set_index(0).loc[\"GPS koordinater\"].tolist()[0].split(\",\")[1])\n",
    "    \n",
    "final_df = pd.DataFrame({\"lon\":lon,\"lat\":lat})\n",
    "final_df.head()\n"
   ]
  },
  {
   "cell_type": "code",
   "execution_count": 54,
   "metadata": {},
   "outputs": [
    {
     "data": {
      "text/plain": [
       "(480, 2)"
      ]
     },
     "execution_count": 54,
     "metadata": {},
     "output_type": "execute_result"
    }
   ],
   "source": [
    "final_df.shape"
   ]
  },
  {
   "cell_type": "code",
   "execution_count": 55,
   "metadata": {},
   "outputs": [],
   "source": [
    "final_df.to_csv(\"stationsdata\")"
   ]
  },
  {
   "cell_type": "code",
   "execution_count": 59,
   "metadata": {},
   "outputs": [
    {
     "ename": "SyntaxError",
     "evalue": "invalid syntax (<ipython-input-59-113dcbbffef0>, line 6)",
     "output_type": "error",
     "traceback": [
      "\u001b[1;36m  File \u001b[1;32m\"<ipython-input-59-113dcbbffef0>\"\u001b[1;36m, line \u001b[1;32m6\u001b[0m\n\u001b[1;33m    for i, h in #fredes dokument (lon,lat):\u001b[0m\n\u001b[1;37m                ^\u001b[0m\n\u001b[1;31mSyntaxError\u001b[0m\u001b[1;31m:\u001b[0m invalid syntax\n"
     ]
    }
   ],
   "source": [
    "#benytter GEOPY til at beregne afstand: \n",
    "#først merge dokumenterne \n",
    "from geopy.distance import geodesic\n",
    "\n",
    "for i, h in #fredes dokument (lon,lat):\n",
    "    location = (i[\"lon\"], h[\"lat\"])\n",
    "    df[\"distance\"] = df.apply(lambda final_df:geodesic((final_df[\"Lon\"], final_df[\"Lat\"]), location, axis=1)\n",
    "    m=min(df[\"distance\"])\n",
    "    df[\"distance\"] = df.apply(lambda x:geodesic((x[\"Latitude\"], x[\"Longitude\"]), location), axis=1)\n",
    "    "
   ]
  },
  {
   "cell_type": "code",
   "execution_count": 70,
   "metadata": {},
   "outputs": [
    {
     "data": {
      "text/plain": [
       "0    13.748182799073302 km\n",
       "1    12.519555035527109 km\n",
       "2    11.848856269639601 km\n",
       "3    18.100165573313678 km\n",
       "4    13.044739896967613 km\n",
       "Name: distance, dtype: object"
      ]
     },
     "execution_count": 70,
     "metadata": {},
     "output_type": "execute_result"
    }
   ],
   "source": [
    "#original som virker \n",
    "\n",
    "df = pd.DataFrame({'Latitude':[47.5112, 47.7210, 47.7379, 47.5208, 47.6168],\n",
    "                    'Longitude':[-122.257, -122.319, -122.233, -122.393, -122.045]})\n",
    "\n",
    "location = (47.631872, -122.217109)\n",
    "df[\"distance\"] = df.apply(lambda x:geodesic((x[\"Latitude\"], x[\"Longitude\"]), location), axis=1)\n",
    "\n",
    "df[\"distance\"]"
   ]
  }
 ],
 "metadata": {
  "kernelspec": {
   "display_name": "Python 3",
   "language": "python",
   "name": "python3"
  },
  "language_info": {
   "codemirror_mode": {
    "name": "ipython",
    "version": 3
   },
   "file_extension": ".py",
   "mimetype": "text/x-python",
   "name": "python",
   "nbconvert_exporter": "python",
   "pygments_lexer": "ipython3",
   "version": "3.8.3"
  }
 },
 "nbformat": 4,
 "nbformat_minor": 4
}
